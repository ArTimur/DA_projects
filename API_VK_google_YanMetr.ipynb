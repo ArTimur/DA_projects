{
 "cells": [
  {
   "cell_type": "code",
   "execution_count": 11,
   "metadata": {},
   "outputs": [],
   "source": [
    "import pandas as pd\n",
    "import vk_api\n",
    "import requests\n",
    "import json\n",
    "import random\n",
    "import gspread\n",
    "from df2gspread import df2gspread as d2g\n",
    "from oauth2client.service_account import ServiceAccountCredentials"
   ]
  },
  {
   "attachments": {},
   "cell_type": "markdown",
   "metadata": {},
   "source": [
    "# VK"
   ]
  },
  {
   "attachments": {},
   "cell_type": "markdown",
   "metadata": {},
   "source": [
    "## отправка обычного сообщения"
   ]
  },
  {
   "cell_type": "code",
   "execution_count": 17,
   "metadata": {},
   "outputs": [],
   "source": [
    "# ВК токен\n",
    "token = open(\"VK_token.txt\").read()\n",
    "app_token = token\n",
    "\n",
    "# id чата\n",
    "chat_id = 1\n",
    "\n",
    "# id кому отправляем\n",
    "my_id = 4596223\n",
    "\n",
    "# инициализация сессии\n",
    "vk_session = vk_api.VkApi(token=app_token)\n",
    "\n",
    "# использование методов vk как python\n",
    "vk = vk_session.get_api()\n",
    "\n"
   ]
  },
  {
   "cell_type": "code",
   "execution_count": 18,
   "metadata": {},
   "outputs": [
    {
     "data": {
      "text/plain": [
       "15"
      ]
     },
     "execution_count": 18,
     "metadata": {},
     "output_type": "execute_result"
    }
   ],
   "source": [
    "vk.messages.send(\n",
    "    #chat_id=chat_id, если надо отправить в чат\n",
    "    user_id=my_id, # если надо отправить лично себе\n",
    "    random_id=random.randint(1, 2 ** 31),\n",
    "    message='Это тестовое сообщение через API')"
   ]
  },
  {
   "attachments": {},
   "cell_type": "markdown",
   "metadata": {},
   "source": [
    "## отправка файла"
   ]
  },
  {
   "cell_type": "code",
   "execution_count": 12,
   "metadata": {},
   "outputs": [
    {
     "data": {
      "text/plain": [
       "14"
      ]
     },
     "execution_count": 12,
     "metadata": {},
     "output_type": "execute_result"
    }
   ],
   "source": [
    "# указание пути к файлу и название файла в чате\n",
    "path_to_file = 'C:/Users/Администратор/html practice/Artur.jpg'\n",
    "file_name = 'Artur.jpg'\n",
    "\n",
    "upload_url = vk.docs.getMessagesUploadServer(peer_id=my_id)[\"upload_url\"]\n",
    "file = {'file': (file_name, open(path_to_file, 'rb'))}\n",
    "\n",
    "# запрос на пост файла  \n",
    "response = requests.post(upload_url, files=file)\n",
    "\n",
    "json_data = json.loads(response.text)\n",
    "\n",
    "saved_file = vk.docs.save(file=json_data['file'], title=file_name)\n",
    "attachment = 'doc{}_{}'.format(saved_file['doc']['owner_id'], saved_file['doc']['id'])\n",
    "\n",
    "vk.messages.send(\n",
    "    chat_id=chat_id,  # id of chat where to send\n",
    "    random_id=random.randint(1, 2 ** 31),  # random number for message identification\n",
    "    message='Смотри новое фото',  # message text, optional here\n",
    "    attachment=attachment)  # attachment name"
   ]
  },
  {
   "attachments": {},
   "cell_type": "markdown",
   "metadata": {},
   "source": [
    "# gSheets"
   ]
  },
  {
   "attachments": {},
   "cell_type": "markdown",
   "metadata": {},
   "source": [
    "## Вытащить данные с gsheets"
   ]
  },
  {
   "cell_type": "code",
   "execution_count": 28,
   "metadata": {},
   "outputs": [],
   "source": [
    "# путь к кредам\n",
    "path_to_credential = 'western-dolphin-357814-d9d65046f86c.json' \n",
    "\n",
    "# название таблицы на диске\n",
    "table_name = 'ss_api_test'\n",
    "\n",
    "scope = ['https://spreadsheets.google.com/feeds',\n",
    "         'https://www.googleapis.com/auth/drive']\n",
    "\n",
    "credentials = ServiceAccountCredentials.from_json_keyfile_name(path_to_credential, scope)\n",
    "\n",
    "gs = gspread.authorize(credentials)\n",
    "work_sheet = gs.open(table_name)\n",
    "\n",
    "# выбрать первый лист\n",
    "sheet1 = work_sheet.get_worksheet(0)\n",
    "\n",
    "# стянуть все данные с листа\n",
    "data = sheet1.get_all_values()\n",
    "\n",
    "# заголовки\n",
    "headers = data.pop(0)\n",
    "\n",
    "# создать датафрейм\n",
    "df = pd.DataFrame(data, columns=headers)"
   ]
  },
  {
   "cell_type": "code",
   "execution_count": 29,
   "metadata": {},
   "outputs": [
    {
     "data": {
      "text/html": [
       "<div>\n",
       "<style scoped>\n",
       "    .dataframe tbody tr th:only-of-type {\n",
       "        vertical-align: middle;\n",
       "    }\n",
       "\n",
       "    .dataframe tbody tr th {\n",
       "        vertical-align: top;\n",
       "    }\n",
       "\n",
       "    .dataframe thead th {\n",
       "        text-align: right;\n",
       "    }\n",
       "</style>\n",
       "<table border=\"1\" class=\"dataframe\">\n",
       "  <thead>\n",
       "    <tr style=\"text-align: right;\">\n",
       "      <th></th>\n",
       "      <th>num</th>\n",
       "      <th>name</th>\n",
       "    </tr>\n",
       "  </thead>\n",
       "  <tbody>\n",
       "    <tr>\n",
       "      <th>0</th>\n",
       "      <td>1</td>\n",
       "      <td>Anna</td>\n",
       "    </tr>\n",
       "    <tr>\n",
       "      <th>1</th>\n",
       "      <td>2</td>\n",
       "      <td>Timur</td>\n",
       "    </tr>\n",
       "    <tr>\n",
       "      <th>2</th>\n",
       "      <td>3</td>\n",
       "      <td>Artur</td>\n",
       "    </tr>\n",
       "    <tr>\n",
       "      <th>3</th>\n",
       "      <td>4</td>\n",
       "      <td>Alexey</td>\n",
       "    </tr>\n",
       "  </tbody>\n",
       "</table>\n",
       "</div>"
      ],
      "text/plain": [
       "  num    name\n",
       "0   1    Anna\n",
       "1   2   Timur\n",
       "2   3   Artur\n",
       "3   4  Alexey"
      ]
     },
     "execution_count": 29,
     "metadata": {},
     "output_type": "execute_result"
    }
   ],
   "source": [
    "df"
   ]
  },
  {
   "attachments": {},
   "cell_type": "markdown",
   "metadata": {},
   "source": [
    "## Редактировать/добавить значения"
   ]
  },
  {
   "cell_type": "code",
   "execution_count": 21,
   "metadata": {},
   "outputs": [
    {
     "data": {
      "text/plain": [
       "{'spreadsheetId': '1JITA_6CcD4jMqPzdXNkJlEI_Y3SrPU21vtFEZmXlFWo',\n",
       " 'tableRange': \"'Лист1'!A1:B3\",\n",
       " 'updates': {'spreadsheetId': '1JITA_6CcD4jMqPzdXNkJlEI_Y3SrPU21vtFEZmXlFWo',\n",
       "  'updatedRange': \"'Лист1'!A4:B4\",\n",
       "  'updatedRows': 1,\n",
       "  'updatedColumns': 2,\n",
       "  'updatedCells': 2}}"
      ]
     },
     "execution_count": 21,
     "metadata": {},
     "output_type": "execute_result"
    }
   ],
   "source": [
    "sheet1.append_row([4, 'Alexey'])"
   ]
  },
  {
   "attachments": {},
   "cell_type": "markdown",
   "metadata": {},
   "source": [
    "## Загрузить данные в sheets"
   ]
  },
  {
   "cell_type": "code",
   "execution_count": 23,
   "metadata": {},
   "outputs": [
    {
     "data": {
      "text/plain": [
       "<Worksheet 'лист созданный через API' id:1058089418>"
      ]
     },
     "execution_count": 23,
     "metadata": {},
     "output_type": "execute_result"
    }
   ],
   "source": [
    "# куда подгрузить данные\n",
    "spreadsheet_name = '1JITA_6CcD4jMqPzdXNkJlEI_Y3SrPU21vtFEZmXlFWo' # \"id table_name\"\n",
    "sheet = 'лист созданный через API'\n",
    "\n",
    "# загрузка данных\n",
    "d2g.upload(df, spreadsheet_name, sheet, credentials=credentials, row_names=False)"
   ]
  },
  {
   "attachments": {},
   "cell_type": "markdown",
   "metadata": {},
   "source": [
    "## Создание новых таблиц"
   ]
  },
  {
   "cell_type": "code",
   "execution_count": 30,
   "metadata": {},
   "outputs": [],
   "source": [
    "# указание названия файла и путь\n",
    "sheet = gs.create('create_by_gsAPI')\n",
    "spreadsheet_url = \"https://docs.google.com/spreadsheets/d/%s\" % sheet.id\n",
    "\n",
    "# предоставление доступа пользователям\n",
    "my_mail = \"mrtimmag@gmail.com\"\n",
    "sheet.share(my_mail, perm_type='user', role='writer')"
   ]
  },
  {
   "cell_type": "code",
   "execution_count": 31,
   "metadata": {},
   "outputs": [
    {
     "data": {
      "text/plain": [
       "'https://docs.google.com/spreadsheets/d/1DQHx1D4L-bUs3OcAafUR57t5OwUV8nq6olo1Sk6quLg'"
      ]
     },
     "execution_count": 31,
     "metadata": {},
     "output_type": "execute_result"
    }
   ],
   "source": [
    "# ссылка на файл\n",
    "spreadsheet_url"
   ]
  },
  {
   "attachments": {},
   "cell_type": "markdown",
   "metadata": {},
   "source": [
    "# Yandex Metrika"
   ]
  },
  {
   "cell_type": "code",
   "execution_count": 35,
   "metadata": {},
   "outputs": [
    {
     "data": {
      "text/html": [
       "<div>\n",
       "<style scoped>\n",
       "    .dataframe tbody tr th:only-of-type {\n",
       "        vertical-align: middle;\n",
       "    }\n",
       "\n",
       "    .dataframe tbody tr th {\n",
       "        vertical-align: top;\n",
       "    }\n",
       "\n",
       "    .dataframe thead th {\n",
       "        text-align: right;\n",
       "    }\n",
       "</style>\n",
       "<table border=\"1\" class=\"dataframe\">\n",
       "  <thead>\n",
       "    <tr style=\"text-align: right;\">\n",
       "      <th></th>\n",
       "      <th>date</th>\n",
       "      <th>visits</th>\n",
       "      <th>type</th>\n",
       "    </tr>\n",
       "  </thead>\n",
       "  <tbody>\n",
       "    <tr>\n",
       "      <th>0</th>\n",
       "      <td>2023-01-22</td>\n",
       "      <td>People</td>\n",
       "      <td>351.0</td>\n",
       "    </tr>\n",
       "    <tr>\n",
       "      <th>1</th>\n",
       "      <td>2023-01-22</td>\n",
       "      <td>Robots</td>\n",
       "      <td>28.0</td>\n",
       "    </tr>\n",
       "  </tbody>\n",
       "</table>\n",
       "</div>"
      ],
      "text/plain": [
       "         date  visits   type\n",
       "0  2023-01-22  People  351.0\n",
       "1  2023-01-22  Robots   28.0"
      ]
     },
     "execution_count": 35,
     "metadata": {},
     "output_type": "execute_result"
    }
   ],
   "source": [
    "# url к сервису\n",
    "url = 'https://api-metrika.yandex.net/stat/v1/data?'\n",
    "\n",
    "# параметры из документации\n",
    "visits = \"metrics=ym:s:visits&dimensions=ym:s:date&filters=ym:s:date=='2023-01-22'&dimensions=ym:s:isRobot&id=44147844\"\n",
    "url = url + visits\n",
    "\n",
    "# Get запрос и обработка полученного json\n",
    "query = requests.get(url)\n",
    "json_data = json.loads(query.text)\n",
    "\n",
    "# создание df\n",
    "visits_data = pd.DataFrame([(\n",
    "                             i['dimensions'][0]['name'],\n",
    "                             i['dimensions'][1]['name'],\n",
    "                             i['metrics'][0]) for i in json_data['data']], \n",
    "                           columns=['date', 'visits', 'type'])\n",
    "\n",
    "visits_data"
   ]
  }
 ],
 "metadata": {
  "kernelspec": {
   "display_name": "base",
   "language": "python",
   "name": "python3"
  },
  "language_info": {
   "codemirror_mode": {
    "name": "ipython",
    "version": 3
   },
   "file_extension": ".py",
   "mimetype": "text/x-python",
   "name": "python",
   "nbconvert_exporter": "python",
   "pygments_lexer": "ipython3",
   "version": "3.9.12"
  },
  "orig_nbformat": 4,
  "vscode": {
   "interpreter": {
    "hash": "6f5583cf1d9466b5c27e75c89cc6b383bed5736d6b16c51c8074d8690011a952"
   }
  }
 },
 "nbformat": 4,
 "nbformat_minor": 2
}
