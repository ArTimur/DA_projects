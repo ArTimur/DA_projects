{
 "cells": [
  {
   "attachments": {},
   "cell_type": "markdown",
   "metadata": {},
   "source": [
    "Перед вами данные взаимодействий с рекламными объявлениями на некоторой площадке за 6 дней. И таблица с характеристиками рекламных клиентов (тех, кто разместил эти объявления).\n",
    "\n",
    "`ads_data.csv `– данные взаимодействий с рекламными объявлениями  \n",
    "`ads_clients_data.csv` – характеристики рекламных клиентов"
   ]
  },
  {
   "cell_type": "code",
   "execution_count": 129,
   "metadata": {},
   "outputs": [],
   "source": [
    "import pandas as pd\n",
    "import numpy as np\n",
    "import seaborn as sns\n",
    "import matplotlib.pyplot as plt\n",
    "import matplotlib.dates as mdates\n",
    "import plotly.express as px"
   ]
  },
  {
   "cell_type": "code",
   "execution_count": 130,
   "metadata": {},
   "outputs": [],
   "source": [
    "# настройки отображения графика\n",
    "sns.set(\n",
    "    font_scale=2,\n",
    "    style=\"whitegrid\",\n",
    "    rc={'figure.figsize':(20,7)}\n",
    "        )"
   ]
  },
  {
   "attachments": {},
   "cell_type": "markdown",
   "metadata": {},
   "source": [
    "- time – время\n",
    "- date – дата\n",
    "- event – действие (просмотр/клик)\n",
    "- platform – платформа\n",
    "- ad_id – id объявления\n",
    "- client_union_id – id рекламного кабинета\n",
    "- campaign_union_id – id рекламной кампании\n",
    "- ad_cost_type – тип оплаты\n",
    "- ad_cost – цена\n",
    "- has_video – есть ли видео\n",
    "- target_audience_count – размер аудитории\n"
   ]
  },
  {
   "cell_type": "code",
   "execution_count": 131,
   "metadata": {},
   "outputs": [
    {
     "data": {
      "text/html": [
       "<div>\n",
       "<style scoped>\n",
       "    .dataframe tbody tr th:only-of-type {\n",
       "        vertical-align: middle;\n",
       "    }\n",
       "\n",
       "    .dataframe tbody tr th {\n",
       "        vertical-align: top;\n",
       "    }\n",
       "\n",
       "    .dataframe thead th {\n",
       "        text-align: right;\n",
       "    }\n",
       "</style>\n",
       "<table border=\"1\" class=\"dataframe\">\n",
       "  <thead>\n",
       "    <tr style=\"text-align: right;\">\n",
       "      <th></th>\n",
       "      <th>date</th>\n",
       "      <th>time</th>\n",
       "      <th>event</th>\n",
       "      <th>platform</th>\n",
       "      <th>ad_id</th>\n",
       "      <th>client_union_id</th>\n",
       "      <th>campaign_union_id</th>\n",
       "      <th>ad_cost_type</th>\n",
       "      <th>ad_cost</th>\n",
       "      <th>has_video</th>\n",
       "      <th>target_audience_count</th>\n",
       "    </tr>\n",
       "  </thead>\n",
       "  <tbody>\n",
       "    <tr>\n",
       "      <th>0</th>\n",
       "      <td>2019-04-01</td>\n",
       "      <td>2019-04-01 00:00:48</td>\n",
       "      <td>view</td>\n",
       "      <td>android</td>\n",
       "      <td>45061</td>\n",
       "      <td>34734</td>\n",
       "      <td>45061</td>\n",
       "      <td>CPM</td>\n",
       "      <td>200.6</td>\n",
       "      <td>0</td>\n",
       "      <td>1955269</td>\n",
       "    </tr>\n",
       "    <tr>\n",
       "      <th>1</th>\n",
       "      <td>2019-04-01</td>\n",
       "      <td>2019-04-01 00:00:48</td>\n",
       "      <td>view</td>\n",
       "      <td>web</td>\n",
       "      <td>121288</td>\n",
       "      <td>121288</td>\n",
       "      <td>121288</td>\n",
       "      <td>CPM</td>\n",
       "      <td>187.4</td>\n",
       "      <td>0</td>\n",
       "      <td>232011</td>\n",
       "    </tr>\n",
       "    <tr>\n",
       "      <th>2</th>\n",
       "      <td>2019-04-01</td>\n",
       "      <td>2019-04-01 00:01:03</td>\n",
       "      <td>view</td>\n",
       "      <td>android</td>\n",
       "      <td>102737</td>\n",
       "      <td>102535</td>\n",
       "      <td>102564</td>\n",
       "      <td>CPC</td>\n",
       "      <td>60.7</td>\n",
       "      <td>0</td>\n",
       "      <td>4410</td>\n",
       "    </tr>\n",
       "    <tr>\n",
       "      <th>3</th>\n",
       "      <td>2019-04-01</td>\n",
       "      <td>2019-04-01 00:01:03</td>\n",
       "      <td>view</td>\n",
       "      <td>android</td>\n",
       "      <td>107564</td>\n",
       "      <td>106914</td>\n",
       "      <td>107564</td>\n",
       "      <td>CPM</td>\n",
       "      <td>217.3</td>\n",
       "      <td>0</td>\n",
       "      <td>62711</td>\n",
       "    </tr>\n",
       "    <tr>\n",
       "      <th>4</th>\n",
       "      <td>2019-04-01</td>\n",
       "      <td>2019-04-01 00:01:09</td>\n",
       "      <td>view</td>\n",
       "      <td>android</td>\n",
       "      <td>4922</td>\n",
       "      <td>37</td>\n",
       "      <td>4400</td>\n",
       "      <td>CPC</td>\n",
       "      <td>60.1</td>\n",
       "      <td>0</td>\n",
       "      <td>1183501</td>\n",
       "    </tr>\n",
       "  </tbody>\n",
       "</table>\n",
       "</div>"
      ],
      "text/plain": [
       "         date                 time event platform   ad_id  client_union_id  \\\n",
       "0  2019-04-01  2019-04-01 00:00:48  view  android   45061            34734   \n",
       "1  2019-04-01  2019-04-01 00:00:48  view      web  121288           121288   \n",
       "2  2019-04-01  2019-04-01 00:01:03  view  android  102737           102535   \n",
       "3  2019-04-01  2019-04-01 00:01:03  view  android  107564           106914   \n",
       "4  2019-04-01  2019-04-01 00:01:09  view  android    4922               37   \n",
       "\n",
       "   campaign_union_id ad_cost_type  ad_cost  has_video  target_audience_count  \n",
       "0              45061          CPM    200.6          0                1955269  \n",
       "1             121288          CPM    187.4          0                 232011  \n",
       "2             102564          CPC     60.7          0                   4410  \n",
       "3             107564          CPM    217.3          0                  62711  \n",
       "4               4400          CPC     60.1          0                1183501  "
      ]
     },
     "execution_count": 131,
     "metadata": {},
     "output_type": "execute_result"
    }
   ],
   "source": [
    "ads_data = pd.read_csv('ads_data.csv')\n",
    "ads_data.head()"
   ]
  },
  {
   "attachments": {},
   "cell_type": "markdown",
   "metadata": {},
   "source": [
    "- date – дата\n",
    "- client_union_id – id рекламного кабинета\n",
    "- community_id – id сообщества\n",
    "- create_date – дата создания рекламного клиента"
   ]
  },
  {
   "cell_type": "code",
   "execution_count": 133,
   "metadata": {},
   "outputs": [
    {
     "data": {
      "text/html": [
       "<div>\n",
       "<style scoped>\n",
       "    .dataframe tbody tr th:only-of-type {\n",
       "        vertical-align: middle;\n",
       "    }\n",
       "\n",
       "    .dataframe tbody tr th {\n",
       "        vertical-align: top;\n",
       "    }\n",
       "\n",
       "    .dataframe thead th {\n",
       "        text-align: right;\n",
       "    }\n",
       "</style>\n",
       "<table border=\"1\" class=\"dataframe\">\n",
       "  <thead>\n",
       "    <tr style=\"text-align: right;\">\n",
       "      <th></th>\n",
       "      <th>date</th>\n",
       "      <th>client_union_id</th>\n",
       "      <th>community_id</th>\n",
       "      <th>create_date</th>\n",
       "    </tr>\n",
       "  </thead>\n",
       "  <tbody>\n",
       "    <tr>\n",
       "      <th>0</th>\n",
       "      <td>2020-05-07</td>\n",
       "      <td>1</td>\n",
       "      <td>-130371893</td>\n",
       "      <td>2018-12-24</td>\n",
       "    </tr>\n",
       "    <tr>\n",
       "      <th>1</th>\n",
       "      <td>2020-05-07</td>\n",
       "      <td>2</td>\n",
       "      <td>-130304626</td>\n",
       "      <td>2019-02-10</td>\n",
       "    </tr>\n",
       "    <tr>\n",
       "      <th>2</th>\n",
       "      <td>2020-05-07</td>\n",
       "      <td>3</td>\n",
       "      <td>-130462599</td>\n",
       "      <td>2019-01-25</td>\n",
       "    </tr>\n",
       "    <tr>\n",
       "      <th>3</th>\n",
       "      <td>2020-05-07</td>\n",
       "      <td>4</td>\n",
       "      <td>-130574300</td>\n",
       "      <td>2018-12-09</td>\n",
       "    </tr>\n",
       "    <tr>\n",
       "      <th>4</th>\n",
       "      <td>2020-05-07</td>\n",
       "      <td>5</td>\n",
       "      <td>-130292358</td>\n",
       "      <td>2019-01-08</td>\n",
       "    </tr>\n",
       "  </tbody>\n",
       "</table>\n",
       "</div>"
      ],
      "text/plain": [
       "         date  client_union_id  community_id create_date\n",
       "0  2020-05-07                1    -130371893  2018-12-24\n",
       "1  2020-05-07                2    -130304626  2019-02-10\n",
       "2  2020-05-07                3    -130462599  2019-01-25\n",
       "3  2020-05-07                4    -130574300  2018-12-09\n",
       "4  2020-05-07                5    -130292358  2019-01-08"
      ]
     },
     "execution_count": 133,
     "metadata": {},
     "output_type": "execute_result"
    }
   ],
   "source": [
    "ads_clients_data = pd.read_csv('ads_clients_data.csv')\n",
    "ads_clients_data.head()"
   ]
  },
  {
   "cell_type": "code",
   "execution_count": 134,
   "metadata": {},
   "outputs": [
    {
     "name": "stdout",
     "output_type": "stream",
     "text": [
      "<class 'pandas.core.frame.DataFrame'>\n",
      "RangeIndex: 122078 entries, 0 to 122077\n",
      "Data columns (total 4 columns):\n",
      " #   Column           Non-Null Count   Dtype \n",
      "---  ------           --------------   ----- \n",
      " 0   date             122078 non-null  object\n",
      " 1   client_union_id  122078 non-null  int64 \n",
      " 2   community_id     122078 non-null  int64 \n",
      " 3   create_date      122078 non-null  object\n",
      "dtypes: int64(2), object(2)\n",
      "memory usage: 3.7+ MB\n"
     ]
    }
   ],
   "source": [
    "ads_clients_data.info()"
   ]
  },
  {
   "attachments": {},
   "cell_type": "markdown",
   "metadata": {},
   "source": [
    "Для начала посчитаем среднее количество разных рекламных событий (показы и клики) по объявлениям."
   ]
  },
  {
   "cell_type": "code",
   "execution_count": 136,
   "metadata": {},
   "outputs": [
    {
     "data": {
      "text/plain": [
       "      event\n",
       "time  click    113.14\n",
       "      view     923.13\n",
       "dtype: float64"
      ]
     },
     "execution_count": 136,
     "metadata": {},
     "output_type": "execute_result"
    }
   ],
   "source": [
    "ads_data.groupby(['ad_id', 'event'], as_index=False) \\\n",
    "    .agg({'time' : 'count'}) \\\n",
    "    .pivot(columns='event', values=['time'], index='ad_id') \\\n",
    "    .fillna(0) \\\n",
    "    .mean().round(2)"
   ]
  },
  {
   "cell_type": "code",
   "execution_count": 137,
   "metadata": {},
   "outputs": [],
   "source": [
    "click_and_view = ads_data.groupby(['ad_id', 'event'], as_index=False) \\\n",
    "    .agg({'time' : 'count'}) \\\n",
    "    .pivot(columns='event', values=['time'], index='ad_id') \\\n",
    "    .fillna(0)"
   ]
  },
  {
   "cell_type": "code",
   "execution_count": 138,
   "metadata": {},
   "outputs": [],
   "source": [
    "click_and_view.columns = ['click', 'view']"
   ]
  },
  {
   "cell_type": "code",
   "execution_count": 139,
   "metadata": {},
   "outputs": [
    {
     "data": {
      "text/html": [
       "<div>\n",
       "<style scoped>\n",
       "    .dataframe tbody tr th:only-of-type {\n",
       "        vertical-align: middle;\n",
       "    }\n",
       "\n",
       "    .dataframe tbody tr th {\n",
       "        vertical-align: top;\n",
       "    }\n",
       "\n",
       "    .dataframe thead th {\n",
       "        text-align: right;\n",
       "    }\n",
       "</style>\n",
       "<table border=\"1\" class=\"dataframe\">\n",
       "  <thead>\n",
       "    <tr style=\"text-align: right;\">\n",
       "      <th></th>\n",
       "      <th>ad_id</th>\n",
       "      <th>click</th>\n",
       "      <th>view</th>\n",
       "    </tr>\n",
       "  </thead>\n",
       "  <tbody>\n",
       "    <tr>\n",
       "      <th>0</th>\n",
       "      <td>2</td>\n",
       "      <td>1.0</td>\n",
       "      <td>101.0</td>\n",
       "    </tr>\n",
       "    <tr>\n",
       "      <th>1</th>\n",
       "      <td>3</td>\n",
       "      <td>3.0</td>\n",
       "      <td>184.0</td>\n",
       "    </tr>\n",
       "    <tr>\n",
       "      <th>2</th>\n",
       "      <td>1902</td>\n",
       "      <td>1.0</td>\n",
       "      <td>41.0</td>\n",
       "    </tr>\n",
       "    <tr>\n",
       "      <th>3</th>\n",
       "      <td>2064</td>\n",
       "      <td>0.0</td>\n",
       "      <td>35.0</td>\n",
       "    </tr>\n",
       "    <tr>\n",
       "      <th>4</th>\n",
       "      <td>2132</td>\n",
       "      <td>1.0</td>\n",
       "      <td>58.0</td>\n",
       "    </tr>\n",
       "    <tr>\n",
       "      <th>...</th>\n",
       "      <td>...</td>\n",
       "      <td>...</td>\n",
       "      <td>...</td>\n",
       "    </tr>\n",
       "    <tr>\n",
       "      <th>960</th>\n",
       "      <td>122004</td>\n",
       "      <td>4.0</td>\n",
       "      <td>100.0</td>\n",
       "    </tr>\n",
       "    <tr>\n",
       "      <th>961</th>\n",
       "      <td>122013</td>\n",
       "      <td>0.0</td>\n",
       "      <td>156.0</td>\n",
       "    </tr>\n",
       "    <tr>\n",
       "      <th>962</th>\n",
       "      <td>122023</td>\n",
       "      <td>0.0</td>\n",
       "      <td>68.0</td>\n",
       "    </tr>\n",
       "    <tr>\n",
       "      <th>963</th>\n",
       "      <td>122031</td>\n",
       "      <td>1.0</td>\n",
       "      <td>138.0</td>\n",
       "    </tr>\n",
       "    <tr>\n",
       "      <th>964</th>\n",
       "      <td>122078</td>\n",
       "      <td>0.0</td>\n",
       "      <td>42.0</td>\n",
       "    </tr>\n",
       "  </tbody>\n",
       "</table>\n",
       "<p>965 rows × 3 columns</p>\n",
       "</div>"
      ],
      "text/plain": [
       "      ad_id  click   view\n",
       "0         2    1.0  101.0\n",
       "1         3    3.0  184.0\n",
       "2      1902    1.0   41.0\n",
       "3      2064    0.0   35.0\n",
       "4      2132    1.0   58.0\n",
       "..      ...    ...    ...\n",
       "960  122004    4.0  100.0\n",
       "961  122013    0.0  156.0\n",
       "962  122023    0.0   68.0\n",
       "963  122031    1.0  138.0\n",
       "964  122078    0.0   42.0\n",
       "\n",
       "[965 rows x 3 columns]"
      ]
     },
     "execution_count": 139,
     "metadata": {},
     "output_type": "execute_result"
    }
   ],
   "source": [
    "click_and_view = click_and_view.reset_index()\n",
    "click_and_view"
   ]
  },
  {
   "attachments": {},
   "cell_type": "markdown",
   "metadata": {},
   "source": [
    "Давайте посмотрим на распределение показов объявлений!\n",
    "\n",
    "По оси x – число показов  \n",
    "По оси y – доля объявлений с такими показами  \n",
    "Прологарифмируйте число показов, а затем постройте график распределения"
   ]
  },
  {
   "cell_type": "code",
   "execution_count": 140,
   "metadata": {},
   "outputs": [
    {
     "name": "stderr",
     "output_type": "stream",
     "text": [
      "C:\\Users\\Администратор\\AppData\\Local\\Temp\\ipykernel_13680\\2684707376.py:2: SettingWithCopyWarning:\n",
      "\n",
      "\n",
      "A value is trying to be set on a copy of a slice from a DataFrame.\n",
      "Try using .loc[row_indexer,col_indexer] = value instead\n",
      "\n",
      "See the caveats in the documentation: https://pandas.pydata.org/pandas-docs/stable/user_guide/indexing.html#returning-a-view-versus-a-copy\n",
      "\n"
     ]
    },
    {
     "data": {
      "text/html": [
       "<div>\n",
       "<style scoped>\n",
       "    .dataframe tbody tr th:only-of-type {\n",
       "        vertical-align: middle;\n",
       "    }\n",
       "\n",
       "    .dataframe tbody tr th {\n",
       "        vertical-align: top;\n",
       "    }\n",
       "\n",
       "    .dataframe thead th {\n",
       "        text-align: right;\n",
       "    }\n",
       "</style>\n",
       "<table border=\"1\" class=\"dataframe\">\n",
       "  <thead>\n",
       "    <tr style=\"text-align: right;\">\n",
       "      <th></th>\n",
       "      <th>ad_id</th>\n",
       "      <th>click</th>\n",
       "      <th>view</th>\n",
       "      <th>log_view</th>\n",
       "    </tr>\n",
       "  </thead>\n",
       "  <tbody>\n",
       "    <tr>\n",
       "      <th>0</th>\n",
       "      <td>2</td>\n",
       "      <td>1.0</td>\n",
       "      <td>101.0</td>\n",
       "      <td>4.615121</td>\n",
       "    </tr>\n",
       "    <tr>\n",
       "      <th>1</th>\n",
       "      <td>3</td>\n",
       "      <td>3.0</td>\n",
       "      <td>184.0</td>\n",
       "      <td>5.214936</td>\n",
       "    </tr>\n",
       "    <tr>\n",
       "      <th>2</th>\n",
       "      <td>1902</td>\n",
       "      <td>1.0</td>\n",
       "      <td>41.0</td>\n",
       "      <td>3.713572</td>\n",
       "    </tr>\n",
       "    <tr>\n",
       "      <th>3</th>\n",
       "      <td>2064</td>\n",
       "      <td>0.0</td>\n",
       "      <td>35.0</td>\n",
       "      <td>3.555348</td>\n",
       "    </tr>\n",
       "    <tr>\n",
       "      <th>4</th>\n",
       "      <td>2132</td>\n",
       "      <td>1.0</td>\n",
       "      <td>58.0</td>\n",
       "      <td>4.060443</td>\n",
       "    </tr>\n",
       "  </tbody>\n",
       "</table>\n",
       "</div>"
      ],
      "text/plain": [
       "   ad_id  click   view  log_view\n",
       "0      2    1.0  101.0  4.615121\n",
       "1      3    3.0  184.0  5.214936\n",
       "2   1902    1.0   41.0  3.713572\n",
       "3   2064    0.0   35.0  3.555348\n",
       "4   2132    1.0   58.0  4.060443"
      ]
     },
     "execution_count": 140,
     "metadata": {},
     "output_type": "execute_result"
    }
   ],
   "source": [
    "click_and_view = click_and_view.query(\"view != 0\")\n",
    "click_and_view['log_view'] = np.log(click_and_view.view)\n",
    "click_and_view.head(5)"
   ]
  },
  {
   "cell_type": "code",
   "execution_count": 141,
   "metadata": {},
   "outputs": [
    {
     "name": "stderr",
     "output_type": "stream",
     "text": [
      "c:\\Anaconda\\lib\\site-packages\\seaborn\\distributions.py:2619: FutureWarning:\n",
      "\n",
      "`distplot` is a deprecated function and will be removed in a future version. Please adapt your code to use either `displot` (a figure-level function with similar flexibility) or `histplot` (an axes-level function for histograms).\n",
      "\n"
     ]
    },
    {
     "data": {
      "text/plain": [
       "<AxesSubplot:xlabel='log_view', ylabel='Density'>"
      ]
     },
     "execution_count": 141,
     "metadata": {},
     "output_type": "execute_result"
    },
    {
     "data": {
      "image/png": "[encoded data removed]",
      "text/plain": [
       "<Figure size 1440x504 with 1 Axes>"
      ]
     },
     "metadata": {},
     "output_type": "display_data"
    }
   ],
   "source": [
    "sns.distplot(click_and_view.log_view)"
   ]
  },
  {
   "attachments": {},
   "cell_type": "markdown",
   "metadata": {},
   "source": [
    "Теперь нужно найти среднее количество показов на 1 объявление (ad_id) по дням, не учитывая объявления, у которых не было показов (обычное среднее)."
   ]
  },
  {
   "cell_type": "code",
   "execution_count": 143,
   "metadata": {},
   "outputs": [
    {
     "data": {
      "text/html": [
       "<div>\n",
       "<style scoped>\n",
       "    .dataframe tbody tr th:only-of-type {\n",
       "        vertical-align: middle;\n",
       "    }\n",
       "\n",
       "    .dataframe tbody tr th {\n",
       "        vertical-align: top;\n",
       "    }\n",
       "\n",
       "    .dataframe thead th {\n",
       "        text-align: right;\n",
       "    }\n",
       "</style>\n",
       "<table border=\"1\" class=\"dataframe\">\n",
       "  <thead>\n",
       "    <tr style=\"text-align: right;\">\n",
       "      <th></th>\n",
       "      <th>date</th>\n",
       "      <th>time</th>\n",
       "    </tr>\n",
       "  </thead>\n",
       "  <tbody>\n",
       "    <tr>\n",
       "      <th>0</th>\n",
       "      <td>2019-04-01</td>\n",
       "      <td>154.482270</td>\n",
       "    </tr>\n",
       "    <tr>\n",
       "      <th>1</th>\n",
       "      <td>2019-04-02</td>\n",
       "      <td>137.786982</td>\n",
       "    </tr>\n",
       "    <tr>\n",
       "      <th>2</th>\n",
       "      <td>2019-04-03</td>\n",
       "      <td>163.952778</td>\n",
       "    </tr>\n",
       "    <tr>\n",
       "      <th>3</th>\n",
       "      <td>2019-04-04</td>\n",
       "      <td>675.901720</td>\n",
       "    </tr>\n",
       "    <tr>\n",
       "      <th>4</th>\n",
       "      <td>2019-04-05</td>\n",
       "      <td>919.109677</td>\n",
       "    </tr>\n",
       "    <tr>\n",
       "      <th>5</th>\n",
       "      <td>2019-04-06</td>\n",
       "      <td>277.122727</td>\n",
       "    </tr>\n",
       "  </tbody>\n",
       "</table>\n",
       "</div>"
      ],
      "text/plain": [
       "         date        time\n",
       "0  2019-04-01  154.482270\n",
       "1  2019-04-02  137.786982\n",
       "2  2019-04-03  163.952778\n",
       "3  2019-04-04  675.901720\n",
       "4  2019-04-05  919.109677\n",
       "5  2019-04-06  277.122727"
      ]
     },
     "execution_count": 143,
     "metadata": {},
     "output_type": "execute_result"
    }
   ],
   "source": [
    "mean = ads_data.query(\"event == 'view'\") \\\n",
    "    .groupby(['ad_id', 'date']) \\\n",
    "    .agg({'time' : 'count'}) \\\n",
    "    .groupby('date').mean().reset_index()\n",
    "\n",
    "mean"
   ]
  },
  {
   "attachments": {},
   "cell_type": "markdown",
   "metadata": {},
   "source": [
    "Посчитайте скользящее среднее по полученному результату с окном в 2 элемента."
   ]
  },
  {
   "cell_type": "code",
   "execution_count": 144,
   "metadata": {},
   "outputs": [
    {
     "data": {
      "text/html": [
       "<div>\n",
       "<style scoped>\n",
       "    .dataframe tbody tr th:only-of-type {\n",
       "        vertical-align: middle;\n",
       "    }\n",
       "\n",
       "    .dataframe tbody tr th {\n",
       "        vertical-align: top;\n",
       "    }\n",
       "\n",
       "    .dataframe thead th {\n",
       "        text-align: right;\n",
       "    }\n",
       "</style>\n",
       "<table border=\"1\" class=\"dataframe\">\n",
       "  <thead>\n",
       "    <tr style=\"text-align: right;\">\n",
       "      <th></th>\n",
       "      <th>date</th>\n",
       "      <th>time</th>\n",
       "    </tr>\n",
       "  </thead>\n",
       "  <tbody>\n",
       "    <tr>\n",
       "      <th>0</th>\n",
       "      <td>2019-04-01</td>\n",
       "      <td>NaN</td>\n",
       "    </tr>\n",
       "    <tr>\n",
       "      <th>1</th>\n",
       "      <td>2019-04-02</td>\n",
       "      <td>146.134626</td>\n",
       "    </tr>\n",
       "    <tr>\n",
       "      <th>2</th>\n",
       "      <td>2019-04-03</td>\n",
       "      <td>150.869880</td>\n",
       "    </tr>\n",
       "    <tr>\n",
       "      <th>3</th>\n",
       "      <td>2019-04-04</td>\n",
       "      <td>419.927249</td>\n",
       "    </tr>\n",
       "    <tr>\n",
       "      <th>4</th>\n",
       "      <td>2019-04-05</td>\n",
       "      <td>797.505699</td>\n",
       "    </tr>\n",
       "    <tr>\n",
       "      <th>5</th>\n",
       "      <td>2019-04-06</td>\n",
       "      <td>598.116202</td>\n",
       "    </tr>\n",
       "  </tbody>\n",
       "</table>\n",
       "</div>"
      ],
      "text/plain": [
       "         date        time\n",
       "0  2019-04-01         NaN\n",
       "1  2019-04-02  146.134626\n",
       "2  2019-04-03  150.869880\n",
       "3  2019-04-04  419.927249\n",
       "4  2019-04-05  797.505699\n",
       "5  2019-04-06  598.116202"
      ]
     },
     "execution_count": 144,
     "metadata": {},
     "output_type": "execute_result"
    }
   ],
   "source": [
    "rolling_mean_2 = ads_data.query(\"event == 'view'\") \\\n",
    "    .groupby(['ad_id', 'date']) \\\n",
    "    .agg({'time' : 'count'}) \\\n",
    "    .groupby('date').mean().rolling(2).mean().reset_index()\n",
    "\n",
    "rolling_mean_2"
   ]
  },
  {
   "attachments": {},
   "cell_type": "markdown",
   "metadata": {},
   "source": [
    "Нанести на один график значения просто среднего количества показов по дням и скользящего среднего на основе этих данных"
   ]
  },
  {
   "cell_type": "code",
   "execution_count": 145,
   "metadata": {},
   "outputs": [
    {
     "data": {
      "text/plain": [
       "<AxesSubplot:xlabel='date', ylabel='time'>"
      ]
     },
     "execution_count": 145,
     "metadata": {},
     "output_type": "execute_result"
    },
    {
     "data": {
      "image/png": "[encoded data removed]",
      "text/plain": [
       "<Figure size 1440x504 with 1 Axes>"
      ]
     },
     "metadata": {},
     "output_type": "display_data"
    }
   ],
   "source": [
    "sns.lineplot(data=mean, x=\"date\", y=\"time\")\n",
    "sns.lineplot(data=rolling_mean_2, x=\"date\", y=\"time\")"
   ]
  },
  {
   "cell_type": "markdown",
   "metadata": {},
   "source": [
    "Посчитайте, в какой день наблюдается наибольшая разница по модулю между арифметическим средним и скользящим средним?"
   ]
  },
  {
   "cell_type": "code",
   "execution_count": 146,
   "metadata": {},
   "outputs": [
    {
     "data": {
      "text/plain": [
       "time    2019-04-06\n",
       "dtype: object"
      ]
     },
     "execution_count": 146,
     "metadata": {},
     "output_type": "execute_result"
    }
   ],
   "source": [
    "mean.set_index('date').subtract(rolling_mean_2.set_index('date')).abs().idxmax()"
   ]
  },
  {
   "attachments": {},
   "cell_type": "markdown",
   "metadata": {},
   "source": [
    "Объедините данные рекламы с данными о рекламных клиентах"
   ]
  },
  {
   "cell_type": "code",
   "execution_count": 147,
   "metadata": {},
   "outputs": [
    {
     "data": {
      "text/html": [
       "<div>\n",
       "<style scoped>\n",
       "    .dataframe tbody tr th:only-of-type {\n",
       "        vertical-align: middle;\n",
       "    }\n",
       "\n",
       "    .dataframe tbody tr th {\n",
       "        vertical-align: top;\n",
       "    }\n",
       "\n",
       "    .dataframe thead th {\n",
       "        text-align: right;\n",
       "    }\n",
       "</style>\n",
       "<table border=\"1\" class=\"dataframe\">\n",
       "  <thead>\n",
       "    <tr style=\"text-align: right;\">\n",
       "      <th></th>\n",
       "      <th>date</th>\n",
       "      <th>time</th>\n",
       "      <th>event</th>\n",
       "      <th>platform</th>\n",
       "      <th>ad_id</th>\n",
       "      <th>client_union_id</th>\n",
       "      <th>campaign_union_id</th>\n",
       "      <th>ad_cost_type</th>\n",
       "      <th>ad_cost</th>\n",
       "      <th>has_video</th>\n",
       "      <th>target_audience_count</th>\n",
       "    </tr>\n",
       "  </thead>\n",
       "  <tbody>\n",
       "    <tr>\n",
       "      <th>0</th>\n",
       "      <td>2019-04-01</td>\n",
       "      <td>2019-04-01 00:00:48</td>\n",
       "      <td>view</td>\n",
       "      <td>android</td>\n",
       "      <td>45061</td>\n",
       "      <td>34734</td>\n",
       "      <td>45061</td>\n",
       "      <td>CPM</td>\n",
       "      <td>200.6</td>\n",
       "      <td>0</td>\n",
       "      <td>1955269</td>\n",
       "    </tr>\n",
       "    <tr>\n",
       "      <th>1</th>\n",
       "      <td>2019-04-01</td>\n",
       "      <td>2019-04-01 00:00:48</td>\n",
       "      <td>view</td>\n",
       "      <td>web</td>\n",
       "      <td>121288</td>\n",
       "      <td>121288</td>\n",
       "      <td>121288</td>\n",
       "      <td>CPM</td>\n",
       "      <td>187.4</td>\n",
       "      <td>0</td>\n",
       "      <td>232011</td>\n",
       "    </tr>\n",
       "    <tr>\n",
       "      <th>2</th>\n",
       "      <td>2019-04-01</td>\n",
       "      <td>2019-04-01 00:01:03</td>\n",
       "      <td>view</td>\n",
       "      <td>android</td>\n",
       "      <td>102737</td>\n",
       "      <td>102535</td>\n",
       "      <td>102564</td>\n",
       "      <td>CPC</td>\n",
       "      <td>60.7</td>\n",
       "      <td>0</td>\n",
       "      <td>4410</td>\n",
       "    </tr>\n",
       "    <tr>\n",
       "      <th>3</th>\n",
       "      <td>2019-04-01</td>\n",
       "      <td>2019-04-01 00:01:03</td>\n",
       "      <td>view</td>\n",
       "      <td>android</td>\n",
       "      <td>107564</td>\n",
       "      <td>106914</td>\n",
       "      <td>107564</td>\n",
       "      <td>CPM</td>\n",
       "      <td>217.3</td>\n",
       "      <td>0</td>\n",
       "      <td>62711</td>\n",
       "    </tr>\n",
       "    <tr>\n",
       "      <th>4</th>\n",
       "      <td>2019-04-01</td>\n",
       "      <td>2019-04-01 00:01:09</td>\n",
       "      <td>view</td>\n",
       "      <td>android</td>\n",
       "      <td>4922</td>\n",
       "      <td>37</td>\n",
       "      <td>4400</td>\n",
       "      <td>CPC</td>\n",
       "      <td>60.1</td>\n",
       "      <td>0</td>\n",
       "      <td>1183501</td>\n",
       "    </tr>\n",
       "  </tbody>\n",
       "</table>\n",
       "</div>"
      ],
      "text/plain": [
       "         date                 time event platform   ad_id  client_union_id  \\\n",
       "0  2019-04-01  2019-04-01 00:00:48  view  android   45061            34734   \n",
       "1  2019-04-01  2019-04-01 00:00:48  view      web  121288           121288   \n",
       "2  2019-04-01  2019-04-01 00:01:03  view  android  102737           102535   \n",
       "3  2019-04-01  2019-04-01 00:01:03  view  android  107564           106914   \n",
       "4  2019-04-01  2019-04-01 00:01:09  view  android    4922               37   \n",
       "\n",
       "   campaign_union_id ad_cost_type  ad_cost  has_video  target_audience_count  \n",
       "0              45061          CPM    200.6          0                1955269  \n",
       "1             121288          CPM    187.4          0                 232011  \n",
       "2             102564          CPC     60.7          0                   4410  \n",
       "3             107564          CPM    217.3          0                  62711  \n",
       "4               4400          CPC     60.1          0                1183501  "
      ]
     },
     "execution_count": 147,
     "metadata": {},
     "output_type": "execute_result"
    }
   ],
   "source": [
    "ads_data.head()"
   ]
  },
  {
   "cell_type": "code",
   "execution_count": 148,
   "metadata": {},
   "outputs": [
    {
     "data": {
      "text/html": [
       "<div>\n",
       "<style scoped>\n",
       "    .dataframe tbody tr th:only-of-type {\n",
       "        vertical-align: middle;\n",
       "    }\n",
       "\n",
       "    .dataframe tbody tr th {\n",
       "        vertical-align: top;\n",
       "    }\n",
       "\n",
       "    .dataframe thead th {\n",
       "        text-align: right;\n",
       "    }\n",
       "</style>\n",
       "<table border=\"1\" class=\"dataframe\">\n",
       "  <thead>\n",
       "    <tr style=\"text-align: right;\">\n",
       "      <th></th>\n",
       "      <th>date</th>\n",
       "      <th>client_union_id</th>\n",
       "      <th>community_id</th>\n",
       "      <th>create_date</th>\n",
       "    </tr>\n",
       "  </thead>\n",
       "  <tbody>\n",
       "    <tr>\n",
       "      <th>0</th>\n",
       "      <td>2020-05-07</td>\n",
       "      <td>1</td>\n",
       "      <td>-130371893</td>\n",
       "      <td>2018-12-24</td>\n",
       "    </tr>\n",
       "    <tr>\n",
       "      <th>1</th>\n",
       "      <td>2020-05-07</td>\n",
       "      <td>2</td>\n",
       "      <td>-130304626</td>\n",
       "      <td>2019-02-10</td>\n",
       "    </tr>\n",
       "    <tr>\n",
       "      <th>2</th>\n",
       "      <td>2020-05-07</td>\n",
       "      <td>3</td>\n",
       "      <td>-130462599</td>\n",
       "      <td>2019-01-25</td>\n",
       "    </tr>\n",
       "    <tr>\n",
       "      <th>3</th>\n",
       "      <td>2020-05-07</td>\n",
       "      <td>4</td>\n",
       "      <td>-130574300</td>\n",
       "      <td>2018-12-09</td>\n",
       "    </tr>\n",
       "    <tr>\n",
       "      <th>4</th>\n",
       "      <td>2020-05-07</td>\n",
       "      <td>5</td>\n",
       "      <td>-130292358</td>\n",
       "      <td>2019-01-08</td>\n",
       "    </tr>\n",
       "    <tr>\n",
       "      <th>...</th>\n",
       "      <td>...</td>\n",
       "      <td>...</td>\n",
       "      <td>...</td>\n",
       "      <td>...</td>\n",
       "    </tr>\n",
       "    <tr>\n",
       "      <th>122073</th>\n",
       "      <td>2020-05-07</td>\n",
       "      <td>122074</td>\n",
       "      <td>-130470790</td>\n",
       "      <td>2018-12-21</td>\n",
       "    </tr>\n",
       "    <tr>\n",
       "      <th>122074</th>\n",
       "      <td>2020-05-07</td>\n",
       "      <td>122075</td>\n",
       "      <td>-130911261</td>\n",
       "      <td>2018-11-09</td>\n",
       "    </tr>\n",
       "    <tr>\n",
       "      <th>122075</th>\n",
       "      <td>2020-05-07</td>\n",
       "      <td>122076</td>\n",
       "      <td>-130494912</td>\n",
       "      <td>2018-10-27</td>\n",
       "    </tr>\n",
       "    <tr>\n",
       "      <th>122076</th>\n",
       "      <td>2020-05-07</td>\n",
       "      <td>122077</td>\n",
       "      <td>-130910585</td>\n",
       "      <td>2018-12-05</td>\n",
       "    </tr>\n",
       "    <tr>\n",
       "      <th>122077</th>\n",
       "      <td>2020-05-07</td>\n",
       "      <td>122078</td>\n",
       "      <td>-130558729</td>\n",
       "      <td>2019-01-22</td>\n",
       "    </tr>\n",
       "  </tbody>\n",
       "</table>\n",
       "<p>122078 rows × 4 columns</p>\n",
       "</div>"
      ],
      "text/plain": [
       "              date  client_union_id  community_id create_date\n",
       "0       2020-05-07                1    -130371893  2018-12-24\n",
       "1       2020-05-07                2    -130304626  2019-02-10\n",
       "2       2020-05-07                3    -130462599  2019-01-25\n",
       "3       2020-05-07                4    -130574300  2018-12-09\n",
       "4       2020-05-07                5    -130292358  2019-01-08\n",
       "...            ...              ...           ...         ...\n",
       "122073  2020-05-07           122074    -130470790  2018-12-21\n",
       "122074  2020-05-07           122075    -130911261  2018-11-09\n",
       "122075  2020-05-07           122076    -130494912  2018-10-27\n",
       "122076  2020-05-07           122077    -130910585  2018-12-05\n",
       "122077  2020-05-07           122078    -130558729  2019-01-22\n",
       "\n",
       "[122078 rows x 4 columns]"
      ]
     },
     "execution_count": 148,
     "metadata": {},
     "output_type": "execute_result"
    }
   ],
   "source": [
    "ads_clients_data"
   ]
  },
  {
   "cell_type": "code",
   "execution_count": 149,
   "metadata": {},
   "outputs": [],
   "source": [
    "merged_data = ads_data.merge(ads_clients_data, on='client_union_id') \\\n",
    "    .rename(columns={'date_x' : 'date_ads_data', 'date_y' : 'ads_clients_data'})"
   ]
  },
  {
   "cell_type": "code",
   "execution_count": 150,
   "metadata": {},
   "outputs": [],
   "source": [
    "merged_data[['date_ads_data', 'ads_clients_data', 'create_date']] = \\\n",
    "  merged_data[['date_ads_data', 'ads_clients_data', 'create_date']].apply(pd.to_datetime)\n"
   ]
  },
  {
   "attachments": {},
   "cell_type": "markdown",
   "metadata": {},
   "source": [
    "Найдём среднее количество дней от даты создания рекламного клиента (create_date) и первым запуском рекламного объявления этим клиентом (date)."
   ]
  },
  {
   "cell_type": "code",
   "execution_count": 152,
   "metadata": {},
   "outputs": [],
   "source": [
    "merged_data[\"date_diff\"] = merged_data.date_ads_data-merged_data.create_date"
   ]
  },
  {
   "cell_type": "code",
   "execution_count": 153,
   "metadata": {},
   "outputs": [],
   "source": [
    "clients_with_ads = merged_data.groupby('client_union_id', as_index=False).agg({'date_diff' : 'min'})"
   ]
  },
  {
   "cell_type": "code",
   "execution_count": 154,
   "metadata": {},
   "outputs": [
    {
     "data": {
      "text/plain": [
       "124"
      ]
     },
     "execution_count": 154,
     "metadata": {},
     "output_type": "execute_result"
    }
   ],
   "source": [
    "# среднее количество дней от даты создания рекламного клиента\n",
    "clients_with_ads.date_diff.mean().days"
   ]
  },
  {
   "attachments": {},
   "cell_type": "markdown",
   "metadata": {},
   "source": [
    "Разобъем наших клиентов по промежуткам от создания рекламного кабинета до запуска первого рекламного объявления:  \n",
    "[0, 30, 90, 180, 365]"
   ]
  },
  {
   "cell_type": "code",
   "execution_count": 155,
   "metadata": {},
   "outputs": [
    {
     "data": {
      "text/html": [
       "<div>\n",
       "<style scoped>\n",
       "    .dataframe tbody tr th:only-of-type {\n",
       "        vertical-align: middle;\n",
       "    }\n",
       "\n",
       "    .dataframe tbody tr th {\n",
       "        vertical-align: top;\n",
       "    }\n",
       "\n",
       "    .dataframe thead th {\n",
       "        text-align: right;\n",
       "    }\n",
       "</style>\n",
       "<table border=\"1\" class=\"dataframe\">\n",
       "  <thead>\n",
       "    <tr style=\"text-align: right;\">\n",
       "      <th></th>\n",
       "      <th>client_union_id</th>\n",
       "      <th>date_diff</th>\n",
       "      <th>date_diff_categorical</th>\n",
       "    </tr>\n",
       "  </thead>\n",
       "  <tbody>\n",
       "    <tr>\n",
       "      <th>0</th>\n",
       "      <td>1</td>\n",
       "      <td>98 days</td>\n",
       "      <td>90-180 days</td>\n",
       "    </tr>\n",
       "    <tr>\n",
       "      <th>1</th>\n",
       "      <td>9</td>\n",
       "      <td>114 days</td>\n",
       "      <td>90-180 days</td>\n",
       "    </tr>\n",
       "    <tr>\n",
       "      <th>2</th>\n",
       "      <td>13</td>\n",
       "      <td>66 days</td>\n",
       "      <td>30-90 days</td>\n",
       "    </tr>\n",
       "    <tr>\n",
       "      <th>3</th>\n",
       "      <td>16</td>\n",
       "      <td>105 days</td>\n",
       "      <td>90-180 days</td>\n",
       "    </tr>\n",
       "    <tr>\n",
       "      <th>4</th>\n",
       "      <td>20</td>\n",
       "      <td>32 days</td>\n",
       "      <td>30-90 days</td>\n",
       "    </tr>\n",
       "    <tr>\n",
       "      <th>...</th>\n",
       "      <td>...</td>\n",
       "      <td>...</td>\n",
       "      <td>...</td>\n",
       "    </tr>\n",
       "    <tr>\n",
       "      <th>833</th>\n",
       "      <td>122004</td>\n",
       "      <td>67 days</td>\n",
       "      <td>30-90 days</td>\n",
       "    </tr>\n",
       "    <tr>\n",
       "      <th>834</th>\n",
       "      <td>122013</td>\n",
       "      <td>151 days</td>\n",
       "      <td>90-180 days</td>\n",
       "    </tr>\n",
       "    <tr>\n",
       "      <th>835</th>\n",
       "      <td>122023</td>\n",
       "      <td>126 days</td>\n",
       "      <td>90-180 days</td>\n",
       "    </tr>\n",
       "    <tr>\n",
       "      <th>836</th>\n",
       "      <td>122031</td>\n",
       "      <td>96 days</td>\n",
       "      <td>90-180 days</td>\n",
       "    </tr>\n",
       "    <tr>\n",
       "      <th>837</th>\n",
       "      <td>122078</td>\n",
       "      <td>71 days</td>\n",
       "      <td>30-90 days</td>\n",
       "    </tr>\n",
       "  </tbody>\n",
       "</table>\n",
       "<p>838 rows × 3 columns</p>\n",
       "</div>"
      ],
      "text/plain": [
       "     client_union_id date_diff date_diff_categorical\n",
       "0                  1   98 days           90-180 days\n",
       "1                  9  114 days           90-180 days\n",
       "2                 13   66 days            30-90 days\n",
       "3                 16  105 days           90-180 days\n",
       "4                 20   32 days            30-90 days\n",
       "..               ...       ...                   ...\n",
       "833           122004   67 days            30-90 days\n",
       "834           122013  151 days           90-180 days\n",
       "835           122023  126 days           90-180 days\n",
       "836           122031   96 days           90-180 days\n",
       "837           122078   71 days            30-90 days\n",
       "\n",
       "[838 rows x 3 columns]"
      ]
     },
     "execution_count": 155,
     "metadata": {},
     "output_type": "execute_result"
    }
   ],
   "source": [
    "clients_with_ads['date_diff_categorical'] = pd.cut(clients_with_ads.date_diff,\n",
    "                                 bins=pd.to_timedelta(['0d', '30d', '90d', '180d', '365d']),\n",
    "                                 labels=['0-30 days', '30-90 days', '90-180 days', '180-365 days'])\n",
    "clients_with_ads"
   ]
  },
  {
   "attachments": {},
   "cell_type": "markdown",
   "metadata": {},
   "source": [
    "Определите, сколько уникальных клиентов запустили свое первое объявление в первый месяц своего существования (от 0 до 30 дней)."
   ]
  },
  {
   "cell_type": "code",
   "execution_count": 156,
   "metadata": {},
   "outputs": [
    {
     "data": {
      "text/plain": [
       "client_union_id          11\n",
       "date_diff                11\n",
       "date_diff_categorical    11\n",
       "dtype: int64"
      ]
     },
     "execution_count": 156,
     "metadata": {},
     "output_type": "execute_result"
    }
   ],
   "source": [
    "clients_with_ads[clients_with_ads['date_diff_categorical'] == '0-30 days'].count()"
   ]
  },
  {
   "attachments": {},
   "cell_type": "markdown",
   "metadata": {},
   "source": [
    "Постройте интерактивный барплот, на котором будут показаны категории с количеством уникальных клиентов в них"
   ]
  },
  {
   "cell_type": "code",
   "execution_count": 157,
   "metadata": {},
   "outputs": [
    {
     "data": {
      "application/vnd.plotly.v1+json": {
       "config": {
        "plotlyServerURL": "https://plot.ly"
       },
       "data": [
        {
         "alignmentgroup": "True",
         "hovertemplate": "date_diff_categorical=%{x}<br>count=%{y}<extra></extra>",
         "legendgroup": "",
         "marker": {
          "color": "#636efa",
          "pattern": {
           "shape": ""
          }
         },
         "name": "",
         "offsetgroup": "",
         "orientation": "v",
         "showlegend": false,
         "textposition": "auto",
         "type": "bar",
         "x": [
          "90-180 days",
          "90-180 days",
          "30-90 days",
          "90-180 days",
          "30-90 days",
          "90-180 days",
          "90-180 days",
          "30-90 days",
          "90-180 days",
          "90-180 days",
          "90-180 days",
          "180-365 days",
          "180-365 days",
          "180-365 days",
          "30-90 days",
          "90-180 days",
          "90-180 days",
          "90-180 days",
          "30-90 days",
          "180-365 days",
          "30-90 days",
          "90-180 days",
          "90-180 days",
          "90-180 days",
          "30-90 days",
          "90-180 days",
          "90-180 days",
          "30-90 days",
          "30-90 days",
          "30-90 days",
          "90-180 days",
          "180-365 days",
          "30-90 days",
          "180-365 days",
          "30-90 days",
          "90-180 days",
          "90-180 days",
          "180-365 days",
          "30-90 days",
          "90-180 days",
          "90-180 days",
          "30-90 days",
          "180-365 days",
          "180-365 days",
          "90-180 days",
          "30-90 days",
          "90-180 days",
          "90-180 days",
          "90-180 days",
          "30-90 days",
          "30-90 days",
          "180-365 days",
          "90-180 days",
          "30-90 days",
          "30-90 days",
          "90-180 days",
          "90-180 days",
          "90-180 days",
          "30-90 days",
          "90-180 days",
          "30-90 days",
          "30-90 days",
          "90-180 days",
          "30-90 days",
          "30-90 days",
          "90-180 days",
          "90-180 days",
          "90-180 days",
          "30-90 days",
          "90-180 days",
          "180-365 days",
          "90-180 days",
          "180-365 days",
          "30-90 days",
          "90-180 days",
          "30-90 days",
          "30-90 days",
          "180-365 days",
          "90-180 days",
          "90-180 days",
          "90-180 days",
          "180-365 days",
          "30-90 days",
          "30-90 days",
          "90-180 days",
          "90-180 days",
          "180-365 days",
          "30-90 days",
          "90-180 days",
          "90-180 days",
          "90-180 days",
          "90-180 days",
          "90-180 days",
          "90-180 days",
          "90-180 days",
          "0-30 days",
          "90-180 days",
          "180-365 days",
          "180-365 days",
          "90-180 days",
          "30-90 days",
          "90-180 days",
          "30-90 days",
          "180-365 days",
          "90-180 days",
          "90-180 days",
          "90-180 days",
          "90-180 days",
          "90-180 days",
          "30-90 days",
          "30-90 days",
          "90-180 days",
          "180-365 days",
          "90-180 days",
          "30-90 days",
          "90-180 days",
          "180-365 days",
          "30-90 days",
          "90-180 days",
          "90-180 days",
          "30-90 days",
          "90-180 days",
          "30-90 days",
          "90-180 days",
          "30-90 days",
          "180-365 days",
          "180-365 days",
          "30-90 days",
          "180-365 days",
          "90-180 days",
          "90-180 days",
          "30-90 days",
          "180-365 days",
          "30-90 days",
          "90-180 days",
          "90-180 days",
          "90-180 days",
          "90-180 days",
          "30-90 days",
          "90-180 days",
          "180-365 days",
          "180-365 days",
          "30-90 days",
          "30-90 days",
          "90-180 days",
          "30-90 days",
          "90-180 days",
          "90-180 days",
          "90-180 days",
          "30-90 days",
          "30-90 days",
          "30-90 days",
          "30-90 days",
          "180-365 days",
          "90-180 days",
          "30-90 days",
          "90-180 days",
          "90-180 days",
          "90-180 days",
          "30-90 days",
          "30-90 days",
          "30-90 days",
          "90-180 days",
          "30-90 days",
          "0-30 days",
          "90-180 days",
          "90-180 days",
          "180-365 days",
          "30-90 days",
          "180-365 days",
          "30-90 days",
          "90-180 days",
          "90-180 days",
          "30-90 days",
          "30-90 days",
          "90-180 days",
          "90-180 days",
          "90-180 days",
          "180-365 days",
          "30-90 days",
          "30-90 days",
          "90-180 days",
          "180-365 days",
          "180-365 days",
          "90-180 days",
          "90-180 days",
          "30-90 days",
          "180-365 days",
          "180-365 days",
          "30-90 days",
          "180-365 days",
          "90-180 days",
          "90-180 days",
          "30-90 days",
          "180-365 days",
          "30-90 days",
          "0-30 days",
          "90-180 days",
          "90-180 days",
          "90-180 days",
          "90-180 days",
          "30-90 days",
          "180-365 days",
          "30-90 days",
          "30-90 days",
          "30-90 days",
          "30-90 days",
          "90-180 days",
          "30-90 days",
          "30-90 days",
          "30-90 days",
          "90-180 days",
          "90-180 days",
          "90-180 days",
          "90-180 days",
          "90-180 days",
          "30-90 days",
          "30-90 days",
          "90-180 days",
          "90-180 days",
          "180-365 days",
          "30-90 days",
          "90-180 days",
          "90-180 days",
          "90-180 days",
          "90-180 days",
          "90-180 days",
          "90-180 days",
          "90-180 days",
          "90-180 days",
          "90-180 days",
          "30-90 days",
          "180-365 days",
          "30-90 days",
          "90-180 days",
          "180-365 days",
          "180-365 days",
          "180-365 days",
          "180-365 days",
          "90-180 days",
          "30-90 days",
          "180-365 days",
          "180-365 days",
          "90-180 days",
          "30-90 days",
          "30-90 days",
          "90-180 days",
          "90-180 days",
          "90-180 days",
          "90-180 days",
          "90-180 days",
          "30-90 days",
          "30-90 days",
          "30-90 days",
          "180-365 days",
          "30-90 days",
          "90-180 days",
          "90-180 days",
          "90-180 days",
          "90-180 days",
          "90-180 days",
          "30-90 days",
          "90-180 days",
          "90-180 days",
          "90-180 days",
          "30-90 days",
          "30-90 days",
          "180-365 days",
          "90-180 days",
          "180-365 days",
          "30-90 days",
          "30-90 days",
          "180-365 days",
          "90-180 days",
          "30-90 days",
          "90-180 days",
          "30-90 days",
          "90-180 days",
          "90-180 days",
          "90-180 days",
          "90-180 days",
          "30-90 days",
          "90-180 days",
          "30-90 days",
          "90-180 days",
          "30-90 days",
          "90-180 days",
          "180-365 days",
          "90-180 days",
          "180-365 days",
          "30-90 days",
          "90-180 days",
          "90-180 days",
          "180-365 days",
          "90-180 days",
          "90-180 days",
          "90-180 days",
          "90-180 days",
          "90-180 days",
          "30-90 days",
          "180-365 days",
          "90-180 days",
          "90-180 days",
          "90-180 days",
          "90-180 days",
          "30-90 days",
          "180-365 days",
          "180-365 days",
          "180-365 days",
          "180-365 days",
          "180-365 days",
          "90-180 days",
          "30-90 days",
          "90-180 days",
          "90-180 days",
          "90-180 days",
          "30-90 days",
          "180-365 days",
          "30-90 days",
          "180-365 days",
          "90-180 days",
          "90-180 days",
          "30-90 days",
          "180-365 days",
          "90-180 days",
          "90-180 days",
          "30-90 days",
          "30-90 days",
          "90-180 days",
          "30-90 days",
          "90-180 days",
          "90-180 days",
          "90-180 days",
          "180-365 days",
          "30-90 days",
          "30-90 days",
          "90-180 days",
          "180-365 days",
          "180-365 days",
          "180-365 days",
          "180-365 days",
          "30-90 days",
          "180-365 days",
          "30-90 days",
          "90-180 days",
          "30-90 days",
          "90-180 days",
          "90-180 days",
          "90-180 days",
          "90-180 days",
          "180-365 days",
          "30-90 days",
          "30-90 days",
          "0-30 days",
          "90-180 days",
          "90-180 days",
          "90-180 days",
          "90-180 days",
          "90-180 days",
          "90-180 days",
          "180-365 days",
          "90-180 days",
          "180-365 days",
          "30-90 days",
          "90-180 days",
          "180-365 days",
          "30-90 days",
          "30-90 days",
          "30-90 days",
          "180-365 days",
          "90-180 days",
          "90-180 days",
          "90-180 days",
          "30-90 days",
          "180-365 days",
          "90-180 days",
          "90-180 days",
          "30-90 days",
          "180-365 days",
          "90-180 days",
          "30-90 days",
          "180-365 days",
          "180-365 days",
          "90-180 days",
          "180-365 days",
          "90-180 days",
          "90-180 days",
          "90-180 days",
          "90-180 days",
          "180-365 days",
          "180-365 days",
          "90-180 days",
          "30-90 days",
          "30-90 days",
          "30-90 days",
          "30-90 days",
          "180-365 days",
          "30-90 days",
          "180-365 days",
          "180-365 days",
          "0-30 days",
          "30-90 days",
          "180-365 days",
          "30-90 days",
          "90-180 days",
          "180-365 days",
          "180-365 days",
          "30-90 days",
          "90-180 days",
          "180-365 days",
          "180-365 days",
          "90-180 days",
          "90-180 days",
          "180-365 days",
          "90-180 days",
          "90-180 days",
          "180-365 days",
          "30-90 days",
          "180-365 days",
          "30-90 days",
          "180-365 days",
          "30-90 days",
          "90-180 days",
          "30-90 days",
          "90-180 days",
          "30-90 days",
          "180-365 days",
          "90-180 days",
          "30-90 days",
          "180-365 days",
          "90-180 days",
          "90-180 days",
          "90-180 days",
          "180-365 days",
          "90-180 days",
          "30-90 days",
          "30-90 days",
          "90-180 days",
          "30-90 days",
          "30-90 days",
          "90-180 days",
          "90-180 days",
          "30-90 days",
          "180-365 days",
          "30-90 days",
          "30-90 days",
          "30-90 days",
          "180-365 days",
          "90-180 days",
          "180-365 days",
          "180-365 days",
          "30-90 days",
          "30-90 days",
          "90-180 days",
          "180-365 days",
          "30-90 days",
          "180-365 days",
          "90-180 days",
          "180-365 days",
          "180-365 days",
          "30-90 days",
          "90-180 days",
          "90-180 days",
          "30-90 days",
          "90-180 days",
          "180-365 days",
          "30-90 days",
          "30-90 days",
          "30-90 days",
          "180-365 days",
          "90-180 days",
          "30-90 days",
          "180-365 days",
          "30-90 days",
          "90-180 days",
          "30-90 days",
          "30-90 days",
          "30-90 days",
          "180-365 days",
          "30-90 days",
          "180-365 days",
          "90-180 days",
          "90-180 days",
          "90-180 days",
          "90-180 days",
          "90-180 days",
          "180-365 days",
          "180-365 days",
          "90-180 days",
          "30-90 days",
          "90-180 days",
          "90-180 days",
          "30-90 days",
          "90-180 days",
          "90-180 days",
          "90-180 days",
          "90-180 days",
          "90-180 days",
          "90-180 days",
          "90-180 days",
          "180-365 days",
          "90-180 days",
          "90-180 days",
          "30-90 days",
          "30-90 days",
          "30-90 days",
          "90-180 days",
          "30-90 days",
          "180-365 days",
          "90-180 days",
          "30-90 days",
          "30-90 days",
          "180-365 days",
          "30-90 days",
          "90-180 days",
          "90-180 days",
          "90-180 days",
          "30-90 days",
          "180-365 days",
          "30-90 days",
          "0-30 days",
          "90-180 days",
          "90-180 days",
          "30-90 days",
          "180-365 days",
          "180-365 days",
          "90-180 days",
          "180-365 days",
          "30-90 days",
          "30-90 days",
          "30-90 days",
          "90-180 days",
          "180-365 days",
          "90-180 days",
          "90-180 days",
          "30-90 days",
          "90-180 days",
          "90-180 days",
          "30-90 days",
          "90-180 days",
          "180-365 days",
          "180-365 days",
          "180-365 days",
          "90-180 days",
          "180-365 days",
          "180-365 days",
          "90-180 days",
          "90-180 days",
          "30-90 days",
          "90-180 days",
          "30-90 days",
          "30-90 days",
          "90-180 days",
          "30-90 days",
          "90-180 days",
          "90-180 days",
          "180-365 days",
          "30-90 days",
          "30-90 days",
          "90-180 days",
          "90-180 days",
          "180-365 days",
          "90-180 days",
          "90-180 days",
          "30-90 days",
          "30-90 days",
          "180-365 days",
          "90-180 days",
          "90-180 days",
          "90-180 days",
          "90-180 days",
          "90-180 days",
          "90-180 days",
          "30-90 days",
          "180-365 days",
          "90-180 days",
          "90-180 days",
          "90-180 days",
          "30-90 days",
          "30-90 days",
          "90-180 days",
          "30-90 days",
          "90-180 days",
          "180-365 days",
          "90-180 days",
          "90-180 days",
          "180-365 days",
          "30-90 days",
          "30-90 days",
          "90-180 days",
          "90-180 days",
          "30-90 days",
          "90-180 days",
          "30-90 days",
          "30-90 days",
          "90-180 days",
          "30-90 days",
          "90-180 days",
          "90-180 days",
          "180-365 days",
          "180-365 days",
          "30-90 days",
          "90-180 days",
          "0-30 days",
          "180-365 days",
          "180-365 days",
          "90-180 days",
          "90-180 days",
          "30-90 days",
          "180-365 days",
          "90-180 days",
          "30-90 days",
          "90-180 days",
          "30-90 days",
          "90-180 days",
          "90-180 days",
          "180-365 days",
          "90-180 days",
          "30-90 days",
          "90-180 days",
          "30-90 days",
          "30-90 days",
          "30-90 days",
          "30-90 days",
          "30-90 days",
          "30-90 days",
          "30-90 days",
          "90-180 days",
          "90-180 days",
          "90-180 days",
          "90-180 days",
          "30-90 days",
          "30-90 days",
          "90-180 days",
          "90-180 days",
          "180-365 days",
          "90-180 days",
          "180-365 days",
          "90-180 days",
          "30-90 days",
          "90-180 days",
          "90-180 days",
          "90-180 days",
          "90-180 days",
          "90-180 days",
          "90-180 days",
          "30-90 days",
          "180-365 days",
          "90-180 days",
          "180-365 days",
          "180-365 days",
          "90-180 days",
          "180-365 days",
          "30-90 days",
          "90-180 days",
          "90-180 days",
          "90-180 days",
          "90-180 days",
          "30-90 days",
          "30-90 days",
          "90-180 days",
          "30-90 days",
          "90-180 days",
          "90-180 days",
          "90-180 days",
          "0-30 days",
          "90-180 days",
          "90-180 days",
          "90-180 days",
          "90-180 days",
          "90-180 days",
          "30-90 days",
          "180-365 days",
          "30-90 days",
          "30-90 days",
          "30-90 days",
          "90-180 days",
          "0-30 days",
          "90-180 days",
          "90-180 days",
          "30-90 days",
          "90-180 days",
          "30-90 days",
          "90-180 days",
          "30-90 days",
          "90-180 days",
          "30-90 days",
          "180-365 days",
          "30-90 days",
          "90-180 days",
          "30-90 days",
          "90-180 days",
          "30-90 days",
          "180-365 days",
          "90-180 days",
          "90-180 days",
          "30-90 days",
          "30-90 days",
          "30-90 days",
          "30-90 days",
          "90-180 days",
          "90-180 days",
          "90-180 days",
          "90-180 days",
          "30-90 days",
          "90-180 days",
          "180-365 days",
          "30-90 days",
          "30-90 days",
          "180-365 days",
          "90-180 days",
          "90-180 days",
          "180-365 days",
          "180-365 days",
          "90-180 days",
          "90-180 days",
          "90-180 days",
          "180-365 days",
          "30-90 days",
          "30-90 days",
          "90-180 days",
          "30-90 days",
          "30-90 days",
          "90-180 days",
          "180-365 days",
          "180-365 days",
          "90-180 days",
          "0-30 days",
          "90-180 days",
          "180-365 days",
          "180-365 days",
          "180-365 days",
          "180-365 days",
          "90-180 days",
          "180-365 days",
          "30-90 days",
          "90-180 days",
          "30-90 days",
          "180-365 days",
          "90-180 days",
          "90-180 days",
          "90-180 days",
          "30-90 days",
          "90-180 days",
          "30-90 days",
          "0-30 days",
          "180-365 days",
          "90-180 days",
          "90-180 days",
          "180-365 days",
          "90-180 days",
          "90-180 days",
          "30-90 days",
          "90-180 days",
          "180-365 days",
          "30-90 days",
          "90-180 days",
          "90-180 days",
          "30-90 days",
          "90-180 days",
          "30-90 days",
          "30-90 days",
          "180-365 days",
          "30-90 days",
          "180-365 days",
          "90-180 days",
          "30-90 days",
          "90-180 days",
          "90-180 days",
          "90-180 days",
          "30-90 days",
          "30-90 days",
          "90-180 days",
          "30-90 days",
          "180-365 days",
          "30-90 days",
          "90-180 days",
          "90-180 days",
          "90-180 days",
          "30-90 days",
          "30-90 days",
          "90-180 days",
          "90-180 days",
          "90-180 days",
          "90-180 days",
          "90-180 days",
          "90-180 days",
          "90-180 days",
          "90-180 days",
          "30-90 days",
          "30-90 days",
          "90-180 days",
          "90-180 days",
          "90-180 days",
          "90-180 days",
          "30-90 days",
          "90-180 days",
          "30-90 days",
          "30-90 days",
          "90-180 days",
          "180-365 days",
          "90-180 days",
          "180-365 days",
          "90-180 days",
          "90-180 days",
          "90-180 days",
          "90-180 days",
          "90-180 days",
          "90-180 days",
          "180-365 days",
          "90-180 days",
          "30-90 days",
          "90-180 days",
          "30-90 days",
          "90-180 days",
          "30-90 days",
          "90-180 days",
          "90-180 days",
          "30-90 days",
          "90-180 days",
          "90-180 days",
          "90-180 days",
          "90-180 days",
          "90-180 days",
          "90-180 days",
          "90-180 days",
          "90-180 days",
          "90-180 days",
          "180-365 days",
          "180-365 days",
          "180-365 days",
          "30-90 days",
          "30-90 days",
          "30-90 days",
          "90-180 days",
          "90-180 days",
          "90-180 days",
          "30-90 days"
         ],
         "xaxis": "x",
         "y": [
          1,
          1,
          1,
          1,
          1,
          1,
          1,
          1,
          1,
          1,
          1,
          1,
          1,
          1,
          1,
          1,
          1,
          1,
          1,
          1,
          1,
          1,
          1,
          1,
          1,
          1,
          1,
          1,
          1,
          1,
          1,
          1,
          1,
          1,
          1,
          1,
          1,
          1,
          1,
          1,
          1,
          1,
          1,
          1,
          1,
          1,
          1,
          1,
          1,
          1,
          1,
          1,
          1,
          1,
          1,
          1,
          1,
          1,
          1,
          1,
          1,
          1,
          1,
          1,
          1,
          1,
          1,
          1,
          1,
          1,
          1,
          1,
          1,
          1,
          1,
          1,
          1,
          1,
          1,
          1,
          1,
          1,
          1,
          1,
          1,
          1,
          1,
          1,
          1,
          1,
          1,
          1,
          1,
          1,
          1,
          1,
          1,
          1,
          1,
          1,
          1,
          1,
          1,
          1,
          1,
          1,
          1,
          1,
          1,
          1,
          1,
          1,
          1,
          1,
          1,
          1,
          1,
          1,
          1,
          1,
          1,
          1,
          1,
          1,
          1,
          1,
          1,
          1,
          1,
          1,
          1,
          1,
          1,
          1,
          1,
          1,
          1,
          1,
          1,
          1,
          1,
          1,
          1,
          1,
          1,
          1,
          1,
          1,
          1,
          1,
          1,
          1,
          1,
          1,
          1,
          1,
          1,
          1,
          1,
          1,
          1,
          1,
          1,
          1,
          1,
          1,
          1,
          1,
          1,
          1,
          1,
          1,
          1,
          1,
          1,
          1,
          1,
          1,
          1,
          1,
          1,
          1,
          1,
          1,
          1,
          1,
          1,
          1,
          1,
          1,
          1,
          1,
          1,
          1,
          1,
          1,
          1,
          1,
          1,
          1,
          1,
          1,
          1,
          1,
          1,
          1,
          1,
          1,
          1,
          1,
          1,
          1,
          1,
          1,
          1,
          1,
          1,
          1,
          1,
          1,
          1,
          1,
          1,
          1,
          1,
          1,
          1,
          1,
          1,
          1,
          1,
          1,
          1,
          1,
          1,
          1,
          1,
          1,
          1,
          1,
          1,
          1,
          1,
          1,
          1,
          1,
          1,
          1,
          1,
          1,
          1,
          1,
          1,
          1,
          1,
          1,
          1,
          1,
          1,
          1,
          1,
          1,
          1,
          1,
          1,
          1,
          1,
          1,
          1,
          1,
          1,
          1,
          1,
          1,
          1,
          1,
          1,
          1,
          1,
          1,
          1,
          1,
          1,
          1,
          1,
          1,
          1,
          1,
          1,
          1,
          1,
          1,
          1,
          1,
          1,
          1,
          1,
          1,
          1,
          1,
          1,
          1,
          1,
          1,
          1,
          1,
          1,
          1,
          1,
          1,
          1,
          1,
          1,
          1,
          1,
          1,
          1,
          1,
          1,
          1,
          1,
          1,
          1,
          1,
          1,
          1,
          1,
          1,
          1,
          1,
          1,
          1,
          1,
          1,
          1,
          1,
          1,
          1,
          1,
          1,
          1,
          1,
          1,
          1,
          1,
          1,
          1,
          1,
          1,
          1,
          1,
          1,
          1,
          1,
          1,
          1,
          1,
          1,
          1,
          1,
          1,
          1,
          1,
          1,
          1,
          1,
          1,
          1,
          1,
          1,
          1,
          1,
          1,
          1,
          1,
          1,
          1,
          1,
          1,
          1,
          1,
          1,
          1,
          1,
          1,
          1,
          1,
          1,
          1,
          1,
          1,
          1,
          1,
          1,
          1,
          1,
          1,
          1,
          1,
          1,
          1,
          1,
          1,
          1,
          1,
          1,
          1,
          1,
          1,
          1,
          1,
          1,
          1,
          1,
          1,
          1,
          1,
          1,
          1,
          1,
          1,
          1,
          1,
          1,
          1,
          1,
          1,
          1,
          1,
          1,
          1,
          1,
          1,
          1,
          1,
          1,
          1,
          1,
          1,
          1,
          1,
          1,
          1,
          1,
          1,
          1,
          1,
          1,
          1,
          1,
          1,
          1,
          1,
          1,
          1,
          1,
          1,
          1,
          1,
          1,
          1,
          1,
          1,
          1,
          1,
          1,
          1,
          1,
          1,
          1,
          1,
          1,
          1,
          1,
          1,
          1,
          1,
          1,
          1,
          1,
          1,
          1,
          1,
          1,
          1,
          1,
          1,
          1,
          1,
          1,
          1,
          1,
          1,
          1,
          1,
          1,
          1,
          1,
          1,
          1,
          1,
          1,
          1,
          1,
          1,
          1,
          1,
          1,
          1,
          1,
          1,
          1,
          1,
          1,
          1,
          1,
          1,
          1,
          1,
          1,
          1,
          1,
          1,
          1,
          1,
          1,
          1,
          1,
          1,
          1,
          1,
          1,
          1,
          1,
          1,
          1,
          1,
          1,
          1,
          1,
          1,
          1,
          1,
          1,
          1,
          1,
          1,
          1,
          1,
          1,
          1,
          1,
          1,
          1,
          1,
          1,
          1,
          1,
          1,
          1,
          1,
          1,
          1,
          1,
          1,
          1,
          1,
          1,
          1,
          1,
          1,
          1,
          1,
          1,
          1,
          1,
          1,
          1,
          1,
          1,
          1,
          1,
          1,
          1,
          1,
          1,
          1,
          1,
          1,
          1,
          1,
          1,
          1,
          1,
          1,
          1,
          1,
          1,
          1,
          1,
          1,
          1,
          1,
          1,
          1,
          1,
          1,
          1,
          1,
          1,
          1,
          1,
          1,
          1,
          1,
          1,
          1,
          1,
          1,
          1,
          1,
          1,
          1,
          1,
          1,
          1,
          1,
          1,
          1,
          1,
          1,
          1,
          1,
          1,
          1,
          1,
          1,
          1,
          1,
          1,
          1,
          1,
          1,
          1,
          1,
          1,
          1,
          1,
          1,
          1,
          1,
          1,
          1,
          1,
          1,
          1,
          1,
          1,
          1,
          1,
          1,
          1,
          1,
          1,
          1,
          1,
          1,
          1,
          1,
          1,
          1,
          1,
          1,
          1,
          1,
          1,
          1,
          1,
          1,
          1,
          1,
          1,
          1,
          1,
          1,
          1,
          1,
          1,
          1,
          1,
          1,
          1,
          1,
          1,
          1,
          1,
          1,
          1,
          1,
          1,
          1,
          1,
          1,
          1,
          1,
          1,
          1,
          1,
          1,
          1,
          1,
          1,
          1,
          1,
          1,
          1,
          1,
          1,
          1,
          1,
          1,
          1,
          1,
          1,
          1,
          1,
          1,
          1,
          1,
          1,
          1,
          1,
          1,
          1,
          1,
          1,
          1,
          1,
          1,
          1,
          1,
          1,
          1,
          1,
          1,
          1,
          1,
          1,
          1,
          1,
          1,
          1,
          1,
          1,
          1,
          1,
          1,
          1,
          1,
          1,
          1,
          1,
          1,
          1,
          1,
          1,
          1,
          1,
          1,
          1,
          1,
          1,
          1,
          1,
          1,
          1,
          1,
          1,
          1,
          1,
          1,
          1,
          1,
          1,
          1,
          1,
          1,
          1,
          1,
          1,
          1,
          1,
          1,
          1,
          1,
          1,
          1,
          1,
          1,
          1,
          1,
          1,
          1,
          1,
          1,
          1,
          1,
          1,
          1,
          1,
          1,
          1,
          1,
          1,
          1,
          1,
          1,
          1,
          1,
          1,
          1,
          1,
          1,
          1,
          1,
          1,
          1,
          1,
          1,
          1,
          1,
          1,
          1,
          1,
          1,
          1,
          1,
          1
         ],
         "yaxis": "y"
        }
       ],
       "layout": {
        "barmode": "relative",
        "legend": {
         "tracegroupgap": 0
        },
        "margin": {
         "t": 60
        },
        "template": {
         "data": {
          "bar": [
           {
            "error_x": {
             "color": "#2a3f5f"
            },
            "error_y": {
             "color": "#2a3f5f"
            },
            "marker": {
             "line": {
              "color": "#E5ECF6",
              "width": 0.5
             },
             "pattern": {
              "fillmode": "overlay",
              "size": 10,
              "solidity": 0.2
             }
            },
            "type": "bar"
           }
          ],
          "barpolar": [
           {
            "marker": {
             "line": {
              "color": "#E5ECF6",
              "width": 0.5
             },
             "pattern": {
              "fillmode": "overlay",
              "size": 10,
              "solidity": 0.2
             }
            },
            "type": "barpolar"
           }
          ],
          "carpet": [
           {
            "aaxis": {
             "endlinecolor": "#2a3f5f",
             "gridcolor": "white",
             "linecolor": "white",
             "minorgridcolor": "white",
             "startlinecolor": "#2a3f5f"
            },
            "baxis": {
             "endlinecolor": "#2a3f5f",
             "gridcolor": "white",
             "linecolor": "white",
             "minorgridcolor": "white",
             "startlinecolor": "#2a3f5f"
            },
            "type": "carpet"
           }
          ],
          "choropleth": [
           {
            "colorbar": {
             "outlinewidth": 0,
             "ticks": ""
            },
            "type": "choropleth"
           }
          ],
          "contour": [
           {
            "colorbar": {
             "outlinewidth": 0,
             "ticks": ""
            },
            "colorscale": [
             [
              0,
              "#0d0887"
             ],
             [
              0.1111111111111111,
              "#46039f"
             ],
             [
              0.2222222222222222,
              "#7201a8"
             ],
             [
              0.3333333333333333,
              "#9c179e"
             ],
             [
              0.4444444444444444,
              "#bd3786"
             ],
             [
              0.5555555555555556,
              "#d8576b"
             ],
             [
              0.6666666666666666,
              "#ed7953"
             ],
             [
              0.7777777777777778,
              "#fb9f3a"
             ],
             [
              0.8888888888888888,
              "#fdca26"
             ],
             [
              1,
              "#f0f921"
             ]
            ],
            "type": "contour"
           }
          ],
          "contourcarpet": [
           {
            "colorbar": {
             "outlinewidth": 0,
             "ticks": ""
            },
            "type": "contourcarpet"
           }
          ],
          "heatmap": [
           {
            "colorbar": {
             "outlinewidth": 0,
             "ticks": ""
            },
            "colorscale": [
             [
              0,
              "#0d0887"
             ],
             [
              0.1111111111111111,
              "#46039f"
             ],
             [
              0.2222222222222222,
              "#7201a8"
             ],
             [
              0.3333333333333333,
              "#9c179e"
             ],
             [
              0.4444444444444444,
              "#bd3786"
             ],
             [
              0.5555555555555556,
              "#d8576b"
             ],
             [
              0.6666666666666666,
              "#ed7953"
             ],
             [
              0.7777777777777778,
              "#fb9f3a"
             ],
             [
              0.8888888888888888,
              "#fdca26"
             ],
             [
              1,
              "#f0f921"
             ]
            ],
            "type": "heatmap"
           }
          ],
          "heatmapgl": [
           {
            "colorbar": {
             "outlinewidth": 0,
             "ticks": ""
            },
            "colorscale": [
             [
              0,
              "#0d0887"
             ],
             [
              0.1111111111111111,
              "#46039f"
             ],
             [
              0.2222222222222222,
              "#7201a8"
             ],
             [
              0.3333333333333333,
              "#9c179e"
             ],
             [
              0.4444444444444444,
              "#bd3786"
             ],
             [
              0.5555555555555556,
              "#d8576b"
             ],
             [
              0.6666666666666666,
              "#ed7953"
             ],
             [
              0.7777777777777778,
              "#fb9f3a"
             ],
             [
              0.8888888888888888,
              "#fdca26"
             ],
             [
              1,
              "#f0f921"
             ]
            ],
            "type": "heatmapgl"
           }
          ],
          "histogram": [
           {
            "marker": {
             "pattern": {
              "fillmode": "overlay",
              "size": 10,
              "solidity": 0.2
             }
            },
            "type": "histogram"
           }
          ],
          "histogram2d": [
           {
            "colorbar": {
             "outlinewidth": 0,
             "ticks": ""
            },
            "colorscale": [
             [
              0,
              "#0d0887"
             ],
             [
              0.1111111111111111,
              "#46039f"
             ],
             [
              0.2222222222222222,
              "#7201a8"
             ],
             [
              0.3333333333333333,
              "#9c179e"
             ],
             [
              0.4444444444444444,
              "#bd3786"
             ],
             [
              0.5555555555555556,
              "#d8576b"
             ],
             [
              0.6666666666666666,
              "#ed7953"
             ],
             [
              0.7777777777777778,
              "#fb9f3a"
             ],
             [
              0.8888888888888888,
              "#fdca26"
             ],
             [
              1,
              "#f0f921"
             ]
            ],
            "type": "histogram2d"
           }
          ],
          "histogram2dcontour": [
           {
            "colorbar": {
             "outlinewidth": 0,
             "ticks": ""
            },
            "colorscale": [
             [
              0,
              "#0d0887"
             ],
             [
              0.1111111111111111,
              "#46039f"
             ],
             [
              0.2222222222222222,
              "#7201a8"
             ],
             [
              0.3333333333333333,
              "#9c179e"
             ],
             [
              0.4444444444444444,
              "#bd3786"
             ],
             [
              0.5555555555555556,
              "#d8576b"
             ],
             [
              0.6666666666666666,
              "#ed7953"
             ],
             [
              0.7777777777777778,
              "#fb9f3a"
             ],
             [
              0.8888888888888888,
              "#fdca26"
             ],
             [
              1,
              "#f0f921"
             ]
            ],
            "type": "histogram2dcontour"
           }
          ],
          "mesh3d": [
           {
            "colorbar": {
             "outlinewidth": 0,
             "ticks": ""
            },
            "type": "mesh3d"
           }
          ],
          "parcoords": [
           {
            "line": {
             "colorbar": {
              "outlinewidth": 0,
              "ticks": ""
             }
            },
            "type": "parcoords"
           }
          ],
          "pie": [
           {
            "automargin": true,
            "type": "pie"
           }
          ],
          "scatter": [
           {
            "marker": {
             "colorbar": {
              "outlinewidth": 0,
              "ticks": ""
             }
            },
            "type": "scatter"
           }
          ],
          "scatter3d": [
           {
            "line": {
             "colorbar": {
              "outlinewidth": 0,
              "ticks": ""
             }
            },
            "marker": {
             "colorbar": {
              "outlinewidth": 0,
              "ticks": ""
             }
            },
            "type": "scatter3d"
           }
          ],
          "scattercarpet": [
           {
            "marker": {
             "colorbar": {
              "outlinewidth": 0,
              "ticks": ""
             }
            },
            "type": "scattercarpet"
           }
          ],
          "scattergeo": [
           {
            "marker": {
             "colorbar": {
              "outlinewidth": 0,
              "ticks": ""
             }
            },
            "type": "scattergeo"
           }
          ],
          "scattergl": [
           {
            "marker": {
             "colorbar": {
              "outlinewidth": 0,
              "ticks": ""
             }
            },
            "type": "scattergl"
           }
          ],
          "scattermapbox": [
           {
            "marker": {
             "colorbar": {
              "outlinewidth": 0,
              "ticks": ""
             }
            },
            "type": "scattermapbox"
           }
          ],
          "scatterpolar": [
           {
            "marker": {
             "colorbar": {
              "outlinewidth": 0,
              "ticks": ""
             }
            },
            "type": "scatterpolar"
           }
          ],
          "scatterpolargl": [
           {
            "marker": {
             "colorbar": {
              "outlinewidth": 0,
              "ticks": ""
             }
            },
            "type": "scatterpolargl"
           }
          ],
          "scatterternary": [
           {
            "marker": {
             "colorbar": {
              "outlinewidth": 0,
              "ticks": ""
             }
            },
            "type": "scatterternary"
           }
          ],
          "surface": [
           {
            "colorbar": {
             "outlinewidth": 0,
             "ticks": ""
            },
            "colorscale": [
             [
              0,
              "#0d0887"
             ],
             [
              0.1111111111111111,
              "#46039f"
             ],
             [
              0.2222222222222222,
              "#7201a8"
             ],
             [
              0.3333333333333333,
              "#9c179e"
             ],
             [
              0.4444444444444444,
              "#bd3786"
             ],
             [
              0.5555555555555556,
              "#d8576b"
             ],
             [
              0.6666666666666666,
              "#ed7953"
             ],
             [
              0.7777777777777778,
              "#fb9f3a"
             ],
             [
              0.8888888888888888,
              "#fdca26"
             ],
             [
              1,
              "#f0f921"
             ]
            ],
            "type": "surface"
           }
          ],
          "table": [
           {
            "cells": {
             "fill": {
              "color": "#EBF0F8"
             },
             "line": {
              "color": "white"
             }
            },
            "header": {
             "fill": {
              "color": "#C8D4E3"
             },
             "line": {
              "color": "white"
             }
            },
            "type": "table"
           }
          ]
         },
         "layout": {
          "annotationdefaults": {
           "arrowcolor": "#2a3f5f",
           "arrowhead": 0,
           "arrowwidth": 1
          },
          "autotypenumbers": "strict",
          "coloraxis": {
           "colorbar": {
            "outlinewidth": 0,
            "ticks": ""
           }
          },
          "colorscale": {
           "diverging": [
            [
             0,
             "#8e0152"
            ],
            [
             0.1,
             "#c51b7d"
            ],
            [
             0.2,
             "#de77ae"
            ],
            [
             0.3,
             "#f1b6da"
            ],
            [
             0.4,
             "#fde0ef"
            ],
            [
             0.5,
             "#f7f7f7"
            ],
            [
             0.6,
             "#e6f5d0"
            ],
            [
             0.7,
             "#b8e186"
            ],
            [
             0.8,
             "#7fbc41"
            ],
            [
             0.9,
             "#4d9221"
            ],
            [
             1,
             "#276419"
            ]
           ],
           "sequential": [
            [
             0,
             "#0d0887"
            ],
            [
             0.1111111111111111,
             "#46039f"
            ],
            [
             0.2222222222222222,
             "#7201a8"
            ],
            [
             0.3333333333333333,
             "#9c179e"
            ],
            [
             0.4444444444444444,
             "#bd3786"
            ],
            [
             0.5555555555555556,
             "#d8576b"
            ],
            [
             0.6666666666666666,
             "#ed7953"
            ],
            [
             0.7777777777777778,
             "#fb9f3a"
            ],
            [
             0.8888888888888888,
             "#fdca26"
            ],
            [
             1,
             "#f0f921"
            ]
           ],
           "sequentialminus": [
            [
             0,
             "#0d0887"
            ],
            [
             0.1111111111111111,
             "#46039f"
            ],
            [
             0.2222222222222222,
             "#7201a8"
            ],
            [
             0.3333333333333333,
             "#9c179e"
            ],
            [
             0.4444444444444444,
             "#bd3786"
            ],
            [
             0.5555555555555556,
             "#d8576b"
            ],
            [
             0.6666666666666666,
             "#ed7953"
            ],
            [
             0.7777777777777778,
             "#fb9f3a"
            ],
            [
             0.8888888888888888,
             "#fdca26"
            ],
            [
             1,
             "#f0f921"
            ]
           ]
          },
          "colorway": [
           "#636efa",
           "#EF553B",
           "#00cc96",
           "#ab63fa",
           "#FFA15A",
           "#19d3f3",
           "#FF6692",
           "#B6E880",
           "#FF97FF",
           "#FECB52"
          ],
          "font": {
           "color": "#2a3f5f"
          },
          "geo": {
           "bgcolor": "white",
           "lakecolor": "white",
           "landcolor": "#E5ECF6",
           "showlakes": true,
           "showland": true,
           "subunitcolor": "white"
          },
          "hoverlabel": {
           "align": "left"
          },
          "hovermode": "closest",
          "mapbox": {
           "style": "light"
          },
          "paper_bgcolor": "white",
          "plot_bgcolor": "#E5ECF6",
          "polar": {
           "angularaxis": {
            "gridcolor": "white",
            "linecolor": "white",
            "ticks": ""
           },
           "bgcolor": "#E5ECF6",
           "radialaxis": {
            "gridcolor": "white",
            "linecolor": "white",
            "ticks": ""
           }
          },
          "scene": {
           "xaxis": {
            "backgroundcolor": "#E5ECF6",
            "gridcolor": "white",
            "gridwidth": 2,
            "linecolor": "white",
            "showbackground": true,
            "ticks": "",
            "zerolinecolor": "white"
           },
           "yaxis": {
            "backgroundcolor": "#E5ECF6",
            "gridcolor": "white",
            "gridwidth": 2,
            "linecolor": "white",
            "showbackground": true,
            "ticks": "",
            "zerolinecolor": "white"
           },
           "zaxis": {
            "backgroundcolor": "#E5ECF6",
            "gridcolor": "white",
            "gridwidth": 2,
            "linecolor": "white",
            "showbackground": true,
            "ticks": "",
            "zerolinecolor": "white"
           }
          },
          "shapedefaults": {
           "line": {
            "color": "#2a3f5f"
           }
          },
          "ternary": {
           "aaxis": {
            "gridcolor": "white",
            "linecolor": "white",
            "ticks": ""
           },
           "baxis": {
            "gridcolor": "white",
            "linecolor": "white",
            "ticks": ""
           },
           "bgcolor": "#E5ECF6",
           "caxis": {
            "gridcolor": "white",
            "linecolor": "white",
            "ticks": ""
           }
          },
          "title": {
           "x": 0.05
          },
          "xaxis": {
           "automargin": true,
           "gridcolor": "white",
           "linecolor": "white",
           "ticks": "",
           "title": {
            "standoff": 15
           },
           "zerolinecolor": "white",
           "zerolinewidth": 2
          },
          "yaxis": {
           "automargin": true,
           "gridcolor": "white",
           "linecolor": "white",
           "ticks": "",
           "title": {
            "standoff": 15
           },
           "zerolinecolor": "white",
           "zerolinewidth": 2
          }
         }
        },
        "xaxis": {
         "anchor": "y",
         "domain": [
          0,
          1
         ],
         "title": {
          "text": "date_diff_categorical"
         }
        },
        "yaxis": {
         "anchor": "x",
         "domain": [
          0,
          1
         ],
         "title": {
          "text": "count"
         }
        }
       }
      }
     },
     "metadata": {},
     "output_type": "display_data"
    }
   ],
   "source": [
    "fig = px.bar(clients_with_ads, x='date_diff_categorical')\n",
    "fig.show()"
   ]
  }
 ],
 "metadata": {
  "kernelspec": {
   "display_name": "base",
   "language": "python",
   "name": "python3"
  },
  "language_info": {
   "codemirror_mode": {
    "name": "ipython",
    "version": 3
   },
   "file_extension": ".py",
   "mimetype": "text/x-python",
   "name": "python",
   "nbconvert_exporter": "python",
   "pygments_lexer": "ipython3",
   "version": "3.9.12"
  },
  "vscode": {
   "interpreter": {
    "hash": "6f5583cf1d9466b5c27e75c89cc6b383bed5736d6b16c51c8074d8690011a952"
   }
  }
 },
 "nbformat": 4,
 "nbformat_minor": 4
}
