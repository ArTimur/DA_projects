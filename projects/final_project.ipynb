{
 "cells": [
  {
   "cell_type": "code",
   "execution_count": 60,
   "metadata": {},
   "outputs": [],
   "source": [
    "import pandas as pd\n",
    "import pandahouse as ph\n",
    "import seaborn as sns\n",
    "import matplotlib.pyplot as plt\n",
    "from scipy.stats import norm\n",
    "from scipy.stats import chi2_contingency\n",
    "import numpy as np\n",
    "from tqdm.auto import tqdm\n",
    "from json import load\n",
    "\n",
    "plt.style.use('ggplot')"
   ]
  },
  {
   "cell_type": "markdown",
   "metadata": {},
   "source": [
    "### Задание 1. A/B–тестирование\n",
    "1.1 Условие\n",
    "\n",
    "Одной из основных задач аналитика в нашей команде является корректное проведение экспериментов. Для этого мы применяем метод A/B–тестирования. В ходе тестирования одной гипотезы целевой группе была предложена новая механика оплаты услуг на сайте, у контрольной группы оставалась базовая механика. В качестве задания Вам необходимо проанализировать итоги эксперимента и сделать вывод, стоит ли запускать новую механику оплаты на всех пользователей.\n",
    "\n",
    "1.3 Вопросы\n",
    "\n",
    "Предлагаем Вам ответить на следующие вопросы:\n",
    "\n",
    "На какие метрики Вы смотрите в ходе анализа и почему?\n",
    "Имеются ли различия в показателях и с чем они могут быть связаны?\n",
    "Являются ли эти различия статистически значимыми?\n",
    "Стоит ли запускать новую механику на всех пользователей?\n",
    "Данный список вопросов не является обязательным, и Вы можете при своём ответе опираться на собственный план.\n",
    "\n",
    "1.4 Требования к ответу\n",
    "\n",
    "При выполнении тестового задания необходимо использовать язык программирования Python. \n",
    "В файле обязательно должны быть комментарии к тем действиям, которые Вы выполняете с данными. \n",
    "Файл должен представлять собой законченный отчёт с выводами, сделанными в ходе исследования."
   ]
  },
  {
   "cell_type": "markdown",
   "metadata": {},
   "source": [
    "1.2 Входные данные\n",
    "\n",
    "В качестве входных данных Вы имеете 4 csv-файла:\n",
    "\n",
    "**groups.csv** - файл с информацией о принадлежности пользователя к контрольной или экспериментальной группе (А – контроль, B – целевая группа) \n",
    "**groups_add.csv** - дополнительный файл с пользователями, который вам прислали спустя 2 дня после передачи данных  \n",
    "**active_studs.csv** - файл с информацией о пользователях, которые зашли на платформу в дни проведения эксперимента.  \n",
    "**checks.csv** - файл с информацией об оплатах пользователей в дни проведения эксперимента. "
   ]
  },
  {
   "cell_type": "code",
   "execution_count": 61,
   "metadata": {},
   "outputs": [
    {
     "name": "stdout",
     "output_type": "stream",
     "text": [
      "     id grp\n",
      "0  1489   B\n",
      "1  1627   A\n",
      "2  1768   B\n",
      "3  1783   B\n",
      "4  1794   A \n",
      "\n",
      "value_counts\n",
      "B    59813\n",
      "A    14671\n",
      "Name: grp, dtype: int64\n",
      "\n",
      "\n",
      "<class 'pandas.core.frame.DataFrame'>\n",
      "RangeIndex: 74484 entries, 0 to 74483\n",
      "Data columns (total 2 columns):\n",
      " #   Column  Non-Null Count  Dtype \n",
      "---  ------  --------------  ----- \n",
      " 0   id      74484 non-null  int64 \n",
      " 1   grp     74484 non-null  object\n",
      "dtypes: int64(1), object(1)\n",
      "memory usage: 1.1+ MB\n"
     ]
    }
   ],
   "source": [
    "# группы: контрольная, экспериментальная\n",
    "\n",
    "groups = pd.read_csv('groups.csv', sep=';')\n",
    "print(groups.head(), '\\n')\n",
    "print('value_counts', groups.grp.value_counts(),'\\n' , sep='\\n')\n",
    "groups.info()"
   ]
  },
  {
   "cell_type": "code",
   "execution_count": 62,
   "metadata": {},
   "outputs": [
    {
     "name": "stdout",
     "output_type": "stream",
     "text": [
      "        id grp\n",
      "0  5694584   B\n",
      "1  5694830   B\n",
      "2  5695057   B\n",
      "3  5698872   B\n",
      "4  5699067   B \n",
      "\n",
      "value_counts\n",
      "B    70\n",
      "A    22\n",
      "Name: grp, dtype: int64\n",
      "\n",
      "\n",
      "<class 'pandas.core.frame.DataFrame'>\n",
      "RangeIndex: 92 entries, 0 to 91\n",
      "Data columns (total 2 columns):\n",
      " #   Column  Non-Null Count  Dtype \n",
      "---  ------  --------------  ----- \n",
      " 0   id      92 non-null     int64 \n",
      " 1   grp     92 non-null     object\n",
      "dtypes: int64(1), object(1)\n",
      "memory usage: 1.6+ KB\n"
     ]
    }
   ],
   "source": [
    "# дополнительный файл с пользователями\n",
    "\n",
    "group_add = pd.read_csv('group_add.csv', sep=',')\n",
    "print(group_add.head(), '\\n')\n",
    "print('value_counts', group_add.grp.value_counts(), '\\n', sep='\\n')\n",
    "group_add.info()"
   ]
  },
  {
   "cell_type": "code",
   "execution_count": 63,
   "metadata": {},
   "outputs": [
    {
     "name": "stdout",
     "output_type": "stream",
     "text": [
      "   student_id\n",
      "0      581585\n",
      "1     5723133\n",
      "2     3276743\n",
      "3     4238589\n",
      "4     4475369 \n",
      "\n",
      "<class 'pandas.core.frame.DataFrame'>\n",
      "RangeIndex: 8341 entries, 0 to 8340\n",
      "Data columns (total 1 columns):\n",
      " #   Column      Non-Null Count  Dtype\n",
      "---  ------      --------------  -----\n",
      " 0   student_id  8341 non-null   int64\n",
      "dtypes: int64(1)\n",
      "memory usage: 65.3 KB\n"
     ]
    }
   ],
   "source": [
    "#участники эксперимента\n",
    "\n",
    "active_studs = pd.read_csv('active_studs.csv', sep=';')\n",
    "print(active_studs.head(), '\\n')\n",
    "active_studs.info()"
   ]
  },
  {
   "cell_type": "code",
   "execution_count": 64,
   "metadata": {},
   "outputs": [
    {
     "name": "stdout",
     "output_type": "stream",
     "text": [
      "   student_id    rev\n",
      "0        1627  990.0\n",
      "1        3185  690.0\n",
      "2       25973  690.0\n",
      "3       26280  690.0\n",
      "4      100300  990.0 \n",
      "\n",
      "<class 'pandas.core.frame.DataFrame'>\n",
      "RangeIndex: 541 entries, 0 to 540\n",
      "Data columns (total 2 columns):\n",
      " #   Column      Non-Null Count  Dtype  \n",
      "---  ------      --------------  -----  \n",
      " 0   student_id  541 non-null    int64  \n",
      " 1   rev         541 non-null    float64\n",
      "dtypes: float64(1), int64(1)\n",
      "memory usage: 8.6 KB\n"
     ]
    }
   ],
   "source": [
    "# пользователи совершившие оплату в день эксперимента\n",
    "\n",
    "checks = pd.read_csv('checks.csv', sep=';')\n",
    "print(checks.head(), '\\n')\n",
    "checks.info()"
   ]
  },
  {
   "cell_type": "code",
   "execution_count": 65,
   "metadata": {},
   "outputs": [
    {
     "data": {
      "text/plain": [
       "0"
      ]
     },
     "execution_count": 65,
     "metadata": {},
     "output_type": "execute_result"
    }
   ],
   "source": [
    "# посмотрим есть ли повторные оплаы\n",
    "\n",
    "checks.duplicated(subset=['student_id']).sum()"
   ]
  },
  {
   "cell_type": "code",
   "execution_count": 66,
   "metadata": {},
   "outputs": [
    {
     "name": "stdout",
     "output_type": "stream",
     "text": [
      "<class 'pandas.core.frame.DataFrame'>\n",
      "Int64Index: 8341 entries, 0 to 8340\n",
      "Data columns (total 3 columns):\n",
      " #   Column      Non-Null Count  Dtype  \n",
      "---  ------      --------------  -----  \n",
      " 0   student_id  8341 non-null   int64  \n",
      " 1   id          8328 non-null   float64\n",
      " 2   grp         8328 non-null   object \n",
      "dtypes: float64(1), int64(1), object(1)\n",
      "memory usage: 260.7+ KB\n"
     ]
    }
   ],
   "source": [
    "# проверим все ли участвовали в эксперименте - всего в дни проведения эксперимента зашло на платформу 8341, \n",
    "# а принимало участие 8328 (разбиты на группы)\n",
    "# как вариант - это могут быть новые клиенты, которых еще не расплитовали\n",
    "\n",
    "active_studs.merge(groups, how='left', left_on='student_id', right_on='id').info()"
   ]
  },
  {
   "cell_type": "code",
   "execution_count": 67,
   "metadata": {},
   "outputs": [
    {
     "name": "stdout",
     "output_type": "stream",
     "text": [
      "<class 'pandas.core.frame.DataFrame'>\n",
      "Int64Index: 541 entries, 1 to 74497\n",
      "Data columns (total 4 columns):\n",
      " #   Column  Non-Null Count  Dtype  \n",
      "---  ------  --------------  -----  \n",
      " 0   id      540 non-null    float64\n",
      " 1   grp     540 non-null    object \n",
      " 2   active  391 non-null    float64\n",
      " 3   rev     541 non-null    float64\n",
      "dtypes: float64(3), object(1)\n",
      "memory usage: 21.1+ KB\n"
     ]
    }
   ],
   "source": [
    "# проверим есть ли те кто платил, но не заходил на платформу во время эксперимента - таких 150 чел.\n",
    "# как вариант - товар покупался ранее в рассрочку, и идут отсроченные платежи (автомат. списание)???\n",
    "\n",
    "groups.merge(active_studs, how='outer', left_on='id', right_on='student_id') \\\n",
    "              .merge(checks, how='outer', left_on='id', right_on='student_id').drop('student_id_y', axis=1) \\\n",
    "              .rename(columns={\"student_id_x\": \"active\"}).query(\"rev.notnull()\").info()"
   ]
  },
  {
   "cell_type": "code",
   "execution_count": 68,
   "metadata": {
    "scrolled": false
   },
   "outputs": [
    {
     "data": {
      "text/html": [
       "<div>\n",
       "<style scoped>\n",
       "    .dataframe tbody tr th:only-of-type {\n",
       "        vertical-align: middle;\n",
       "    }\n",
       "\n",
       "    .dataframe tbody tr th {\n",
       "        vertical-align: top;\n",
       "    }\n",
       "\n",
       "    .dataframe thead th {\n",
       "        text-align: right;\n",
       "    }\n",
       "</style>\n",
       "<table border=\"1\" class=\"dataframe\">\n",
       "  <thead>\n",
       "    <tr style=\"text-align: right;\">\n",
       "      <th></th>\n",
       "      <th>id</th>\n",
       "      <th>grp</th>\n",
       "      <th>active</th>\n",
       "      <th>rev</th>\n",
       "    </tr>\n",
       "  </thead>\n",
       "  <tbody>\n",
       "    <tr>\n",
       "      <th>0</th>\n",
       "      <td>1489</td>\n",
       "      <td>B</td>\n",
       "      <td>0</td>\n",
       "      <td>0.0</td>\n",
       "    </tr>\n",
       "    <tr>\n",
       "      <th>1</th>\n",
       "      <td>1627</td>\n",
       "      <td>A</td>\n",
       "      <td>1</td>\n",
       "      <td>990.0</td>\n",
       "    </tr>\n",
       "    <tr>\n",
       "      <th>2</th>\n",
       "      <td>1768</td>\n",
       "      <td>B</td>\n",
       "      <td>0</td>\n",
       "      <td>0.0</td>\n",
       "    </tr>\n",
       "    <tr>\n",
       "      <th>3</th>\n",
       "      <td>1783</td>\n",
       "      <td>B</td>\n",
       "      <td>0</td>\n",
       "      <td>0.0</td>\n",
       "    </tr>\n",
       "    <tr>\n",
       "      <th>4</th>\n",
       "      <td>1794</td>\n",
       "      <td>A</td>\n",
       "      <td>0</td>\n",
       "      <td>0.0</td>\n",
       "    </tr>\n",
       "    <tr>\n",
       "      <th>...</th>\n",
       "      <td>...</td>\n",
       "      <td>...</td>\n",
       "      <td>...</td>\n",
       "      <td>...</td>\n",
       "    </tr>\n",
       "    <tr>\n",
       "      <th>74479</th>\n",
       "      <td>5692459</td>\n",
       "      <td>B</td>\n",
       "      <td>0</td>\n",
       "      <td>0.0</td>\n",
       "    </tr>\n",
       "    <tr>\n",
       "      <th>74480</th>\n",
       "      <td>5692572</td>\n",
       "      <td>B</td>\n",
       "      <td>0</td>\n",
       "      <td>0.0</td>\n",
       "    </tr>\n",
       "    <tr>\n",
       "      <th>74481</th>\n",
       "      <td>5692865</td>\n",
       "      <td>B</td>\n",
       "      <td>0</td>\n",
       "      <td>0.0</td>\n",
       "    </tr>\n",
       "    <tr>\n",
       "      <th>74482</th>\n",
       "      <td>5693667</td>\n",
       "      <td>B</td>\n",
       "      <td>0</td>\n",
       "      <td>0.0</td>\n",
       "    </tr>\n",
       "    <tr>\n",
       "      <th>74483</th>\n",
       "      <td>5694419</td>\n",
       "      <td>B</td>\n",
       "      <td>0</td>\n",
       "      <td>0.0</td>\n",
       "    </tr>\n",
       "  </tbody>\n",
       "</table>\n",
       "<p>74484 rows × 4 columns</p>\n",
       "</div>"
      ],
      "text/plain": [
       "            id grp  active    rev\n",
       "0         1489   B       0    0.0\n",
       "1         1627   A       1  990.0\n",
       "2         1768   B       0    0.0\n",
       "3         1783   B       0    0.0\n",
       "4         1794   A       0    0.0\n",
       "...        ...  ..     ...    ...\n",
       "74479  5692459   B       0    0.0\n",
       "74480  5692572   B       0    0.0\n",
       "74481  5692865   B       0    0.0\n",
       "74482  5693667   B       0    0.0\n",
       "74483  5694419   B       0    0.0\n",
       "\n",
       "[74484 rows x 4 columns]"
      ]
     },
     "execution_count": 68,
     "metadata": {},
     "output_type": "execute_result"
    }
   ],
   "source": [
    "# Составим таблицу для расчета метрик.\n",
    "# У нас будут id клиента, принадлежность к группе, признак акт-ти (участие в экс-те) и чек\n",
    "# активных (active) просто пометим: 0 - неактивный, 1- активный\n",
    "\n",
    "table = groups.merge(active_studs, how='left', left_on='id', right_on='student_id') \\\n",
    "              .merge(checks, how='left', left_on='id', right_on='student_id').drop('student_id_y', axis=1) \\\n",
    "              .rename(columns={\"student_id_x\": \"active\"}) \\\n",
    "              .fillna(0)\n",
    "\n",
    "table['active'] = table.active.apply(lambda x: 1 if x > 0 else 0)\n",
    "table"
   ]
  },
  {
   "cell_type": "code",
   "execution_count": 69,
   "metadata": {},
   "outputs": [
    {
     "data": {
      "text/html": [
       "<div>\n",
       "<style scoped>\n",
       "    .dataframe tbody tr th:only-of-type {\n",
       "        vertical-align: middle;\n",
       "    }\n",
       "\n",
       "    .dataframe tbody tr th {\n",
       "        vertical-align: top;\n",
       "    }\n",
       "\n",
       "    .dataframe thead th {\n",
       "        text-align: right;\n",
       "    }\n",
       "</style>\n",
       "<table border=\"1\" class=\"dataframe\">\n",
       "  <thead>\n",
       "    <tr style=\"text-align: right;\">\n",
       "      <th></th>\n",
       "      <th>grp</th>\n",
       "      <th>count_of_ids</th>\n",
       "      <th>ARPU</th>\n",
       "      <th>ARPPU</th>\n",
       "      <th>CR</th>\n",
       "    </tr>\n",
       "  </thead>\n",
       "  <tbody>\n",
       "    <tr>\n",
       "      <th>0</th>\n",
       "      <td>A</td>\n",
       "      <td>1535</td>\n",
       "      <td>47.439739</td>\n",
       "      <td>933.589744</td>\n",
       "      <td>0.050814</td>\n",
       "    </tr>\n",
       "    <tr>\n",
       "      <th>1</th>\n",
       "      <td>B</td>\n",
       "      <td>6793</td>\n",
       "      <td>57.864567</td>\n",
       "      <td>1255.827487</td>\n",
       "      <td>0.046077</td>\n",
       "    </tr>\n",
       "  </tbody>\n",
       "</table>\n",
       "</div>"
      ],
      "text/plain": [
       "  grp  count_of_ids       ARPU        ARPPU        CR\n",
       "0   A          1535  47.439739   933.589744  0.050814\n",
       "1   B          6793  57.864567  1255.827487  0.046077"
      ]
     },
     "execution_count": 69,
     "metadata": {},
     "output_type": "execute_result"
    }
   ],
   "source": [
    "# посчитаем все метрики за дни проведения эксперимента (active == 1), которые можно построить на основании имеющихся данных.\n",
    "\n",
    "table.query('active == 1') \\\n",
    "    .groupby('grp', as_index=False).agg(count_of_ids=('id', 'count'), # кол-во пользователей в эксперименте\n",
    "                                        ARPU=('rev', 'mean'), # средний чек\n",
    "                                        ARPPU=('rev', lambda x: np.mean(pd.Series(x).loc[lambda x : x > 0])), # ср чек на платящего пользователя\n",
    "                                        CR=('rev', lambda x: np.mean(x > 0))) # конверсия в оплату"
   ]
  },
  {
   "cell_type": "code",
   "execution_count": 70,
   "metadata": {},
   "outputs": [],
   "source": [
    "# посмотрим на распределения платежей в разрезе групп"
   ]
  },
  {
   "cell_type": "code",
   "execution_count": 71,
   "metadata": {},
   "outputs": [
    {
     "data": {
      "text/plain": [
       "<AxesSubplot:xlabel='rev', ylabel='Count'>"
      ]
     },
     "execution_count": 71,
     "metadata": {},
     "output_type": "execute_result"
    },
    {
     "data": {
      "image/png": "[encoded data removed]",
      "text/plain": [
       "<Figure size 432x288 with 1 Axes>"
      ]
     },
     "metadata": {},
     "output_type": "display_data"
    }
   ],
   "source": [
    "sns.histplot(data=table.query('rev > 0 and active == 1'), x=\"rev\", hue=\"grp\", multiple=\"dodge\", shrink=.8, bins=6)"
   ]
  },
  {
   "cell_type": "code",
   "execution_count": 72,
   "metadata": {},
   "outputs": [
    {
     "data": {
      "text/plain": [
       "1900.0000    92\n",
       "290.0000     45\n",
       "1900.0001    35\n",
       "199.0000     27\n",
       "840.0000     21\n",
       "990.0000     17\n",
       "690.0000     13\n",
       "1140.0000     9\n",
       "398.0000      6\n",
       "590.0000      6\n",
       "Name: rev, dtype: int64"
      ]
     },
     "execution_count": 72,
     "metadata": {},
     "output_type": "execute_result"
    }
   ],
   "source": [
    "# в тестовой группе есть выброс в покупках на сумму около 2000р. посмотрим детальнее:\n",
    "\n",
    "table.query('rev > 0 and grp == \"B\" and active == 1').rev.value_counts().head(10)"
   ]
  },
  {
   "cell_type": "markdown",
   "metadata": {},
   "source": [
    "Итак:  \n",
    "- Кол-во участников тестовой группы значительно превосходит контрольную. Это плохая практика, но имеем то что имеем   \n",
    "\n",
    "- Метрики - рост средних: **ARPU, ARPPU** вероятно обусловлен выбросом - покупки по 1900, в остальном распределения очень похожи. Это похоже на действие какой-то маркетинговой активности, которая подействовала только на клиентов в тестовой группе. Это довольно странно выглядит и требует дополнительной информации, но ее нет. Без нее проводить какие-либо тесты чревато критическими ошибками в выводах\n",
    "\n",
    "   Если и проводить, то напрашивается U-критерий Манна – Уитни (данные непрерывны, смотрим на отличия средних в двух группах, есть выбросы, распределения ненормальны), но его нельзя будет использовать по причине выбросов с одинаковыми значениями (https://en.wikipedia.org/wiki/Mann%E2%80%93Whitney_U_test). Лучшей альтернативой будет bootstrap, тк он устойчив к такого рода условиям  \n",
    "\n",
    "   **Более того** каким-то образом оценивать различия по ARPU, ARPPU  имеет мало смысла с точки зрения того, что оценивалась новая механика оплаты. Для ее оценки более подходящим и логичным выглядит оценка конверсии в оплату **(CR)**, которая в свою очередь снизилась в тестовой группе. Тем не менее посмотрим есть ли стат. значимость в этих отличиях:"
   ]
  },
  {
   "cell_type": "markdown",
   "metadata": {},
   "source": [
    "**Для проверки разницы в конверсии между группами будем использовать непараметрический критерий хи-квадрат.**\n",
    "\n",
    "- H0 - распределение не зависит от группы.\n",
    "- H1 - распределение завист от группы. \n",
    "- α = 0,05\n",
    "\n",
    "Разобьем группы пользователей на оплативших и не оплативших. \n",
    "\n",
    "Составим таблицы сопряженности, и проверим - зависит ли доля совершивших платеж от принадлежности к определенной группе "
   ]
  },
  {
   "cell_type": "code",
   "execution_count": 73,
   "metadata": {},
   "outputs": [
    {
     "data": {
      "text/html": [
       "<div>\n",
       "<style scoped>\n",
       "    .dataframe tbody tr th:only-of-type {\n",
       "        vertical-align: middle;\n",
       "    }\n",
       "\n",
       "    .dataframe tbody tr th {\n",
       "        vertical-align: top;\n",
       "    }\n",
       "\n",
       "    .dataframe thead th {\n",
       "        text-align: right;\n",
       "    }\n",
       "</style>\n",
       "<table border=\"1\" class=\"dataframe\">\n",
       "  <thead>\n",
       "    <tr style=\"text-align: right;\">\n",
       "      <th>rev</th>\n",
       "      <th>False</th>\n",
       "      <th>True</th>\n",
       "    </tr>\n",
       "    <tr>\n",
       "      <th>grp</th>\n",
       "      <th></th>\n",
       "      <th></th>\n",
       "    </tr>\n",
       "  </thead>\n",
       "  <tbody>\n",
       "    <tr>\n",
       "      <th>A</th>\n",
       "      <td>1457</td>\n",
       "      <td>78</td>\n",
       "    </tr>\n",
       "    <tr>\n",
       "      <th>B</th>\n",
       "      <td>6480</td>\n",
       "      <td>313</td>\n",
       "    </tr>\n",
       "  </tbody>\n",
       "</table>\n",
       "</div>"
      ],
      "text/plain": [
       "rev  False  True\n",
       "grp             \n",
       "A     1457    78\n",
       "B     6480   313"
      ]
     },
     "execution_count": 73,
     "metadata": {},
     "output_type": "execute_result"
    }
   ],
   "source": [
    "contingency_table = pd.crosstab(table.query('active == 1').grp, table.rev > 0)\n",
    "contingency_table"
   ]
  },
  {
   "cell_type": "code",
   "execution_count": 74,
   "metadata": {},
   "outputs": [
    {
     "name": "stdout",
     "output_type": "stream",
     "text": [
      "p-value: 0.46803677583199144\n"
     ]
    }
   ],
   "source": [
    "chi2, p, dof, ex = chi2_contingency(contingency_table)\n",
    "print(f\"p-value: {p}\")"
   ]
  },
  {
   "cell_type": "markdown",
   "metadata": {},
   "source": [
    "### Вывод:  \n",
    "   p - value существенно выше α. Не отклоняем H0 гипотезу, стат значимой разницы в конверсии в зависимости от группы нет. А если и была бы, то скорее надо говорить о негативных влияниях новой механики  \n",
    "   **Подтверждения в необходимости запускать новую механику оплаты на всех пользователей нет** "
   ]
  },
  {
   "cell_type": "code",
   "execution_count": null,
   "metadata": {},
   "outputs": [],
   "source": []
  },
  {
   "cell_type": "markdown",
   "metadata": {},
   "source": [
    "### Задание 2. SQL  \n",
    "2.1 Очень усердные ученики.\n",
    "\n",
    "**2.1.1 Условие**\n",
    "\n",
    "Образовательные курсы состоят из различных уроков, каждый из которых состоит из нескольких маленьких заданий. Каждое такое маленькое задание называется \"горошиной\".\n",
    "\n",
    "Назовём очень усердным учеником того пользователя, который хотя бы раз за текущий месяц правильно решил 20 горошин.\n",
    "\n",
    "Необходимо **написать оптимальный запрос, который даст информацию о количестве очень усердных студентов.**\n",
    "\n",
    "NB! Под усердным студентом мы понимаем студента, который правильно решил 20 задач за текущий месяц."
   ]
  },
  {
   "cell_type": "code",
   "execution_count": 75,
   "metadata": {},
   "outputs": [],
   "source": [
    "# подключаемся к базе\n",
    "with open(\"connection.json\", \"r\") as json_file:\n",
    "  connection = load(json_file)\n",
    "\n",
    "connection_default = connection"
   ]
  },
  {
   "cell_type": "code",
   "execution_count": 76,
   "metadata": {},
   "outputs": [],
   "source": [
    "# формируем запрос: группировка по id и месяцу (используем приведение типов к началу месяца). усердный ученик >= 20 заданий\n",
    "query = '''\n",
    "select \n",
    "    month as last_month,\n",
    "    count(diligent_student) as diligent_students\n",
    "from (\n",
    "    select\n",
    "      st_id as diligent_student,\n",
    "      toStartOfMonth(timest) as month\n",
    "    from\n",
    "      default.peas\n",
    "    group by\n",
    "      st_id,\n",
    "      toStartOfMonth(timest)\n",
    "    having sum(correct) >= 20\n",
    "    )\n",
    "group by month\n",
    "order by month desc\n",
    "limit 1\n",
    "'''\n",
    "query1 = ph.read_clickhouse(query=query, connection=connection_default)"
   ]
  },
  {
   "cell_type": "markdown",
   "metadata": {},
   "source": [
    "### Кол-во усердных учеников решивших 20 заданий содержится в dataframe query1.  \n",
    "\n",
    "В задании сказано \"текущий месяц\". но текущий месяц 01.12.2022! поэтому сформировал запрос так, чтобы выводились данные за последнний месяц в базе. Моя логика: текущий - последний"
   ]
  },
  {
   "cell_type": "code",
   "execution_count": 77,
   "metadata": {},
   "outputs": [
    {
     "data": {
      "text/html": [
       "<div>\n",
       "<style scoped>\n",
       "    .dataframe tbody tr th:only-of-type {\n",
       "        vertical-align: middle;\n",
       "    }\n",
       "\n",
       "    .dataframe tbody tr th {\n",
       "        vertical-align: top;\n",
       "    }\n",
       "\n",
       "    .dataframe thead th {\n",
       "        text-align: right;\n",
       "    }\n",
       "</style>\n",
       "<table border=\"1\" class=\"dataframe\">\n",
       "  <thead>\n",
       "    <tr style=\"text-align: right;\">\n",
       "      <th></th>\n",
       "      <th>last_month</th>\n",
       "      <th>diligent_students</th>\n",
       "    </tr>\n",
       "  </thead>\n",
       "  <tbody>\n",
       "    <tr>\n",
       "      <th>0</th>\n",
       "      <td>2021-10-01</td>\n",
       "      <td>136</td>\n",
       "    </tr>\n",
       "  </tbody>\n",
       "</table>\n",
       "</div>"
      ],
      "text/plain": [
       "  last_month  diligent_students\n",
       "0 2021-10-01                136"
      ]
     },
     "execution_count": 77,
     "metadata": {},
     "output_type": "execute_result"
    }
   ],
   "source": [
    "query1"
   ]
  },
  {
   "cell_type": "markdown",
   "metadata": {},
   "source": [
    "**2.2.1 Условие**\n",
    "\n",
    "Образовательная платформа предлагает пройти студентам курсы по модели trial: студент может решить бесплатно лишь 30 горошин в день. Для неограниченного количества заданий в определенной дисциплине студенту необходимо приобрести полный доступ. Команда провела эксперимент, где был протестирован новый экран оплаты.\n",
    "\n",
    "**Необходимо в одном запросе выгрузить следующую информацию о группах пользователей:**\n",
    "\n",
    "- ARPU \n",
    "- ARPAU \n",
    "- CR в покупку \n",
    "- СR активного пользователя в покупку \n",
    "- CR пользователя из активности по математике (subject = ’math’) в покупку курса по математике\n",
    "- ARPU считается относительно всех пользователей, попавших в группы.\n",
    "\n",
    "Активным считается пользователь, за все время решивший больше 10 задач правильно в любых дисциплинах.\n",
    "\n",
    "Активным по математике считается пользователь, за все время решивший 2 или больше задач правильно по математике."
   ]
  },
  {
   "cell_type": "code",
   "execution_count": 78,
   "metadata": {},
   "outputs": [],
   "source": [
    "# формируем соответствующий запрос\n",
    "query = '''\n",
    "select \n",
    "    test_grp,\n",
    "    sum(money)/uniqExact(studs.st_id) as ARPU,\n",
    "    sumIf(money, total_peas > 10)/uniqIf(studs.st_id, total_peas > 10) as ARPAU,\n",
    "    uniqIf(studs.st_id, money > 0)/uniqExact(studs.st_id) as CR,\n",
    "    uniqIf(studs.st_id, money > 0 AND total_peas > 10)/uniqIf(studs.st_id, total_peas > 10) as CR_A,\n",
    "    uniqIf(studs.st_id, money > 0 AND peas_by_math > 1 and subject = 'Math')/uniqIf(studs.st_id, peas_by_math > 1) as CR_A_math\n",
    "\n",
    "from\n",
    "  default.studs\n",
    "  left join (\n",
    "    select\n",
    "      st_id,\n",
    "      subject,\n",
    "      money\n",
    "    from\n",
    "      default.final_project_check\n",
    "\n",
    "  ) as checks ON studs.st_id = checks.st_id\n",
    "  left join (\n",
    "    select\n",
    "      st_id,\n",
    "      SUM(correct) as total_peas,\n",
    "      SUMIf(correct, subject = 'Math') as peas_by_math\n",
    "    from\n",
    "      default.peas\n",
    "    group by\n",
    "      st_id\n",
    "  ) as peas ON studs.st_id = peas.st_id\n",
    "group by test_grp\n",
    "'''\n",
    "\n",
    "query2 = ph.read_clickhouse(query=query, connection=connection_default)"
   ]
  },
  {
   "cell_type": "markdown",
   "metadata": {},
   "source": [
    "### Метрики:  "
   ]
  },
  {
   "cell_type": "code",
   "execution_count": 79,
   "metadata": {},
   "outputs": [
    {
     "data": {
      "text/html": [
       "<div>\n",
       "<style scoped>\n",
       "    .dataframe tbody tr th:only-of-type {\n",
       "        vertical-align: middle;\n",
       "    }\n",
       "\n",
       "    .dataframe tbody tr th {\n",
       "        vertical-align: top;\n",
       "    }\n",
       "\n",
       "    .dataframe thead th {\n",
       "        text-align: right;\n",
       "    }\n",
       "</style>\n",
       "<table border=\"1\" class=\"dataframe\">\n",
       "  <thead>\n",
       "    <tr style=\"text-align: right;\">\n",
       "      <th></th>\n",
       "      <th>test_grp</th>\n",
       "      <th>ARPU</th>\n",
       "      <th>ARPAU</th>\n",
       "      <th>CR</th>\n",
       "      <th>CR_A</th>\n",
       "      <th>CR_A_math</th>\n",
       "    </tr>\n",
       "  </thead>\n",
       "  <tbody>\n",
       "    <tr>\n",
       "      <th>0</th>\n",
       "      <td>control</td>\n",
       "      <td>4540.98</td>\n",
       "      <td>10393.70</td>\n",
       "      <td>0.05</td>\n",
       "      <td>0.11</td>\n",
       "      <td>0.06</td>\n",
       "    </tr>\n",
       "    <tr>\n",
       "      <th>1</th>\n",
       "      <td>pilot</td>\n",
       "      <td>11508.47</td>\n",
       "      <td>29739.58</td>\n",
       "      <td>0.11</td>\n",
       "      <td>0.26</td>\n",
       "      <td>0.10</td>\n",
       "    </tr>\n",
       "  </tbody>\n",
       "</table>\n",
       "</div>"
      ],
      "text/plain": [
       "  test_grp      ARPU     ARPAU    CR  CR_A  CR_A_math\n",
       "0  control   4540.98  10393.70  0.05  0.11       0.06\n",
       "1    pilot  11508.47  29739.58  0.11  0.26       0.10"
      ]
     },
     "execution_count": 79,
     "metadata": {},
     "output_type": "execute_result"
    }
   ],
   "source": [
    "round(query2, 2)"
   ]
  },
  {
   "cell_type": "code",
   "execution_count": null,
   "metadata": {},
   "outputs": [],
   "source": []
  },
  {
   "cell_type": "markdown",
   "metadata": {},
   "source": [
    "### Задание 3. Python  \n",
    "3.1 Задача\n",
    "\n",
    "1. Реализуйте функцию, которая будет автоматически подгружать информацию из дополнительного файла groups_add.csv (заголовки могут отличаться) и на основании дополнительных параметров пересчитывать метрики."
   ]
  },
  {
   "cell_type": "code",
   "execution_count": 80,
   "metadata": {},
   "outputs": [],
   "source": [
    "def get_metrics(groups, group_add, active_studs, checks):\n",
    "    group_add.columns = groups.columns\n",
    "    groups = pd.concat([groups, group_add])\n",
    "    table = groups.merge(active_studs, how='left', left_on='id', right_on='student_id') \\\n",
    "              .merge(checks, how='left', left_on='id', right_on='student_id').drop('student_id_y', axis=1) \\\n",
    "              .rename(columns={\"student_id_x\": \"active\"}) \\\n",
    "              .fillna(0)\n",
    "\n",
    "    table['active'] = table.active.apply(lambda x: 1 if x > 0 else 0)\n",
    "\n",
    "    return table.query('active == 1') \\\n",
    "        .groupby('grp', as_index=False) \\\n",
    "        .agg(count_of_ids=('id', 'count'), # кол-во пользователей в эксперименте\n",
    "                     ARPU=('rev', 'mean'), # средний чек\n",
    "                    ARPPU=('rev', lambda x: np.mean(pd.Series(x).loc[lambda x : x > 0])), # ср чек на платящего пользователя\n",
    "                       CR=('rev', lambda x: np.mean(x > 0))) # конверсия в оплату\n",
    "\n",
    "    "
   ]
  },
  {
   "cell_type": "code",
   "execution_count": 81,
   "metadata": {},
   "outputs": [
    {
     "data": {
      "text/html": [
       "<div>\n",
       "<style scoped>\n",
       "    .dataframe tbody tr th:only-of-type {\n",
       "        vertical-align: middle;\n",
       "    }\n",
       "\n",
       "    .dataframe tbody tr th {\n",
       "        vertical-align: top;\n",
       "    }\n",
       "\n",
       "    .dataframe thead th {\n",
       "        text-align: right;\n",
       "    }\n",
       "</style>\n",
       "<table border=\"1\" class=\"dataframe\">\n",
       "  <thead>\n",
       "    <tr style=\"text-align: right;\">\n",
       "      <th></th>\n",
       "      <th>grp</th>\n",
       "      <th>count_of_ids</th>\n",
       "      <th>ARPU</th>\n",
       "      <th>ARPPU</th>\n",
       "      <th>CR</th>\n",
       "    </tr>\n",
       "  </thead>\n",
       "  <tbody>\n",
       "    <tr>\n",
       "      <th>0</th>\n",
       "      <td>A</td>\n",
       "      <td>1538</td>\n",
       "      <td>47.347204</td>\n",
       "      <td>933.589744</td>\n",
       "      <td>0.050715</td>\n",
       "    </tr>\n",
       "    <tr>\n",
       "      <th>1</th>\n",
       "      <td>B</td>\n",
       "      <td>6803</td>\n",
       "      <td>58.058798</td>\n",
       "      <td>1257.878992</td>\n",
       "      <td>0.046156</td>\n",
       "    </tr>\n",
       "  </tbody>\n",
       "</table>\n",
       "</div>"
      ],
      "text/plain": [
       "  grp  count_of_ids       ARPU        ARPPU        CR\n",
       "0   A          1538  47.347204   933.589744  0.050715\n",
       "1   B          6803  58.058798  1257.878992  0.046156"
      ]
     },
     "execution_count": 81,
     "metadata": {},
     "output_type": "execute_result"
    }
   ],
   "source": [
    "metrics = get_metrics(groups, group_add, active_studs, checks)\n",
    "metrics"
   ]
  },
  {
   "cell_type": "markdown",
   "metadata": {},
   "source": [
    "2. Реализуйте функцию, которая будет строить графики по получаемым метрикам."
   ]
  },
  {
   "cell_type": "code",
   "execution_count": 82,
   "metadata": {},
   "outputs": [],
   "source": [
    "def get_metrics_chart(metrics):\n",
    "    fig, axs = plt.subplots(nrows= 1 , ncols= 3, figsize = (12, 3)) \n",
    "\n",
    "    axs[0].bar(metrics.grp, metrics.ARPU, color=['red', 'blue'], alpha=0.6)\n",
    "    axs[0].set_title('ARPU')\n",
    "\n",
    "    axs[1].bar(metrics.grp, metrics.ARPPU, color=['red', 'blue'], alpha=0.6)\n",
    "    axs[1].set_title('ARPPU')\n",
    "\n",
    "    axs[2].bar(metrics.grp, metrics.CR, color=['red', 'blue'], alpha=0.6)\n",
    "    axs[2].set_title('CR')\n",
    "\n",
    "    plt.show()"
   ]
  },
  {
   "cell_type": "code",
   "execution_count": 83,
   "metadata": {},
   "outputs": [
    {
     "data": {
      "image/png": "[encoded data removed]",
      "text/plain": [
       "<Figure size 864x216 with 3 Axes>"
      ]
     },
     "metadata": {},
     "output_type": "display_data"
    }
   ],
   "source": [
    "get_metrics_chart(metrics)"
   ]
  }
 ],
 "metadata": {
  "kernelspec": {
   "display_name": "base",
   "language": "python",
   "name": "python3"
  },
  "language_info": {
   "codemirror_mode": {
    "name": "ipython",
    "version": 3
   },
   "file_extension": ".py",
   "mimetype": "text/x-python",
   "name": "python",
   "nbconvert_exporter": "python",
   "pygments_lexer": "ipython3",
   "version": "3.9.12"
  },
  "vscode": {
   "interpreter": {
    "hash": "6f5583cf1d9466b5c27e75c89cc6b383bed5736d6b16c51c8074d8690011a952"
   }
  }
 },
 "nbformat": 4,
 "nbformat_minor": 4
}
