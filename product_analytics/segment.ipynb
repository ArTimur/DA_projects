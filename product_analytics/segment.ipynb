{
 "cells": [
  {
   "cell_type": "code",
   "execution_count": 1,
   "metadata": {},
   "outputs": [],
   "source": [
    "import pandas as pd\n",
    "import numpy as np\n",
    "from datetime import timedelta, datetime"
   ]
  },
  {
   "attachments": {},
   "cell_type": "markdown",
   "metadata": {},
   "source": [
    "Скачайте датасет и проведите RFM анализ. В каждом подсегменте поделите пользователей на 4 класса. Отсчитывайте количество дней, прошедших с момента последней покупки, с максимальной даты покупки в датасете.\n",
    "\n",
    "- Какое максимальное кол-во покупок было совершено одним пользователем?\n",
    "- Какая верхняя граница у суммы покупок у пользователей с классом 4 в подсегменте М? (Другими словами: пользователи, у которых сумма покупок от 0 до Х попадают в 4 класс в подсегменте М)\n",
    "- Какая нижняя граница у количества покупок у пользователей с классом 1 в подсегменте F?\n",
    "- Какая верхняя граница у количества покупок у пользователей с классом 2 в подсегменте R?\n",
    "- Сколько пользователей попало в сегмент 111?\n",
    "- Сколько пользователей попало в сегмент 311?\n",
    "- В каком RFM-сегменте самое большое кол-во пользователей?\n",
    "- В каком RFM-сегменте самое маленькое кол-во пользователей?\n",
    "- Какое количество пользователей попало в самый малочисленный сегмент?"
   ]
  },
  {
   "cell_type": "code",
   "execution_count": 10,
   "metadata": {},
   "outputs": [
    {
     "data": {
      "text/html": [
       "<div>\n",
       "<style scoped>\n",
       "    .dataframe tbody tr th:only-of-type {\n",
       "        vertical-align: middle;\n",
       "    }\n",
       "\n",
       "    .dataframe tbody tr th {\n",
       "        vertical-align: top;\n",
       "    }\n",
       "\n",
       "    .dataframe thead th {\n",
       "        text-align: right;\n",
       "    }\n",
       "</style>\n",
       "<table border=\"1\" class=\"dataframe\">\n",
       "  <thead>\n",
       "    <tr style=\"text-align: right;\">\n",
       "      <th></th>\n",
       "      <th>InvoiceNo</th>\n",
       "      <th>CustomerCode</th>\n",
       "      <th>InvoiceDate</th>\n",
       "      <th>Amount</th>\n",
       "    </tr>\n",
       "  </thead>\n",
       "  <tbody>\n",
       "    <tr>\n",
       "      <th>0</th>\n",
       "      <td>C0011810010001</td>\n",
       "      <td>19067290</td>\n",
       "      <td>2020-09-01</td>\n",
       "      <td>1716.00</td>\n",
       "    </tr>\n",
       "    <tr>\n",
       "      <th>1</th>\n",
       "      <td>C0011810010017</td>\n",
       "      <td>13233933</td>\n",
       "      <td>2020-09-01</td>\n",
       "      <td>1489.74</td>\n",
       "    </tr>\n",
       "    <tr>\n",
       "      <th>2</th>\n",
       "      <td>C0011810010020</td>\n",
       "      <td>99057968</td>\n",
       "      <td>2020-09-01</td>\n",
       "      <td>151.47</td>\n",
       "    </tr>\n",
       "    <tr>\n",
       "      <th>3</th>\n",
       "      <td>C0011810010021</td>\n",
       "      <td>80007276</td>\n",
       "      <td>2020-09-01</td>\n",
       "      <td>146.72</td>\n",
       "    </tr>\n",
       "    <tr>\n",
       "      <th>4</th>\n",
       "      <td>C0011810010024</td>\n",
       "      <td>13164076</td>\n",
       "      <td>2020-09-01</td>\n",
       "      <td>104.00</td>\n",
       "    </tr>\n",
       "    <tr>\n",
       "      <th>...</th>\n",
       "      <td>...</td>\n",
       "      <td>...</td>\n",
       "      <td>...</td>\n",
       "      <td>...</td>\n",
       "    </tr>\n",
       "    <tr>\n",
       "      <th>332725</th>\n",
       "      <td>S0081810310459</td>\n",
       "      <td>14092500</td>\n",
       "      <td>2020-09-30</td>\n",
       "      <td>3801.87</td>\n",
       "    </tr>\n",
       "    <tr>\n",
       "      <th>332726</th>\n",
       "      <td>S0081810310461</td>\n",
       "      <td>99065678</td>\n",
       "      <td>2020-09-30</td>\n",
       "      <td>5769.88</td>\n",
       "    </tr>\n",
       "    <tr>\n",
       "      <th>332727</th>\n",
       "      <td>S0081810310462</td>\n",
       "      <td>19029918</td>\n",
       "      <td>2020-09-30</td>\n",
       "      <td>736.88</td>\n",
       "    </tr>\n",
       "    <tr>\n",
       "      <th>332728</th>\n",
       "      <td>S0081810310463</td>\n",
       "      <td>13020033</td>\n",
       "      <td>2020-09-30</td>\n",
       "      <td>1475.20</td>\n",
       "    </tr>\n",
       "    <tr>\n",
       "      <th>332729</th>\n",
       "      <td>S0081810310466</td>\n",
       "      <td>13046679</td>\n",
       "      <td>2020-09-30</td>\n",
       "      <td>709.56</td>\n",
       "    </tr>\n",
       "  </tbody>\n",
       "</table>\n",
       "<p>332730 rows × 4 columns</p>\n",
       "</div>"
      ],
      "text/plain": [
       "             InvoiceNo CustomerCode InvoiceDate   Amount\n",
       "0       C0011810010001     19067290  2020-09-01  1716.00\n",
       "1       C0011810010017     13233933  2020-09-01  1489.74\n",
       "2       C0011810010020     99057968  2020-09-01   151.47\n",
       "3       C0011810010021     80007276  2020-09-01   146.72\n",
       "4       C0011810010024     13164076  2020-09-01   104.00\n",
       "...                ...          ...         ...      ...\n",
       "332725  S0081810310459     14092500  2020-09-30  3801.87\n",
       "332726  S0081810310461     99065678  2020-09-30  5769.88\n",
       "332727  S0081810310462     19029918  2020-09-30   736.88\n",
       "332728  S0081810310463     13020033  2020-09-30  1475.20\n",
       "332729  S0081810310466     13046679  2020-09-30   709.56\n",
       "\n",
       "[332730 rows x 4 columns]"
      ]
     },
     "execution_count": 10,
     "metadata": {},
     "output_type": "execute_result"
    }
   ],
   "source": [
    "df = pd.read_csv('RFM_ht_data.csv', dtype={'CustomerCode': str}, parse_dates=['InvoiceDate'])\n",
    "df"
   ]
  },
  {
   "cell_type": "code",
   "execution_count": 11,
   "metadata": {},
   "outputs": [
    {
     "name": "stdout",
     "output_type": "stream",
     "text": [
      "<class 'pandas.core.frame.DataFrame'>\n",
      "RangeIndex: 332730 entries, 0 to 332729\n",
      "Data columns (total 4 columns):\n",
      " #   Column        Non-Null Count   Dtype         \n",
      "---  ------        --------------   -----         \n",
      " 0   InvoiceNo     332730 non-null  object        \n",
      " 1   CustomerCode  332730 non-null  object        \n",
      " 2   InvoiceDate   332730 non-null  datetime64[ns]\n",
      " 3   Amount        332730 non-null  float64       \n",
      "dtypes: datetime64[ns](1), float64(1), object(2)\n",
      "memory usage: 10.2+ MB\n"
     ]
    }
   ],
   "source": [
    "df.info()"
   ]
  },
  {
   "cell_type": "markdown",
   "metadata": {},
   "source": [
    "Какое максимальное кол-во покупок было совершено одним пользователем?"
   ]
  },
  {
   "cell_type": "code",
   "execution_count": 29,
   "metadata": {},
   "outputs": [
    {
     "data": {
      "text/plain": [
       "204"
      ]
     },
     "execution_count": 29,
     "metadata": {},
     "output_type": "execute_result"
    }
   ],
   "source": [
    "df.CustomerCode.value_counts().sort_values().max()"
   ]
  },
  {
   "cell_type": "code",
   "execution_count": 13,
   "metadata": {},
   "outputs": [
    {
     "data": {
      "text/plain": [
       "Series([], Name: CustomerCode, dtype: int64)"
      ]
     },
     "execution_count": 13,
     "metadata": {},
     "output_type": "execute_result"
    }
   ],
   "source": [
    "df.query(' CustomerCode == 19057820').CustomerCode.value_counts()"
   ]
  },
  {
   "cell_type": "markdown",
   "metadata": {},
   "source": [
    "Какая верхняя граница у суммы покупок у пользователей с классом 4 в подсегменте М? (Другими словами: пользователи, у которых сумма покупок от 0 до Х попадают в 4 класс в подсегменте М)"
   ]
  },
  {
   "cell_type": "code",
   "execution_count": 31,
   "metadata": {},
   "outputs": [],
   "source": [
    "# Matplotlib forms basis for visualization in Python\n",
    "import matplotlib.pyplot as plt\n",
    "\n",
    "# We will use the Seaborn library\n",
    "import seaborn as sns\n",
    "sns.set()\n",
    "\n",
    "# Graphics in SVG format are more sharp and legible\n",
    "get_ipython().run_line_magic('config', \"InlineBackend.figure_format = 'svg'\")\n",
    "\n",
    "# Increase the default plot size and set the color scheme\n",
    "plt.rcParams['figure.figsize'] = (8, 5)\n",
    "plt.rcParams['image.cmap'] = 'viridis'"
   ]
  },
  {
   "attachments": {},
   "cell_type": "markdown",
   "metadata": {},
   "source": [
    "Считаем RFM показатели"
   ]
  },
  {
   "cell_type": "code",
   "execution_count": 30,
   "metadata": {},
   "outputs": [],
   "source": [
    "# дата последней покупки\n",
    "last_date = df.InvoiceDate.max()\n",
    "last_date"
   ]
  },
  {
   "cell_type": "code",
   "execution_count": 17,
   "metadata": {},
   "outputs": [],
   "source": [
    "rfmTable = df.groupby('CustomerCode', as_index=False).agg({'InvoiceDate': lambda x: (last_date - x.max()).days, # Recency Количество дней с последнего заказа\n",
    "                                        'InvoiceNo': lambda x: len(x),      # Frequency Количество заказов\n",
    "                                        'Amount': lambda x: x.sum()}) # Monetary Value Общая сумма по всем заказам"
   ]
  },
  {
   "cell_type": "code",
   "execution_count": 18,
   "metadata": {},
   "outputs": [],
   "source": [
    "rfmTable.rename(columns={'InvoiceDate': 'recency', \n",
    "                         'InvoiceNo': 'frequency', \n",
    "                         'Amount': 'monetary_value'}, inplace=True)"
   ]
  },
  {
   "cell_type": "code",
   "execution_count": 19,
   "metadata": {},
   "outputs": [
    {
     "data": {
      "text/html": [
       "<div>\n",
       "<style scoped>\n",
       "    .dataframe tbody tr th:only-of-type {\n",
       "        vertical-align: middle;\n",
       "    }\n",
       "\n",
       "    .dataframe tbody tr th {\n",
       "        vertical-align: top;\n",
       "    }\n",
       "\n",
       "    .dataframe thead th {\n",
       "        text-align: right;\n",
       "    }\n",
       "</style>\n",
       "<table border=\"1\" class=\"dataframe\">\n",
       "  <thead>\n",
       "    <tr style=\"text-align: right;\">\n",
       "      <th></th>\n",
       "      <th>CustomerCode</th>\n",
       "      <th>recency</th>\n",
       "      <th>frequency</th>\n",
       "      <th>monetary_value</th>\n",
       "    </tr>\n",
       "  </thead>\n",
       "  <tbody>\n",
       "    <tr>\n",
       "      <th>0</th>\n",
       "      <td>02213019</td>\n",
       "      <td>19</td>\n",
       "      <td>1</td>\n",
       "      <td>1609.20</td>\n",
       "    </tr>\n",
       "    <tr>\n",
       "      <th>1</th>\n",
       "      <td>02213042</td>\n",
       "      <td>22</td>\n",
       "      <td>3</td>\n",
       "      <td>9685.48</td>\n",
       "    </tr>\n",
       "    <tr>\n",
       "      <th>2</th>\n",
       "      <td>02213071</td>\n",
       "      <td>29</td>\n",
       "      <td>1</td>\n",
       "      <td>415.00</td>\n",
       "    </tr>\n",
       "    <tr>\n",
       "      <th>3</th>\n",
       "      <td>02213088</td>\n",
       "      <td>23</td>\n",
       "      <td>1</td>\n",
       "      <td>305.00</td>\n",
       "    </tr>\n",
       "    <tr>\n",
       "      <th>4</th>\n",
       "      <td>02213092</td>\n",
       "      <td>25</td>\n",
       "      <td>1</td>\n",
       "      <td>1412.88</td>\n",
       "    </tr>\n",
       "    <tr>\n",
       "      <th>...</th>\n",
       "      <td>...</td>\n",
       "      <td>...</td>\n",
       "      <td>...</td>\n",
       "      <td>...</td>\n",
       "    </tr>\n",
       "    <tr>\n",
       "      <th>123728</th>\n",
       "      <td>99099927</td>\n",
       "      <td>10</td>\n",
       "      <td>1</td>\n",
       "      <td>961.10</td>\n",
       "    </tr>\n",
       "    <tr>\n",
       "      <th>123729</th>\n",
       "      <td>99099936</td>\n",
       "      <td>0</td>\n",
       "      <td>1</td>\n",
       "      <td>1521.78</td>\n",
       "    </tr>\n",
       "    <tr>\n",
       "      <th>123730</th>\n",
       "      <td>99099959</td>\n",
       "      <td>8</td>\n",
       "      <td>2</td>\n",
       "      <td>1444.56</td>\n",
       "    </tr>\n",
       "    <tr>\n",
       "      <th>123731</th>\n",
       "      <td>99099963</td>\n",
       "      <td>19</td>\n",
       "      <td>1</td>\n",
       "      <td>3018.91</td>\n",
       "    </tr>\n",
       "    <tr>\n",
       "      <th>123732</th>\n",
       "      <td>99099972</td>\n",
       "      <td>0</td>\n",
       "      <td>2</td>\n",
       "      <td>4577.37</td>\n",
       "    </tr>\n",
       "  </tbody>\n",
       "</table>\n",
       "<p>123733 rows × 4 columns</p>\n",
       "</div>"
      ],
      "text/plain": [
       "       CustomerCode  recency  frequency  monetary_value\n",
       "0          02213019       19          1         1609.20\n",
       "1          02213042       22          3         9685.48\n",
       "2          02213071       29          1          415.00\n",
       "3          02213088       23          1          305.00\n",
       "4          02213092       25          1         1412.88\n",
       "...             ...      ...        ...             ...\n",
       "123728     99099927       10          1          961.10\n",
       "123729     99099936        0          1         1521.78\n",
       "123730     99099959        8          2         1444.56\n",
       "123731     99099963       19          1         3018.91\n",
       "123732     99099972        0          2         4577.37\n",
       "\n",
       "[123733 rows x 4 columns]"
      ]
     },
     "execution_count": 19,
     "metadata": {},
     "output_type": "execute_result"
    }
   ],
   "source": [
    "rfmTable"
   ]
  },
  {
   "attachments": {},
   "cell_type": "markdown",
   "metadata": {},
   "source": [
    "Сегментируем по основным квантилям"
   ]
  },
  {
   "cell_type": "code",
   "execution_count": 20,
   "metadata": {},
   "outputs": [
    {
     "data": {
      "text/html": [
       "<div>\n",
       "<style scoped>\n",
       "    .dataframe tbody tr th:only-of-type {\n",
       "        vertical-align: middle;\n",
       "    }\n",
       "\n",
       "    .dataframe tbody tr th {\n",
       "        vertical-align: top;\n",
       "    }\n",
       "\n",
       "    .dataframe thead th {\n",
       "        text-align: right;\n",
       "    }\n",
       "</style>\n",
       "<table border=\"1\" class=\"dataframe\">\n",
       "  <thead>\n",
       "    <tr style=\"text-align: right;\">\n",
       "      <th></th>\n",
       "      <th>recency</th>\n",
       "      <th>frequency</th>\n",
       "      <th>monetary_value</th>\n",
       "    </tr>\n",
       "  </thead>\n",
       "  <tbody>\n",
       "    <tr>\n",
       "      <th>0.25</th>\n",
       "      <td>2.0</td>\n",
       "      <td>1.0</td>\n",
       "      <td>765.00</td>\n",
       "    </tr>\n",
       "    <tr>\n",
       "      <th>0.50</th>\n",
       "      <td>8.0</td>\n",
       "      <td>2.0</td>\n",
       "      <td>1834.48</td>\n",
       "    </tr>\n",
       "    <tr>\n",
       "      <th>0.75</th>\n",
       "      <td>16.0</td>\n",
       "      <td>3.0</td>\n",
       "      <td>4008.84</td>\n",
       "    </tr>\n",
       "  </tbody>\n",
       "</table>\n",
       "</div>"
      ],
      "text/plain": [
       "      recency  frequency  monetary_value\n",
       "0.25      2.0        1.0          765.00\n",
       "0.50      8.0        2.0         1834.48\n",
       "0.75     16.0        3.0         4008.84"
      ]
     },
     "execution_count": 20,
     "metadata": {},
     "output_type": "execute_result"
    }
   ],
   "source": [
    "quantiles = rfmTable.quantile(q=[.25, .5, .75])\n",
    "quantiles"
   ]
  },
  {
   "cell_type": "code",
   "execution_count": 21,
   "metadata": {},
   "outputs": [],
   "source": [
    "rfmSegmentation = rfmTable"
   ]
  },
  {
   "attachments": {},
   "cell_type": "markdown",
   "metadata": {},
   "source": [
    "определяем функции для присваивания сегмента"
   ]
  },
  {
   "cell_type": "code",
   "execution_count": 22,
   "metadata": {},
   "outputs": [],
   "source": [
    "def RClass(value, parameter_name, quantiles_table):\n",
    "    if value <= quantiles_table[parameter_name][0.25]:\n",
    "        return 1\n",
    "    elif value <= quantiles_table[parameter_name][0.50]:\n",
    "        return 2\n",
    "    elif value <= quantiles_table[parameter_name][0.75]: \n",
    "        return 3\n",
    "    else:\n",
    "        return 4\n",
    "\n",
    "\n",
    "def FMClass(value, parameter_name, quantiles_table):\n",
    "    if value <= quantiles_table[parameter_name][0.25]:\n",
    "        return 4\n",
    "    elif value <= quantiles_table[parameter_name][0.50]:\n",
    "        return 3\n",
    "    elif value <= quantiles_table[parameter_name][0.75]: \n",
    "        return 2\n",
    "    else:\n",
    "        return 1"
   ]
  },
  {
   "attachments": {},
   "cell_type": "markdown",
   "metadata": {},
   "source": [
    "сегментируем клиентов"
   ]
  },
  {
   "cell_type": "code",
   "execution_count": 32,
   "metadata": {},
   "outputs": [
    {
     "data": {
      "text/html": [
       "<div>\n",
       "<style scoped>\n",
       "    .dataframe tbody tr th:only-of-type {\n",
       "        vertical-align: middle;\n",
       "    }\n",
       "\n",
       "    .dataframe tbody tr th {\n",
       "        vertical-align: top;\n",
       "    }\n",
       "\n",
       "    .dataframe thead th {\n",
       "        text-align: right;\n",
       "    }\n",
       "</style>\n",
       "<table border=\"1\" class=\"dataframe\">\n",
       "  <thead>\n",
       "    <tr style=\"text-align: right;\">\n",
       "      <th></th>\n",
       "      <th>CustomerCode</th>\n",
       "      <th>recency</th>\n",
       "      <th>frequency</th>\n",
       "      <th>monetary_value</th>\n",
       "      <th>R_Quartile</th>\n",
       "      <th>F_Quartile</th>\n",
       "      <th>M_Quartile</th>\n",
       "      <th>RFMClass</th>\n",
       "    </tr>\n",
       "  </thead>\n",
       "  <tbody>\n",
       "    <tr>\n",
       "      <th>0</th>\n",
       "      <td>02213019</td>\n",
       "      <td>19</td>\n",
       "      <td>1</td>\n",
       "      <td>1609.20</td>\n",
       "      <td>4</td>\n",
       "      <td>4</td>\n",
       "      <td>3</td>\n",
       "      <td>443</td>\n",
       "    </tr>\n",
       "    <tr>\n",
       "      <th>1</th>\n",
       "      <td>02213042</td>\n",
       "      <td>22</td>\n",
       "      <td>3</td>\n",
       "      <td>9685.48</td>\n",
       "      <td>4</td>\n",
       "      <td>2</td>\n",
       "      <td>1</td>\n",
       "      <td>421</td>\n",
       "    </tr>\n",
       "    <tr>\n",
       "      <th>2</th>\n",
       "      <td>02213071</td>\n",
       "      <td>29</td>\n",
       "      <td>1</td>\n",
       "      <td>415.00</td>\n",
       "      <td>4</td>\n",
       "      <td>4</td>\n",
       "      <td>4</td>\n",
       "      <td>444</td>\n",
       "    </tr>\n",
       "    <tr>\n",
       "      <th>3</th>\n",
       "      <td>02213088</td>\n",
       "      <td>23</td>\n",
       "      <td>1</td>\n",
       "      <td>305.00</td>\n",
       "      <td>4</td>\n",
       "      <td>4</td>\n",
       "      <td>4</td>\n",
       "      <td>444</td>\n",
       "    </tr>\n",
       "    <tr>\n",
       "      <th>4</th>\n",
       "      <td>02213092</td>\n",
       "      <td>25</td>\n",
       "      <td>1</td>\n",
       "      <td>1412.88</td>\n",
       "      <td>4</td>\n",
       "      <td>4</td>\n",
       "      <td>3</td>\n",
       "      <td>443</td>\n",
       "    </tr>\n",
       "    <tr>\n",
       "      <th>...</th>\n",
       "      <td>...</td>\n",
       "      <td>...</td>\n",
       "      <td>...</td>\n",
       "      <td>...</td>\n",
       "      <td>...</td>\n",
       "      <td>...</td>\n",
       "      <td>...</td>\n",
       "      <td>...</td>\n",
       "    </tr>\n",
       "    <tr>\n",
       "      <th>123728</th>\n",
       "      <td>99099927</td>\n",
       "      <td>10</td>\n",
       "      <td>1</td>\n",
       "      <td>961.10</td>\n",
       "      <td>3</td>\n",
       "      <td>4</td>\n",
       "      <td>3</td>\n",
       "      <td>343</td>\n",
       "    </tr>\n",
       "    <tr>\n",
       "      <th>123729</th>\n",
       "      <td>99099936</td>\n",
       "      <td>0</td>\n",
       "      <td>1</td>\n",
       "      <td>1521.78</td>\n",
       "      <td>1</td>\n",
       "      <td>4</td>\n",
       "      <td>3</td>\n",
       "      <td>143</td>\n",
       "    </tr>\n",
       "    <tr>\n",
       "      <th>123730</th>\n",
       "      <td>99099959</td>\n",
       "      <td>8</td>\n",
       "      <td>2</td>\n",
       "      <td>1444.56</td>\n",
       "      <td>2</td>\n",
       "      <td>3</td>\n",
       "      <td>3</td>\n",
       "      <td>233</td>\n",
       "    </tr>\n",
       "    <tr>\n",
       "      <th>123731</th>\n",
       "      <td>99099963</td>\n",
       "      <td>19</td>\n",
       "      <td>1</td>\n",
       "      <td>3018.91</td>\n",
       "      <td>4</td>\n",
       "      <td>4</td>\n",
       "      <td>2</td>\n",
       "      <td>442</td>\n",
       "    </tr>\n",
       "    <tr>\n",
       "      <th>123732</th>\n",
       "      <td>99099972</td>\n",
       "      <td>0</td>\n",
       "      <td>2</td>\n",
       "      <td>4577.37</td>\n",
       "      <td>1</td>\n",
       "      <td>3</td>\n",
       "      <td>1</td>\n",
       "      <td>131</td>\n",
       "    </tr>\n",
       "  </tbody>\n",
       "</table>\n",
       "<p>123733 rows × 8 columns</p>\n",
       "</div>"
      ],
      "text/plain": [
       "       CustomerCode  recency  frequency  monetary_value  R_Quartile  \\\n",
       "0          02213019       19          1         1609.20           4   \n",
       "1          02213042       22          3         9685.48           4   \n",
       "2          02213071       29          1          415.00           4   \n",
       "3          02213088       23          1          305.00           4   \n",
       "4          02213092       25          1         1412.88           4   \n",
       "...             ...      ...        ...             ...         ...   \n",
       "123728     99099927       10          1          961.10           3   \n",
       "123729     99099936        0          1         1521.78           1   \n",
       "123730     99099959        8          2         1444.56           2   \n",
       "123731     99099963       19          1         3018.91           4   \n",
       "123732     99099972        0          2         4577.37           1   \n",
       "\n",
       "        F_Quartile  M_Quartile RFMClass  \n",
       "0                4           3      443  \n",
       "1                2           1      421  \n",
       "2                4           4      444  \n",
       "3                4           4      444  \n",
       "4                4           3      443  \n",
       "...            ...         ...      ...  \n",
       "123728           4           3      343  \n",
       "123729           4           3      143  \n",
       "123730           3           3      233  \n",
       "123731           4           2      442  \n",
       "123732           3           1      131  \n",
       "\n",
       "[123733 rows x 8 columns]"
      ]
     },
     "execution_count": 32,
     "metadata": {},
     "output_type": "execute_result"
    }
   ],
   "source": [
    "rfmSegmentation['R_Quartile'] = rfmSegmentation['recency'].apply(RClass, args=('recency', quantiles))\n",
    "rfmSegmentation['F_Quartile'] = rfmSegmentation['frequency'].apply(FMClass, args=('frequency', quantiles))\n",
    "rfmSegmentation['M_Quartile'] = rfmSegmentation['monetary_value'].apply(FMClass, args=('monetary_value', quantiles))\n",
    "\n",
    "rfmSegmentation['RFMClass'] = rfmSegmentation.R_Quartile.map(str) \\\n",
    "                            + rfmSegmentation.F_Quartile.map(str) \\\n",
    "                            + rfmSegmentation.M_Quartile.map(str)\n",
    "rfmSegmentation"
   ]
  },
  {
   "attachments": {},
   "cell_type": "markdown",
   "metadata": {},
   "source": [
    "Какая верхняя граница у суммы покупок у пользователей с классом 4 в подсегменте М? (Другими словами: пользователи, у которых сумма покупок от 0 до Х попадают в 4 класс в подсегменте М)"
   ]
  },
  {
   "cell_type": "code",
   "execution_count": 39,
   "metadata": {},
   "outputs": [
    {
     "data": {
      "text/plain": [
       "1"
      ]
     },
     "execution_count": 39,
     "metadata": {},
     "output_type": "execute_result"
    }
   ],
   "source": [
    "rfmSegmentation.query(\"M_Quartile == 4\").monetary_value.max()"
   ]
  },
  {
   "attachments": {},
   "cell_type": "markdown",
   "metadata": {},
   "source": [
    "Какая нижняя граница у количества покупок у пользователей с классом 1 в подсегменте F?"
   ]
  },
  {
   "cell_type": "code",
   "execution_count": 40,
   "metadata": {},
   "outputs": [
    {
     "data": {
      "text/plain": [
       "4"
      ]
     },
     "execution_count": 40,
     "metadata": {},
     "output_type": "execute_result"
    }
   ],
   "source": [
    "rfmSegmentation.query(\"F_Quartile == 1\").frequency.min()"
   ]
  },
  {
   "attachments": {},
   "cell_type": "markdown",
   "metadata": {},
   "source": [
    "Какое максимальное количество дней может пройти с момента последней покупки для того, чтобы пользователь попал в класс 2 в подсегменте R?"
   ]
  },
  {
   "cell_type": "code",
   "execution_count": 43,
   "metadata": {},
   "outputs": [
    {
     "data": {
      "text/plain": [
       "8"
      ]
     },
     "execution_count": 43,
     "metadata": {},
     "output_type": "execute_result"
    }
   ],
   "source": [
    "rfmSegmentation.query(\"R_Quartile == 2\").recency.max()"
   ]
  },
  {
   "attachments": {},
   "cell_type": "markdown",
   "metadata": {},
   "source": [
    "Сколько пользователей попало в сегмент  \n",
    "-111?  \n",
    "-311?  \n",
    "-В каком RFM-сегменте самое большое кол-во пользователей?"
   ]
  },
  {
   "cell_type": "code",
   "execution_count": 59,
   "metadata": {},
   "outputs": [
    {
     "name": "stdout",
     "output_type": "stream",
     "text": [
      "пользователей в сегменте 111: 9705\n",
      "пользователей в сегменте 311: 1609\n",
      "больше всего пользователей в: 444 сегменте\n"
     ]
    }
   ],
   "source": [
    "print(\"пользователей в сегменте 111:\", rfmSegmentation.query(\"RFMClass == '111'\")['CustomerCode'].count())\n",
    "print(\"пользователей в сегменте 311:\", rfmSegmentation.query(\"RFMClass == '311'\")['CustomerCode'].count())\n",
    "print(\"больше всего пользователей в:\", rfmSegmentation.RFMClass.value_counts().idxmax(), \"сегменте\")"
   ]
  },
  {
   "cell_type": "code",
   "execution_count": 26,
   "metadata": {},
   "outputs": [
    {
     "data": {
      "text/html": [
       "<div>\n",
       "<style scoped>\n",
       "    .dataframe tbody tr th:only-of-type {\n",
       "        vertical-align: middle;\n",
       "    }\n",
       "\n",
       "    .dataframe tbody tr th {\n",
       "        vertical-align: top;\n",
       "    }\n",
       "\n",
       "    .dataframe thead th {\n",
       "        text-align: right;\n",
       "    }\n",
       "</style>\n",
       "<table border=\"1\" class=\"dataframe\">\n",
       "  <thead>\n",
       "    <tr style=\"text-align: right;\">\n",
       "      <th>F_Quartile</th>\n",
       "      <th>1</th>\n",
       "      <th>2</th>\n",
       "      <th>3</th>\n",
       "      <th>4</th>\n",
       "    </tr>\n",
       "    <tr>\n",
       "      <th>R_Quartile</th>\n",
       "      <th></th>\n",
       "      <th></th>\n",
       "      <th></th>\n",
       "      <th></th>\n",
       "    </tr>\n",
       "  </thead>\n",
       "  <tbody>\n",
       "    <tr>\n",
       "      <th>1</th>\n",
       "      <td>14433</td>\n",
       "      <td>4671</td>\n",
       "      <td>5795</td>\n",
       "      <td>6074</td>\n",
       "    </tr>\n",
       "    <tr>\n",
       "      <th>2</th>\n",
       "      <td>9634</td>\n",
       "      <td>5889</td>\n",
       "      <td>8633</td>\n",
       "      <td>10399</td>\n",
       "    </tr>\n",
       "    <tr>\n",
       "      <th>3</th>\n",
       "      <td>3091</td>\n",
       "      <td>3748</td>\n",
       "      <td>7734</td>\n",
       "      <td>13263</td>\n",
       "    </tr>\n",
       "    <tr>\n",
       "      <th>4</th>\n",
       "      <td>542</td>\n",
       "      <td>1311</td>\n",
       "      <td>5415</td>\n",
       "      <td>23101</td>\n",
       "    </tr>\n",
       "  </tbody>\n",
       "</table>\n",
       "</div>"
      ],
      "text/plain": [
       "F_Quartile      1     2     3      4\n",
       "R_Quartile                          \n",
       "1           14433  4671  5795   6074\n",
       "2            9634  5889  8633  10399\n",
       "3            3091  3748  7734  13263\n",
       "4             542  1311  5415  23101"
      ]
     },
     "execution_count": 26,
     "metadata": {},
     "output_type": "execute_result"
    }
   ],
   "source": [
    "pd.crosstab(index = rfmSegmentation.R_Quartile, columns = rfmSegmentation.F_Quartile)"
   ]
  },
  {
   "cell_type": "code",
   "execution_count": 27,
   "metadata": {},
   "outputs": [
    {
     "data": {
      "image/svg+xml": "<?xml version=\"1.0\" encoding=\"utf-8\" standalone=\"no\"?>\n<!DOCTYPE svg PUBLIC \"-//W3C//DTD SVG 1.1//EN\"\n  \"http://www.w3.org/Graphics/SVG/1.1/DTD/svg11.dtd\">\n<svg xmlns:xlink=\"http://www.w3.org/1999/xlink\" width=\"476.086094pt\" height=\"320.887969pt\" viewBox=\"0 0 476.086094 320.887969\" xmlns=\"http://www.w3.org/2000/svg\" version=\"1.1\">\n <metadata>\n  <rdf:RDF xmlns:dc=\"http://purl.org/dc/elements/1.1/\" xmlns:cc=\"http://creativecommons.org/ns#\" xmlns:rdf=\"http://www.w3.org/1999/02/22-rdf-syntax-ns#\">\n   <cc:Work>\n    <dc:type rdf:resource=\"http://purl.org/dc/dcmitype/StillImage\"/>\n    <dc:date>2023-01-23T16:19:12.669892</dc:date>\n    <dc:format>image/svg+xml</dc:format>\n    <dc:creator>\n     <cc:Agent>\n      <dc:title>Matplotlib v3.5.1, https://matplotlib.org/</dc:title>\n     </cc:Agent>\n    </dc:creator>\n   </cc:Work>\n  </rdf:RDF>\n </metadata>\n <defs>\n  <style type=\"text/css\">*{stroke-linejoin: round; stroke-linecap: butt}</style>\n </defs>\n <g id=\"figure_1\">\n  <g id=\"patch_1\">\n   <path d=\"M 0 320.887969 \nL 476.086094 320.887969 \nL 476.086094 0 \nL 0 0 \nz\n\" style=\"fill: #ffffff\"/>\n  </g>\n  <g id=\"axes_1\">\n   <g id=\"patch_2\">\n    <path d=\"M 41.887969 279 \nL 399.007969 279 \nL 399.007969 7.2 \nL 41.887969 7.2 \nz\n\" style=\"fill: #eaeaf2\"/>\n   </g>\n   <g id=\"matplotlib.axis_1\">\n    <g id=\"xtick_1\">\n     <g id=\"text_1\">\n      <!-- 1 -->\n      <g style=\"fill: #262626\" transform=\"translate(83.469453 296.373594)scale(0.11 -0.11)\">\n       <defs>\n        <path id=\"ArialMT-31\" d=\"M 2384 0 \nL 1822 0 \nL 1822 3584 \nQ 1619 3391 1289 3197 \nQ 959 3003 697 2906 \nL 697 3450 \nQ 1169 3672 1522 3987 \nQ 1875 4303 2022 4600 \nL 2384 4600 \nL 2384 0 \nz\n\" transform=\"scale(0.015625)\"/>\n       </defs>\n       <use xlink:href=\"#ArialMT-31\"/>\n      </g>\n     </g>\n    </g>\n    <g id=\"xtick_2\">\n     <g id=\"text_2\">\n      <!-- 2 -->\n      <g style=\"fill: #262626\" transform=\"translate(172.749453 296.373594)scale(0.11 -0.11)\">\n       <defs>\n        <path id=\"ArialMT-32\" d=\"M 3222 541 \nL 3222 0 \nL 194 0 \nQ 188 203 259 391 \nQ 375 700 629 1000 \nQ 884 1300 1366 1694 \nQ 2113 2306 2375 2664 \nQ 2638 3022 2638 3341 \nQ 2638 3675 2398 3904 \nQ 2159 4134 1775 4134 \nQ 1369 4134 1125 3890 \nQ 881 3647 878 3216 \nL 300 3275 \nQ 359 3922 746 4261 \nQ 1134 4600 1788 4600 \nQ 2447 4600 2831 4234 \nQ 3216 3869 3216 3328 \nQ 3216 3053 3103 2787 \nQ 2991 2522 2730 2228 \nQ 2469 1934 1863 1422 \nQ 1356 997 1212 845 \nQ 1069 694 975 541 \nL 3222 541 \nz\n\" transform=\"scale(0.015625)\"/>\n       </defs>\n       <use xlink:href=\"#ArialMT-32\"/>\n      </g>\n     </g>\n    </g>\n    <g id=\"xtick_3\">\n     <g id=\"text_3\">\n      <!-- 3 -->\n      <g style=\"fill: #262626\" transform=\"translate(262.029453 296.373594)scale(0.11 -0.11)\">\n       <defs>\n        <path id=\"ArialMT-33\" d=\"M 269 1209 \nL 831 1284 \nQ 928 806 1161 595 \nQ 1394 384 1728 384 \nQ 2125 384 2398 659 \nQ 2672 934 2672 1341 \nQ 2672 1728 2419 1979 \nQ 2166 2231 1775 2231 \nQ 1616 2231 1378 2169 \nL 1441 2663 \nQ 1497 2656 1531 2656 \nQ 1891 2656 2178 2843 \nQ 2466 3031 2466 3422 \nQ 2466 3731 2256 3934 \nQ 2047 4138 1716 4138 \nQ 1388 4138 1169 3931 \nQ 950 3725 888 3313 \nL 325 3413 \nQ 428 3978 793 4289 \nQ 1159 4600 1703 4600 \nQ 2078 4600 2393 4439 \nQ 2709 4278 2876 4000 \nQ 3044 3722 3044 3409 \nQ 3044 3113 2884 2869 \nQ 2725 2625 2413 2481 \nQ 2819 2388 3044 2092 \nQ 3269 1797 3269 1353 \nQ 3269 753 2831 336 \nQ 2394 -81 1725 -81 \nQ 1122 -81 723 278 \nQ 325 638 269 1209 \nz\n\" transform=\"scale(0.015625)\"/>\n       </defs>\n       <use xlink:href=\"#ArialMT-33\"/>\n      </g>\n     </g>\n    </g>\n    <g id=\"xtick_4\">\n     <g id=\"text_4\">\n      <!-- 4 -->\n      <g style=\"fill: #262626\" transform=\"translate(351.309453 296.373594)scale(0.11 -0.11)\">\n       <defs>\n        <path id=\"ArialMT-34\" d=\"M 2069 0 \nL 2069 1097 \nL 81 1097 \nL 81 1613 \nL 2172 4581 \nL 2631 4581 \nL 2631 1613 \nL 3250 1613 \nL 3250 1097 \nL 2631 1097 \nL 2631 0 \nL 2069 0 \nz\nM 2069 1613 \nL 2069 3678 \nL 634 1613 \nL 2069 1613 \nz\n\" transform=\"scale(0.015625)\"/>\n       </defs>\n       <use xlink:href=\"#ArialMT-34\"/>\n      </g>\n     </g>\n    </g>\n    <g id=\"text_5\">\n     <!-- F_Quartile -->\n     <g style=\"fill: #262626\" transform=\"translate(192.439219 311.302969)scale(0.12 -0.12)\">\n      <defs>\n       <path id=\"ArialMT-46\" d=\"M 525 0 \nL 525 4581 \nL 3616 4581 \nL 3616 4041 \nL 1131 4041 \nL 1131 2622 \nL 3281 2622 \nL 3281 2081 \nL 1131 2081 \nL 1131 0 \nL 525 0 \nz\n\" transform=\"scale(0.015625)\"/>\n       <path id=\"ArialMT-5f\" d=\"M -97 -1272 \nL -97 -866 \nL 3631 -866 \nL 3631 -1272 \nL -97 -1272 \nz\n\" transform=\"scale(0.015625)\"/>\n       <path id=\"ArialMT-51\" d=\"M 3966 491 \nQ 4388 200 4744 66 \nL 4566 -356 \nQ 4072 -178 3581 206 \nQ 3072 -78 2456 -78 \nQ 1834 -78 1328 222 \nQ 822 522 548 1065 \nQ 275 1609 275 2291 \nQ 275 2969 550 3525 \nQ 825 4081 1333 4372 \nQ 1841 4663 2469 4663 \nQ 3103 4663 3612 4361 \nQ 4122 4059 4389 3517 \nQ 4656 2975 4656 2294 \nQ 4656 1728 4484 1276 \nQ 4313 825 3966 491 \nz\nM 2631 1266 \nQ 3156 1119 3497 828 \nQ 4031 1316 4031 2294 \nQ 4031 2850 3842 3265 \nQ 3653 3681 3289 3911 \nQ 2925 4141 2472 4141 \nQ 1794 4141 1347 3677 \nQ 900 3213 900 2291 \nQ 900 1397 1342 919 \nQ 1784 441 2472 441 \nQ 2797 441 3084 563 \nQ 2800 747 2484 825 \nL 2631 1266 \nz\n\" transform=\"scale(0.015625)\"/>\n       <path id=\"ArialMT-75\" d=\"M 2597 0 \nL 2597 488 \nQ 2209 -75 1544 -75 \nQ 1250 -75 995 37 \nQ 741 150 617 320 \nQ 494 491 444 738 \nQ 409 903 409 1263 \nL 409 3319 \nL 972 3319 \nL 972 1478 \nQ 972 1038 1006 884 \nQ 1059 663 1231 536 \nQ 1403 409 1656 409 \nQ 1909 409 2131 539 \nQ 2353 669 2445 892 \nQ 2538 1116 2538 1541 \nL 2538 3319 \nL 3100 3319 \nL 3100 0 \nL 2597 0 \nz\n\" transform=\"scale(0.015625)\"/>\n       <path id=\"ArialMT-61\" d=\"M 2588 409 \nQ 2275 144 1986 34 \nQ 1697 -75 1366 -75 \nQ 819 -75 525 192 \nQ 231 459 231 875 \nQ 231 1119 342 1320 \nQ 453 1522 633 1644 \nQ 813 1766 1038 1828 \nQ 1203 1872 1538 1913 \nQ 2219 1994 2541 2106 \nQ 2544 2222 2544 2253 \nQ 2544 2597 2384 2738 \nQ 2169 2928 1744 2928 \nQ 1347 2928 1158 2789 \nQ 969 2650 878 2297 \nL 328 2372 \nQ 403 2725 575 2942 \nQ 747 3159 1072 3276 \nQ 1397 3394 1825 3394 \nQ 2250 3394 2515 3294 \nQ 2781 3194 2906 3042 \nQ 3031 2891 3081 2659 \nQ 3109 2516 3109 2141 \nL 3109 1391 \nQ 3109 606 3145 398 \nQ 3181 191 3288 0 \nL 2700 0 \nQ 2613 175 2588 409 \nz\nM 2541 1666 \nQ 2234 1541 1622 1453 \nQ 1275 1403 1131 1340 \nQ 988 1278 909 1158 \nQ 831 1038 831 891 \nQ 831 666 1001 516 \nQ 1172 366 1500 366 \nQ 1825 366 2078 508 \nQ 2331 650 2450 897 \nQ 2541 1088 2541 1459 \nL 2541 1666 \nz\n\" transform=\"scale(0.015625)\"/>\n       <path id=\"ArialMT-72\" d=\"M 416 0 \nL 416 3319 \nL 922 3319 \nL 922 2816 \nQ 1116 3169 1280 3281 \nQ 1444 3394 1641 3394 \nQ 1925 3394 2219 3213 \nL 2025 2691 \nQ 1819 2813 1613 2813 \nQ 1428 2813 1281 2702 \nQ 1134 2591 1072 2394 \nQ 978 2094 978 1738 \nL 978 0 \nL 416 0 \nz\n\" transform=\"scale(0.015625)\"/>\n       <path id=\"ArialMT-74\" d=\"M 1650 503 \nL 1731 6 \nQ 1494 -44 1306 -44 \nQ 1000 -44 831 53 \nQ 663 150 594 308 \nQ 525 466 525 972 \nL 525 2881 \nL 113 2881 \nL 113 3319 \nL 525 3319 \nL 525 4141 \nL 1084 4478 \nL 1084 3319 \nL 1650 3319 \nL 1650 2881 \nL 1084 2881 \nL 1084 941 \nQ 1084 700 1114 631 \nQ 1144 563 1211 522 \nQ 1278 481 1403 481 \nQ 1497 481 1650 503 \nz\n\" transform=\"scale(0.015625)\"/>\n       <path id=\"ArialMT-69\" d=\"M 425 3934 \nL 425 4581 \nL 988 4581 \nL 988 3934 \nL 425 3934 \nz\nM 425 0 \nL 425 3319 \nL 988 3319 \nL 988 0 \nL 425 0 \nz\n\" transform=\"scale(0.015625)\"/>\n       <path id=\"ArialMT-6c\" d=\"M 409 0 \nL 409 4581 \nL 972 4581 \nL 972 0 \nL 409 0 \nz\n\" transform=\"scale(0.015625)\"/>\n       <path id=\"ArialMT-65\" d=\"M 2694 1069 \nL 3275 997 \nQ 3138 488 2766 206 \nQ 2394 -75 1816 -75 \nQ 1088 -75 661 373 \nQ 234 822 234 1631 \nQ 234 2469 665 2931 \nQ 1097 3394 1784 3394 \nQ 2450 3394 2872 2941 \nQ 3294 2488 3294 1666 \nQ 3294 1616 3291 1516 \nL 816 1516 \nQ 847 969 1125 678 \nQ 1403 388 1819 388 \nQ 2128 388 2347 550 \nQ 2566 713 2694 1069 \nz\nM 847 1978 \nL 2700 1978 \nQ 2663 2397 2488 2606 \nQ 2219 2931 1791 2931 \nQ 1403 2931 1139 2672 \nQ 875 2413 847 1978 \nz\n\" transform=\"scale(0.015625)\"/>\n      </defs>\n      <use xlink:href=\"#ArialMT-46\"/>\n      <use xlink:href=\"#ArialMT-5f\" x=\"61.083984\"/>\n      <use xlink:href=\"#ArialMT-51\" x=\"116.699219\"/>\n      <use xlink:href=\"#ArialMT-75\" x=\"194.482422\"/>\n      <use xlink:href=\"#ArialMT-61\" x=\"250.097656\"/>\n      <use xlink:href=\"#ArialMT-72\" x=\"305.712891\"/>\n      <use xlink:href=\"#ArialMT-74\" x=\"339.013672\"/>\n      <use xlink:href=\"#ArialMT-69\" x=\"366.796875\"/>\n      <use xlink:href=\"#ArialMT-6c\" x=\"389.013672\"/>\n      <use xlink:href=\"#ArialMT-65\" x=\"411.230469\"/>\n     </g>\n    </g>\n   </g>\n   <g id=\"matplotlib.axis_2\">\n    <g id=\"ytick_1\">\n     <g id=\"text_6\">\n      <!-- 1 -->\n      <g style=\"fill: #262626\" transform=\"translate(30.201719 44.233516)rotate(-90)scale(0.11 -0.11)\">\n       <use xlink:href=\"#ArialMT-31\"/>\n      </g>\n     </g>\n    </g>\n    <g id=\"ytick_2\">\n     <g id=\"text_7\">\n      <!-- 2 -->\n      <g style=\"fill: #262626\" transform=\"translate(30.201719 112.183516)rotate(-90)scale(0.11 -0.11)\">\n       <use xlink:href=\"#ArialMT-32\"/>\n      </g>\n     </g>\n    </g>\n    <g id=\"ytick_3\">\n     <g id=\"text_8\">\n      <!-- 3 -->\n      <g style=\"fill: #262626\" transform=\"translate(30.201719 180.133516)rotate(-90)scale(0.11 -0.11)\">\n       <use xlink:href=\"#ArialMT-33\"/>\n      </g>\n     </g>\n    </g>\n    <g id=\"ytick_4\">\n     <g id=\"text_9\">\n      <!-- 4 -->\n      <g style=\"fill: #262626\" transform=\"translate(30.201719 248.083516)rotate(-90)scale(0.11 -0.11)\">\n       <use xlink:href=\"#ArialMT-34\"/>\n      </g>\n     </g>\n    </g>\n    <g id=\"text_10\">\n     <!-- R_Quartile -->\n     <g style=\"fill: #262626\" transform=\"translate(15.943125 171.777187)rotate(-90)scale(0.12 -0.12)\">\n      <defs>\n       <path id=\"ArialMT-52\" d=\"M 503 0 \nL 503 4581 \nL 2534 4581 \nQ 3147 4581 3465 4457 \nQ 3784 4334 3975 4021 \nQ 4166 3709 4166 3331 \nQ 4166 2844 3850 2509 \nQ 3534 2175 2875 2084 \nQ 3116 1969 3241 1856 \nQ 3506 1613 3744 1247 \nL 4541 0 \nL 3778 0 \nL 3172 953 \nQ 2906 1366 2734 1584 \nQ 2563 1803 2427 1890 \nQ 2291 1978 2150 2013 \nQ 2047 2034 1813 2034 \nL 1109 2034 \nL 1109 0 \nL 503 0 \nz\nM 1109 2559 \nL 2413 2559 \nQ 2828 2559 3062 2645 \nQ 3297 2731 3419 2920 \nQ 3541 3109 3541 3331 \nQ 3541 3656 3305 3865 \nQ 3069 4075 2559 4075 \nL 1109 4075 \nL 1109 2559 \nz\n\" transform=\"scale(0.015625)\"/>\n      </defs>\n      <use xlink:href=\"#ArialMT-52\"/>\n      <use xlink:href=\"#ArialMT-5f\" x=\"72.216797\"/>\n      <use xlink:href=\"#ArialMT-51\" x=\"127.832031\"/>\n      <use xlink:href=\"#ArialMT-75\" x=\"205.615234\"/>\n      <use xlink:href=\"#ArialMT-61\" x=\"261.230469\"/>\n      <use xlink:href=\"#ArialMT-72\" x=\"316.845703\"/>\n      <use xlink:href=\"#ArialMT-74\" x=\"350.146484\"/>\n      <use xlink:href=\"#ArialMT-69\" x=\"377.929688\"/>\n      <use xlink:href=\"#ArialMT-6c\" x=\"400.146484\"/>\n      <use xlink:href=\"#ArialMT-65\" x=\"422.363281\"/>\n     </g>\n    </g>\n   </g>\n   <g id=\"QuadMesh_1\">\n    <path d=\"M 41.887969 7.2 \nL 131.167969 7.2 \nL 131.167969 75.15 \nL 41.887969 75.15 \nL 41.887969 7.2 \n\" clip-path=\"url(#p562bc40aa7)\" style=\"fill: #081d58; stroke: #ffffff; stroke-width: 4.15\"/>\n    <path d=\"M 131.167969 7.2 \nL 220.447969 7.2 \nL 220.447969 75.15 \nL 131.167969 75.15 \nL 131.167969 7.2 \n\" clip-path=\"url(#p562bc40aa7)\" style=\"fill: #89d1ba; stroke: #ffffff; stroke-width: 4.15\"/>\n    <path d=\"M 220.447969 7.2 \nL 309.727969 7.2 \nL 309.727969 75.15 \nL 220.447969 75.15 \nL 220.447969 7.2 \n\" clip-path=\"url(#p562bc40aa7)\" style=\"fill: #d7efb3; stroke: #ffffff; stroke-width: 4.15\"/>\n    <path d=\"M 309.727969 7.2 \nL 399.007969 7.2 \nL 399.007969 75.15 \nL 309.727969 75.15 \nL 309.727969 7.2 \n\" clip-path=\"url(#p562bc40aa7)\" style=\"fill: #ffffd9; stroke: #ffffff; stroke-width: 4.15\"/>\n    <path d=\"M 41.887969 75.15 \nL 131.167969 75.15 \nL 131.167969 143.1 \nL 41.887969 143.1 \nL 41.887969 75.15 \n\" clip-path=\"url(#p562bc40aa7)\" style=\"fill: #225ca7; stroke: #ffffff; stroke-width: 4.15\"/>\n    <path d=\"M 131.167969 75.15 \nL 220.447969 75.15 \nL 220.447969 143.1 \nL 131.167969 143.1 \nL 131.167969 75.15 \n\" clip-path=\"url(#p562bc40aa7)\" style=\"fill: #76cabc; stroke: #ffffff; stroke-width: 4.15\"/>\n    <path d=\"M 220.447969 75.15 \nL 309.727969 75.15 \nL 309.727969 143.1 \nL 220.447969 143.1 \nL 220.447969 75.15 \n\" clip-path=\"url(#p562bc40aa7)\" style=\"fill: #d3eeb3; stroke: #ffffff; stroke-width: 4.15\"/>\n    <path d=\"M 309.727969 75.15 \nL 399.007969 75.15 \nL 399.007969 143.1 \nL 309.727969 143.1 \nL 309.727969 75.15 \n\" clip-path=\"url(#p562bc40aa7)\" style=\"fill: #fdfed4; stroke: #ffffff; stroke-width: 4.15\"/>\n    <path d=\"M 41.887969 143.1 \nL 131.167969 143.1 \nL 131.167969 211.05 \nL 41.887969 211.05 \nL 41.887969 143.1 \n\" clip-path=\"url(#p562bc40aa7)\" style=\"fill: #2498c1; stroke: #ffffff; stroke-width: 4.15\"/>\n    <path d=\"M 131.167969 143.1 \nL 220.447969 143.1 \nL 220.447969 211.05 \nL 131.167969 211.05 \nL 131.167969 143.1 \n\" clip-path=\"url(#p562bc40aa7)\" style=\"fill: #90d4b9; stroke: #ffffff; stroke-width: 4.15\"/>\n    <path d=\"M 220.447969 143.1 \nL 309.727969 143.1 \nL 309.727969 211.05 \nL 220.447969 211.05 \nL 220.447969 143.1 \n\" clip-path=\"url(#p562bc40aa7)\" style=\"fill: #d9f0b3; stroke: #ffffff; stroke-width: 4.15\"/>\n    <path d=\"M 309.727969 143.1 \nL 399.007969 143.1 \nL 399.007969 211.05 \nL 309.727969 211.05 \nL 309.727969 143.1 \n\" clip-path=\"url(#p562bc40aa7)\" style=\"fill: #feffd6; stroke: #ffffff; stroke-width: 4.15\"/>\n    <path d=\"M 41.887969 211.05 \nL 131.167969 211.05 \nL 131.167969 279 \nL 41.887969 279 \nL 41.887969 211.05 \n\" clip-path=\"url(#p562bc40aa7)\" style=\"fill: #1f80b8; stroke: #ffffff; stroke-width: 4.15\"/>\n    <path d=\"M 131.167969 211.05 \nL 220.447969 211.05 \nL 220.447969 279 \nL 131.167969 279 \nL 131.167969 211.05 \n\" clip-path=\"url(#p562bc40aa7)\" style=\"fill: #8ed3ba; stroke: #ffffff; stroke-width: 4.15\"/>\n    <path d=\"M 220.447969 211.05 \nL 309.727969 211.05 \nL 309.727969 279 \nL 220.447969 279 \nL 220.447969 211.05 \n\" clip-path=\"url(#p562bc40aa7)\" style=\"fill: #dbf1b2; stroke: #ffffff; stroke-width: 4.15\"/>\n    <path d=\"M 309.727969 211.05 \nL 399.007969 211.05 \nL 399.007969 279 \nL 309.727969 279 \nL 309.727969 211.05 \n\" clip-path=\"url(#p562bc40aa7)\" style=\"fill: #fafdcf; stroke: #ffffff; stroke-width: 4.15\"/>\n   </g>\n   <g id=\"text_11\">\n    <!-- 8403 -->\n    <g style=\"fill: #ffffff\" transform=\"translate(75.406094 43.760156)scale(0.1 -0.1)\">\n     <defs>\n      <path id=\"ArialMT-38\" d=\"M 1131 2484 \nQ 781 2613 612 2850 \nQ 444 3088 444 3419 \nQ 444 3919 803 4259 \nQ 1163 4600 1759 4600 \nQ 2359 4600 2725 4251 \nQ 3091 3903 3091 3403 \nQ 3091 3084 2923 2848 \nQ 2756 2613 2416 2484 \nQ 2838 2347 3058 2040 \nQ 3278 1734 3278 1309 \nQ 3278 722 2862 322 \nQ 2447 -78 1769 -78 \nQ 1091 -78 675 323 \nQ 259 725 259 1325 \nQ 259 1772 486 2073 \nQ 713 2375 1131 2484 \nz\nM 1019 3438 \nQ 1019 3113 1228 2906 \nQ 1438 2700 1772 2700 \nQ 2097 2700 2305 2904 \nQ 2513 3109 2513 3406 \nQ 2513 3716 2298 3927 \nQ 2084 4138 1766 4138 \nQ 1444 4138 1231 3931 \nQ 1019 3725 1019 3438 \nz\nM 838 1322 \nQ 838 1081 952 856 \nQ 1066 631 1291 507 \nQ 1516 384 1775 384 \nQ 2178 384 2440 643 \nQ 2703 903 2703 1303 \nQ 2703 1709 2433 1975 \nQ 2163 2241 1756 2241 \nQ 1359 2241 1098 1978 \nQ 838 1716 838 1322 \nz\n\" transform=\"scale(0.015625)\"/>\n      <path id=\"ArialMT-30\" d=\"M 266 2259 \nQ 266 3072 433 3567 \nQ 600 4063 929 4331 \nQ 1259 4600 1759 4600 \nQ 2128 4600 2406 4451 \nQ 2684 4303 2865 4023 \nQ 3047 3744 3150 3342 \nQ 3253 2941 3253 2259 \nQ 3253 1453 3087 958 \nQ 2922 463 2592 192 \nQ 2263 -78 1759 -78 \nQ 1097 -78 719 397 \nQ 266 969 266 2259 \nz\nM 844 2259 \nQ 844 1131 1108 757 \nQ 1372 384 1759 384 \nQ 2147 384 2411 759 \nQ 2675 1134 2675 2259 \nQ 2675 3391 2411 3762 \nQ 2147 4134 1753 4134 \nQ 1366 4134 1134 3806 \nQ 844 3388 844 2259 \nz\n\" transform=\"scale(0.015625)\"/>\n     </defs>\n     <use xlink:href=\"#ArialMT-38\"/>\n     <use xlink:href=\"#ArialMT-34\" x=\"55.615234\"/>\n     <use xlink:href=\"#ArialMT-30\" x=\"111.230469\"/>\n     <use xlink:href=\"#ArialMT-33\" x=\"166.845703\"/>\n    </g>\n   </g>\n   <g id=\"text_12\">\n    <!-- 3794 -->\n    <g style=\"fill: #262626\" transform=\"translate(164.686094 43.760156)scale(0.1 -0.1)\">\n     <defs>\n      <path id=\"ArialMT-37\" d=\"M 303 3981 \nL 303 4522 \nL 3269 4522 \nL 3269 4084 \nQ 2831 3619 2401 2847 \nQ 1972 2075 1738 1259 \nQ 1569 684 1522 0 \nL 944 0 \nQ 953 541 1156 1306 \nQ 1359 2072 1739 2783 \nQ 2119 3494 2547 3981 \nL 303 3981 \nz\n\" transform=\"scale(0.015625)\"/>\n      <path id=\"ArialMT-39\" d=\"M 350 1059 \nL 891 1109 \nQ 959 728 1153 556 \nQ 1347 384 1650 384 \nQ 1909 384 2104 503 \nQ 2300 622 2425 820 \nQ 2550 1019 2634 1356 \nQ 2719 1694 2719 2044 \nQ 2719 2081 2716 2156 \nQ 2547 1888 2255 1720 \nQ 1963 1553 1622 1553 \nQ 1053 1553 659 1965 \nQ 266 2378 266 3053 \nQ 266 3750 677 4175 \nQ 1088 4600 1706 4600 \nQ 2153 4600 2523 4359 \nQ 2894 4119 3086 3673 \nQ 3278 3228 3278 2384 \nQ 3278 1506 3087 986 \nQ 2897 466 2520 194 \nQ 2144 -78 1638 -78 \nQ 1100 -78 759 220 \nQ 419 519 350 1059 \nz\nM 2653 3081 \nQ 2653 3566 2395 3850 \nQ 2138 4134 1775 4134 \nQ 1400 4134 1122 3828 \nQ 844 3522 844 3034 \nQ 844 2597 1108 2323 \nQ 1372 2050 1759 2050 \nQ 2150 2050 2401 2323 \nQ 2653 2597 2653 3081 \nz\n\" transform=\"scale(0.015625)\"/>\n     </defs>\n     <use xlink:href=\"#ArialMT-33\"/>\n     <use xlink:href=\"#ArialMT-37\" x=\"55.615234\"/>\n     <use xlink:href=\"#ArialMT-39\" x=\"111.230469\"/>\n     <use xlink:href=\"#ArialMT-34\" x=\"166.845703\"/>\n    </g>\n   </g>\n   <g id=\"text_13\">\n    <!-- 2652 -->\n    <g style=\"fill: #262626\" transform=\"translate(253.966094 43.760156)scale(0.1 -0.1)\">\n     <defs>\n      <path id=\"ArialMT-36\" d=\"M 3184 3459 \nL 2625 3416 \nQ 2550 3747 2413 3897 \nQ 2184 4138 1850 4138 \nQ 1581 4138 1378 3988 \nQ 1113 3794 959 3422 \nQ 806 3050 800 2363 \nQ 1003 2672 1297 2822 \nQ 1591 2972 1913 2972 \nQ 2475 2972 2870 2558 \nQ 3266 2144 3266 1488 \nQ 3266 1056 3080 686 \nQ 2894 316 2569 119 \nQ 2244 -78 1831 -78 \nQ 1128 -78 684 439 \nQ 241 956 241 2144 \nQ 241 3472 731 4075 \nQ 1159 4600 1884 4600 \nQ 2425 4600 2770 4297 \nQ 3116 3994 3184 3459 \nz\nM 888 1484 \nQ 888 1194 1011 928 \nQ 1134 663 1356 523 \nQ 1578 384 1822 384 \nQ 2178 384 2434 671 \nQ 2691 959 2691 1453 \nQ 2691 1928 2437 2201 \nQ 2184 2475 1800 2475 \nQ 1419 2475 1153 2201 \nQ 888 1928 888 1484 \nz\n\" transform=\"scale(0.015625)\"/>\n      <path id=\"ArialMT-35\" d=\"M 266 1200 \nL 856 1250 \nQ 922 819 1161 601 \nQ 1400 384 1738 384 \nQ 2144 384 2425 690 \nQ 2706 997 2706 1503 \nQ 2706 1984 2436 2262 \nQ 2166 2541 1728 2541 \nQ 1456 2541 1237 2417 \nQ 1019 2294 894 2097 \nL 366 2166 \nL 809 4519 \nL 3088 4519 \nL 3088 3981 \nL 1259 3981 \nL 1013 2750 \nQ 1425 3038 1878 3038 \nQ 2478 3038 2890 2622 \nQ 3303 2206 3303 1553 \nQ 3303 931 2941 478 \nQ 2500 -78 1738 -78 \nQ 1113 -78 717 272 \nQ 322 622 266 1200 \nz\n\" transform=\"scale(0.015625)\"/>\n     </defs>\n     <use xlink:href=\"#ArialMT-32\"/>\n     <use xlink:href=\"#ArialMT-36\" x=\"55.615234\"/>\n     <use xlink:href=\"#ArialMT-35\" x=\"111.230469\"/>\n     <use xlink:href=\"#ArialMT-32\" x=\"166.845703\"/>\n    </g>\n   </g>\n   <g id=\"text_14\">\n    <!-- 1233 -->\n    <g style=\"fill: #262626\" transform=\"translate(343.246094 43.760156)scale(0.1 -0.1)\">\n     <use xlink:href=\"#ArialMT-31\"/>\n     <use xlink:href=\"#ArialMT-32\" x=\"55.615234\"/>\n     <use xlink:href=\"#ArialMT-33\" x=\"111.230469\"/>\n     <use xlink:href=\"#ArialMT-33\" x=\"166.845703\"/>\n    </g>\n   </g>\n   <g id=\"text_15\">\n    <!-- 6645 -->\n    <g style=\"fill: #ffffff\" transform=\"translate(75.406094 111.710156)scale(0.1 -0.1)\">\n     <use xlink:href=\"#ArialMT-36\"/>\n     <use xlink:href=\"#ArialMT-36\" x=\"55.615234\"/>\n     <use xlink:href=\"#ArialMT-34\" x=\"111.230469\"/>\n     <use xlink:href=\"#ArialMT-35\" x=\"166.845703\"/>\n    </g>\n   </g>\n   <g id=\"text_16\">\n    <!-- 4041 -->\n    <g style=\"fill: #262626\" transform=\"translate(164.686094 111.710156)scale(0.1 -0.1)\">\n     <use xlink:href=\"#ArialMT-34\"/>\n     <use xlink:href=\"#ArialMT-30\" x=\"55.615234\"/>\n     <use xlink:href=\"#ArialMT-34\" x=\"111.230469\"/>\n     <use xlink:href=\"#ArialMT-31\" x=\"166.845703\"/>\n    </g>\n   </g>\n   <g id=\"text_17\">\n    <!-- 2750 -->\n    <g style=\"fill: #262626\" transform=\"translate(253.966094 111.710156)scale(0.1 -0.1)\">\n     <use xlink:href=\"#ArialMT-32\"/>\n     <use xlink:href=\"#ArialMT-37\" x=\"55.615234\"/>\n     <use xlink:href=\"#ArialMT-35\" x=\"111.230469\"/>\n     <use xlink:href=\"#ArialMT-30\" x=\"166.845703\"/>\n    </g>\n   </g>\n   <g id=\"text_18\">\n    <!-- 1361 -->\n    <g style=\"fill: #262626\" transform=\"translate(343.246094 111.710156)scale(0.1 -0.1)\">\n     <use xlink:href=\"#ArialMT-31\"/>\n     <use xlink:href=\"#ArialMT-33\" x=\"55.615234\"/>\n     <use xlink:href=\"#ArialMT-36\" x=\"111.230469\"/>\n     <use xlink:href=\"#ArialMT-31\" x=\"166.845703\"/>\n    </g>\n   </g>\n   <g id=\"text_19\">\n    <!-- 5546 -->\n    <g style=\"fill: #ffffff\" transform=\"translate(75.406094 179.660156)scale(0.1 -0.1)\">\n     <use xlink:href=\"#ArialMT-35\"/>\n     <use xlink:href=\"#ArialMT-35\" x=\"55.615234\"/>\n     <use xlink:href=\"#ArialMT-34\" x=\"111.230469\"/>\n     <use xlink:href=\"#ArialMT-36\" x=\"166.845703\"/>\n    </g>\n   </g>\n   <g id=\"text_20\">\n    <!-- 3704 -->\n    <g style=\"fill: #262626\" transform=\"translate(164.686094 179.660156)scale(0.1 -0.1)\">\n     <use xlink:href=\"#ArialMT-33\"/>\n     <use xlink:href=\"#ArialMT-37\" x=\"55.615234\"/>\n     <use xlink:href=\"#ArialMT-30\" x=\"111.230469\"/>\n     <use xlink:href=\"#ArialMT-34\" x=\"166.845703\"/>\n    </g>\n   </g>\n   <g id=\"text_21\">\n    <!-- 2621 -->\n    <g style=\"fill: #262626\" transform=\"translate(253.966094 179.660156)scale(0.1 -0.1)\">\n     <use xlink:href=\"#ArialMT-32\"/>\n     <use xlink:href=\"#ArialMT-36\" x=\"55.615234\"/>\n     <use xlink:href=\"#ArialMT-32\" x=\"111.230469\"/>\n     <use xlink:href=\"#ArialMT-31\" x=\"166.845703\"/>\n    </g>\n   </g>\n   <g id=\"text_22\">\n    <!-- 1313 -->\n    <g style=\"fill: #262626\" transform=\"translate(343.246094 179.660156)scale(0.1 -0.1)\">\n     <use xlink:href=\"#ArialMT-31\"/>\n     <use xlink:href=\"#ArialMT-33\" x=\"55.615234\"/>\n     <use xlink:href=\"#ArialMT-31\" x=\"111.230469\"/>\n     <use xlink:href=\"#ArialMT-33\" x=\"166.845703\"/>\n    </g>\n   </g>\n   <g id=\"text_23\">\n    <!-- 6003 -->\n    <g style=\"fill: #ffffff\" transform=\"translate(75.406094 247.610156)scale(0.1 -0.1)\">\n     <use xlink:href=\"#ArialMT-36\"/>\n     <use xlink:href=\"#ArialMT-30\" x=\"55.615234\"/>\n     <use xlink:href=\"#ArialMT-30\" x=\"111.230469\"/>\n     <use xlink:href=\"#ArialMT-33\" x=\"166.845703\"/>\n    </g>\n   </g>\n   <g id=\"text_24\">\n    <!-- 3738 -->\n    <g style=\"fill: #262626\" transform=\"translate(164.686094 247.610156)scale(0.1 -0.1)\">\n     <use xlink:href=\"#ArialMT-33\"/>\n     <use xlink:href=\"#ArialMT-37\" x=\"55.615234\"/>\n     <use xlink:href=\"#ArialMT-33\" x=\"111.230469\"/>\n     <use xlink:href=\"#ArialMT-38\" x=\"166.845703\"/>\n    </g>\n   </g>\n   <g id=\"text_25\">\n    <!-- 2576 -->\n    <g style=\"fill: #262626\" transform=\"translate(253.966094 247.610156)scale(0.1 -0.1)\">\n     <use xlink:href=\"#ArialMT-32\"/>\n     <use xlink:href=\"#ArialMT-35\" x=\"55.615234\"/>\n     <use xlink:href=\"#ArialMT-37\" x=\"111.230469\"/>\n     <use xlink:href=\"#ArialMT-36\" x=\"166.845703\"/>\n    </g>\n   </g>\n   <g id=\"text_26\">\n    <!-- 1463 -->\n    <g style=\"fill: #262626\" transform=\"translate(343.246094 247.610156)scale(0.1 -0.1)\">\n     <use xlink:href=\"#ArialMT-31\"/>\n     <use xlink:href=\"#ArialMT-34\" x=\"55.615234\"/>\n     <use xlink:href=\"#ArialMT-36\" x=\"111.230469\"/>\n     <use xlink:href=\"#ArialMT-33\" x=\"166.845703\"/>\n    </g>\n   </g>\n  </g>\n  <g id=\"axes_2\">\n   <g id=\"patch_3\">\n    <path d=\"M 421.327969 279 \nL 434.917969 279 \nL 434.917969 7.2 \nL 421.327969 7.2 \nz\n\" style=\"fill: #eaeaf2\"/>\n   </g>\n   <g id=\"patch_4\">\n    <path clip-path=\"url(#p1e2680343a)\" style=\"fill: #eaeaf2; stroke: #eaeaf2; stroke-width: 0.01; stroke-linejoin: miter\"/>\n   </g>\n   <g id=\"matplotlib.axis_3\">\n    <g id=\"ytick_5\">\n     <g id=\"line2d_1\">\n      <defs>\n       <path id=\"m14087a33c7\" d=\"M 0 0 \nL 6 0 \n\" style=\"stroke: #262626; stroke-width: 1.25\"/>\n      </defs>\n      <g>\n       <use xlink:href=\"#m14087a33c7\" x=\"434.917969\" y=\"249.924603\" style=\"fill: #262626; stroke: #262626; stroke-width: 1.25\"/>\n      </g>\n     </g>\n     <g id=\"text_27\">\n      <!-- 2000 -->\n      <g style=\"fill: #262626\" transform=\"translate(444.417969 253.861399)scale(0.11 -0.11)\">\n       <use xlink:href=\"#ArialMT-32\"/>\n       <use xlink:href=\"#ArialMT-30\" x=\"55.615234\"/>\n       <use xlink:href=\"#ArialMT-30\" x=\"111.230469\"/>\n       <use xlink:href=\"#ArialMT-30\" x=\"166.845703\"/>\n      </g>\n     </g>\n    </g>\n    <g id=\"ytick_6\">\n     <g id=\"line2d_2\">\n      <g>\n       <use xlink:href=\"#m14087a33c7\" x=\"434.917969\" y=\"212.016653\" style=\"fill: #262626; stroke: #262626; stroke-width: 1.25\"/>\n      </g>\n     </g>\n     <g id=\"text_28\">\n      <!-- 3000 -->\n      <g style=\"fill: #262626\" transform=\"translate(444.417969 215.95345)scale(0.11 -0.11)\">\n       <use xlink:href=\"#ArialMT-33\"/>\n       <use xlink:href=\"#ArialMT-30\" x=\"55.615234\"/>\n       <use xlink:href=\"#ArialMT-30\" x=\"111.230469\"/>\n       <use xlink:href=\"#ArialMT-30\" x=\"166.845703\"/>\n      </g>\n     </g>\n    </g>\n    <g id=\"ytick_7\">\n     <g id=\"line2d_3\">\n      <g>\n       <use xlink:href=\"#m14087a33c7\" x=\"434.917969\" y=\"174.108703\" style=\"fill: #262626; stroke: #262626; stroke-width: 1.25\"/>\n      </g>\n     </g>\n     <g id=\"text_29\">\n      <!-- 4000 -->\n      <g style=\"fill: #262626\" transform=\"translate(444.417969 178.0455)scale(0.11 -0.11)\">\n       <use xlink:href=\"#ArialMT-34\"/>\n       <use xlink:href=\"#ArialMT-30\" x=\"55.615234\"/>\n       <use xlink:href=\"#ArialMT-30\" x=\"111.230469\"/>\n       <use xlink:href=\"#ArialMT-30\" x=\"166.845703\"/>\n      </g>\n     </g>\n    </g>\n    <g id=\"ytick_8\">\n     <g id=\"line2d_4\">\n      <g>\n       <use xlink:href=\"#m14087a33c7\" x=\"434.917969\" y=\"136.200753\" style=\"fill: #262626; stroke: #262626; stroke-width: 1.25\"/>\n      </g>\n     </g>\n     <g id=\"text_30\">\n      <!-- 5000 -->\n      <g style=\"fill: #262626\" transform=\"translate(444.417969 140.13755)scale(0.11 -0.11)\">\n       <use xlink:href=\"#ArialMT-35\"/>\n       <use xlink:href=\"#ArialMT-30\" x=\"55.615234\"/>\n       <use xlink:href=\"#ArialMT-30\" x=\"111.230469\"/>\n       <use xlink:href=\"#ArialMT-30\" x=\"166.845703\"/>\n      </g>\n     </g>\n    </g>\n    <g id=\"ytick_9\">\n     <g id=\"line2d_5\">\n      <g>\n       <use xlink:href=\"#m14087a33c7\" x=\"434.917969\" y=\"98.292803\" style=\"fill: #262626; stroke: #262626; stroke-width: 1.25\"/>\n      </g>\n     </g>\n     <g id=\"text_31\">\n      <!-- 6000 -->\n      <g style=\"fill: #262626\" transform=\"translate(444.417969 102.2296)scale(0.11 -0.11)\">\n       <use xlink:href=\"#ArialMT-36\"/>\n       <use xlink:href=\"#ArialMT-30\" x=\"55.615234\"/>\n       <use xlink:href=\"#ArialMT-30\" x=\"111.230469\"/>\n       <use xlink:href=\"#ArialMT-30\" x=\"166.845703\"/>\n      </g>\n     </g>\n    </g>\n    <g id=\"ytick_10\">\n     <g id=\"line2d_6\">\n      <g>\n       <use xlink:href=\"#m14087a33c7\" x=\"434.917969\" y=\"60.384854\" style=\"fill: #262626; stroke: #262626; stroke-width: 1.25\"/>\n      </g>\n     </g>\n     <g id=\"text_32\">\n      <!-- 7000 -->\n      <g style=\"fill: #262626\" transform=\"translate(444.417969 64.32165)scale(0.11 -0.11)\">\n       <use xlink:href=\"#ArialMT-37\"/>\n       <use xlink:href=\"#ArialMT-30\" x=\"55.615234\"/>\n       <use xlink:href=\"#ArialMT-30\" x=\"111.230469\"/>\n       <use xlink:href=\"#ArialMT-30\" x=\"166.845703\"/>\n      </g>\n     </g>\n    </g>\n    <g id=\"ytick_11\">\n     <g id=\"line2d_7\">\n      <g>\n       <use xlink:href=\"#m14087a33c7\" x=\"434.917969\" y=\"22.476904\" style=\"fill: #262626; stroke: #262626; stroke-width: 1.25\"/>\n      </g>\n     </g>\n     <g id=\"text_33\">\n      <!-- 8000 -->\n      <g style=\"fill: #262626\" transform=\"translate(444.417969 26.413701)scale(0.11 -0.11)\">\n       <use xlink:href=\"#ArialMT-38\"/>\n       <use xlink:href=\"#ArialMT-30\" x=\"55.615234\"/>\n       <use xlink:href=\"#ArialMT-30\" x=\"111.230469\"/>\n       <use xlink:href=\"#ArialMT-30\" x=\"166.845703\"/>\n      </g>\n     </g>\n    </g>\n   </g>\n   <image xlink:href=\"data:image/png;base64,\niVBORw0KGgoAAAANSUhEUgAAAA4AAAEQCAYAAACA40WOAAABjElEQVR4nO2bUWrGMAyDnZH732+H6Z+dYAw+MQmR9l3IsmU7pO065/sMePYZhJs982HAczAjBBZpFEJlwC+Empl9aHJ4HQPOqdEYMLnbq4oB3BoTyWEa+QRIDGRzciKhItxspnBmQ0IhVIFxmRk/AY0MqKxyCvR79bXcPzAWTYCefsSMQiNTr1b1IwRijdhyAhDW8fGHynBdGu0bGYf64AnQ45wmjbyOmNGdnIfhEuPR38g9w0oYyIywSqP/8MDPck0HpJZyBFZ5T3ICS6dJIyN8R8cfQKZRaGQMLGorbrkioPtmHr58UO46msrBgMItGcxOIDkX1FHpjreOvwPtMyfQyEUGoOWAr5FnD51yQ7O6OCPCKRrtyYFfoMxenNEMFL4ksWdVYLygOwKWQ7hId/i9WlNHPgFW0wpAuEhb2UMNTLmi3cGBCNe1yu0TgO+OwEamjBfMHH+owqkDMtLkXHEmF77utv/gQ0OdgEY7MBBqi+WUWzJ3VoX/5nqA/l9RruhHv+XMdUw0sruOP6ZH46lxSktxAAAAAElFTkSuQmCC\" id=\"image9f99abbf68\" transform=\"scale(1 -1)translate(0 -272)\" x=\"421\" y=\"-6\" width=\"14\" height=\"272\"/>\n   <g id=\"LineCollection_1\"/>\n   <g id=\"patch_5\">\n    <path d=\"M 421.327969 279 \nL 428.122969 279 \nL 434.917969 279 \nL 434.917969 7.2 \nL 428.122969 7.2 \nL 421.327969 7.2 \nL 421.327969 279 \nz\n\" style=\"fill: none\"/>\n   </g>\n  </g>\n </g>\n <defs>\n  <clipPath id=\"p562bc40aa7\">\n   <rect x=\"41.887969\" y=\"7.2\" width=\"357.12\" height=\"271.8\"/>\n  </clipPath>\n  <clipPath id=\"p1e2680343a\">\n   <rect x=\"421.327969\" y=\"7.2\" width=\"13.59\" height=\"271.8\"/>\n  </clipPath>\n </defs>\n</svg>\n",
      "text/plain": [
       "<Figure size 576x360 with 2 Axes>"
      ]
     },
     "metadata": {},
     "output_type": "display_data"
    }
   ],
   "source": [
    "rfm_table2 = rfmSegmentation.pivot_table(\n",
    "                        index='R_Quartile', \n",
    "                        columns='F_Quartile', \n",
    "                        values='monetary_value', \n",
    "                        aggfunc=np.mean).applymap(int)\n",
    "\n",
    "sns.heatmap(rfm_table2, cmap=\"YlGnBu\", annot=True, fmt=\".0f\", linewidths=4.15, annot_kws={\"size\": 10})\n",
    "plt.show()"
   ]
  }
 ],
 "metadata": {
  "kernelspec": {
   "display_name": "base",
   "language": "python",
   "name": "python3"
  },
  "language_info": {
   "codemirror_mode": {
    "name": "ipython",
    "version": 3
   },
   "file_extension": ".py",
   "mimetype": "text/x-python",
   "name": "python",
   "nbconvert_exporter": "python",
   "pygments_lexer": "ipython3",
   "version": "3.9.12"
  },
  "vscode": {
   "interpreter": {
    "hash": "6f5583cf1d9466b5c27e75c89cc6b383bed5736d6b16c51c8074d8690011a952"
   }
  }
 },
 "nbformat": 4,
 "nbformat_minor": 4
}
