{
 "cells": [
  {
   "cell_type": "code",
   "execution_count": 146,
   "metadata": {},
   "outputs": [],
   "source": [
    "import pandas as pd\n",
    "import numpy as np\n",
    "from datetime import timedelta, datetime"
   ]
  },
  {
   "cell_type": "code",
   "execution_count": 147,
   "metadata": {},
   "outputs": [],
   "source": [
    "df = pd.read_csv('KC_case_data.csv')"
   ]
  },
  {
   "cell_type": "markdown",
   "metadata": {},
   "source": [
    "Вы выгрузили данные из AppMetrica за период с 1 января по 31 марта 2020, только по пользователям, зарегистрированным позднее 1 января 2020.\n",
    "\n",
    "Описание данных \n",
    "\n",
    "- date – дата совершения события\n",
    "\n",
    "- event - событие\n",
    "\n",
    "app_install – установка приложения\n",
    "\n",
    "app_start – открыть приложения\n",
    "\n",
    "registration – зарегистрироваться \n",
    "\n",
    "search – перейти на страницу поиска товаров (каталог)\n",
    "\n",
    "open_item – открыть товар\n",
    "\n",
    "choose_item – отправить товар в корзину\n",
    "\n",
    "tap_basket – перейти в корзину\n",
    "\n",
    "purchase – подтверждение покупки\n",
    "- gender – пол пользователя\n",
    "\n",
    "- os_name – платформа пользователя\n",
    "\n",
    "- city – город пользователя\n",
    "\n",
    "- device_id – идентификатор устройства пользователя\n",
    "\n",
    "- urm_source – канал, с которого пришел пользователь\n",
    "\n",
    "yandex-direct – Яндекс директ\n",
    "\n",
    "google_ads – реклама в Google\n",
    "\n",
    "vk_ads – реклама в ВК\n",
    "\n",
    "instagram_ads – реклама в instagram\n",
    "\n",
    "facebook_ads – реклама в facebook\n",
    "\n",
    "referral – акция «приведи друга»\n",
    "\n",
    "Если стоит ‘-’, то канал не определен или это скачивание приложения напрямую или посещение не с рекламы  \n",
    "- purchase_sum – стоимость покупки (при совершении события ‘purchase’)\n",
    "\n",
    "Обратите внимание на следующее:\n",
    "\n",
    "- В выгрузке только уникальные действия пользователей за каждый день \n",
    "\n",
    "- Можно миновать стадию установки приложения, если оно было установлено ранее\n",
    "\n",
    "- Можно миновать стадию регистрации, если пользователь был уже залогинен на момент сессии. Однако незарегистрированные пользователи не могут оформить покупку. "
   ]
  },
  {
   "cell_type": "code",
   "execution_count": 148,
   "metadata": {},
   "outputs": [
    {
     "data": {
      "text/html": [
       "<div>\n",
       "<style scoped>\n",
       "    .dataframe tbody tr th:only-of-type {\n",
       "        vertical-align: middle;\n",
       "    }\n",
       "\n",
       "    .dataframe tbody tr th {\n",
       "        vertical-align: top;\n",
       "    }\n",
       "\n",
       "    .dataframe thead th {\n",
       "        text-align: right;\n",
       "    }\n",
       "</style>\n",
       "<table border=\"1\" class=\"dataframe\">\n",
       "  <thead>\n",
       "    <tr style=\"text-align: right;\">\n",
       "      <th></th>\n",
       "      <th>date</th>\n",
       "      <th>event</th>\n",
       "      <th>purchase_sum</th>\n",
       "      <th>os_name</th>\n",
       "      <th>device_id</th>\n",
       "      <th>gender</th>\n",
       "      <th>city</th>\n",
       "      <th>utm_source</th>\n",
       "    </tr>\n",
       "  </thead>\n",
       "  <tbody>\n",
       "    <tr>\n",
       "      <th>0</th>\n",
       "      <td>2020-01-01</td>\n",
       "      <td>app_start</td>\n",
       "      <td>NaN</td>\n",
       "      <td>android</td>\n",
       "      <td>669460</td>\n",
       "      <td>female</td>\n",
       "      <td>Moscow</td>\n",
       "      <td>-</td>\n",
       "    </tr>\n",
       "    <tr>\n",
       "      <th>1</th>\n",
       "      <td>2020-01-01</td>\n",
       "      <td>app_start</td>\n",
       "      <td>NaN</td>\n",
       "      <td>ios</td>\n",
       "      <td>833621</td>\n",
       "      <td>male</td>\n",
       "      <td>Moscow</td>\n",
       "      <td>vk_ads</td>\n",
       "    </tr>\n",
       "    <tr>\n",
       "      <th>2</th>\n",
       "      <td>2020-01-01</td>\n",
       "      <td>app_start</td>\n",
       "      <td>NaN</td>\n",
       "      <td>android</td>\n",
       "      <td>1579237</td>\n",
       "      <td>male</td>\n",
       "      <td>Saint-Petersburg</td>\n",
       "      <td>referal</td>\n",
       "    </tr>\n",
       "    <tr>\n",
       "      <th>3</th>\n",
       "      <td>2020-01-01</td>\n",
       "      <td>app_start</td>\n",
       "      <td>NaN</td>\n",
       "      <td>android</td>\n",
       "      <td>1737182</td>\n",
       "      <td>female</td>\n",
       "      <td>Moscow</td>\n",
       "      <td>facebook_ads</td>\n",
       "    </tr>\n",
       "    <tr>\n",
       "      <th>4</th>\n",
       "      <td>2020-01-01</td>\n",
       "      <td>app_start</td>\n",
       "      <td>NaN</td>\n",
       "      <td>ios</td>\n",
       "      <td>4029024</td>\n",
       "      <td>female</td>\n",
       "      <td>Moscow</td>\n",
       "      <td>facebook_ads</td>\n",
       "    </tr>\n",
       "    <tr>\n",
       "      <th>...</th>\n",
       "      <td>...</td>\n",
       "      <td>...</td>\n",
       "      <td>...</td>\n",
       "      <td>...</td>\n",
       "      <td>...</td>\n",
       "      <td>...</td>\n",
       "      <td>...</td>\n",
       "      <td>...</td>\n",
       "    </tr>\n",
       "    <tr>\n",
       "      <th>2747963</th>\n",
       "      <td>2020-03-31</td>\n",
       "      <td>register</td>\n",
       "      <td>NaN</td>\n",
       "      <td>android</td>\n",
       "      <td>2984778</td>\n",
       "      <td>male</td>\n",
       "      <td>Saint-Petersburg</td>\n",
       "      <td>facebook_ads</td>\n",
       "    </tr>\n",
       "    <tr>\n",
       "      <th>2747964</th>\n",
       "      <td>2020-03-31</td>\n",
       "      <td>register</td>\n",
       "      <td>NaN</td>\n",
       "      <td>ios</td>\n",
       "      <td>27301864</td>\n",
       "      <td>male</td>\n",
       "      <td>Moscow</td>\n",
       "      <td>-</td>\n",
       "    </tr>\n",
       "    <tr>\n",
       "      <th>2747965</th>\n",
       "      <td>2020-03-31</td>\n",
       "      <td>register</td>\n",
       "      <td>NaN</td>\n",
       "      <td>ios</td>\n",
       "      <td>1294285</td>\n",
       "      <td>female</td>\n",
       "      <td>Saint-Petersburg</td>\n",
       "      <td>google_ads</td>\n",
       "    </tr>\n",
       "    <tr>\n",
       "      <th>2747966</th>\n",
       "      <td>2020-03-31</td>\n",
       "      <td>register</td>\n",
       "      <td>NaN</td>\n",
       "      <td>android</td>\n",
       "      <td>3010574</td>\n",
       "      <td>female</td>\n",
       "      <td>Saint-Petersburg</td>\n",
       "      <td>google_ads</td>\n",
       "    </tr>\n",
       "    <tr>\n",
       "      <th>2747967</th>\n",
       "      <td>2020-03-31</td>\n",
       "      <td>register</td>\n",
       "      <td>NaN</td>\n",
       "      <td>android</td>\n",
       "      <td>11153353</td>\n",
       "      <td>female</td>\n",
       "      <td>Saint-Petersburg</td>\n",
       "      <td>-</td>\n",
       "    </tr>\n",
       "  </tbody>\n",
       "</table>\n",
       "<p>2747968 rows × 8 columns</p>\n",
       "</div>"
      ],
      "text/plain": [
       "               date      event  purchase_sum  os_name  device_id  gender  \\\n",
       "0        2020-01-01  app_start           NaN  android     669460  female   \n",
       "1        2020-01-01  app_start           NaN      ios     833621    male   \n",
       "2        2020-01-01  app_start           NaN  android    1579237    male   \n",
       "3        2020-01-01  app_start           NaN  android    1737182  female   \n",
       "4        2020-01-01  app_start           NaN      ios    4029024  female   \n",
       "...             ...        ...           ...      ...        ...     ...   \n",
       "2747963  2020-03-31   register           NaN  android    2984778    male   \n",
       "2747964  2020-03-31   register           NaN      ios   27301864    male   \n",
       "2747965  2020-03-31   register           NaN      ios    1294285  female   \n",
       "2747966  2020-03-31   register           NaN  android    3010574  female   \n",
       "2747967  2020-03-31   register           NaN  android   11153353  female   \n",
       "\n",
       "                     city    utm_source  \n",
       "0                  Moscow             -  \n",
       "1                  Moscow        vk_ads  \n",
       "2        Saint-Petersburg       referal  \n",
       "3                  Moscow  facebook_ads  \n",
       "4                  Moscow  facebook_ads  \n",
       "...                   ...           ...  \n",
       "2747963  Saint-Petersburg  facebook_ads  \n",
       "2747964            Moscow             -  \n",
       "2747965  Saint-Petersburg    google_ads  \n",
       "2747966  Saint-Petersburg    google_ads  \n",
       "2747967  Saint-Petersburg             -  \n",
       "\n",
       "[2747968 rows x 8 columns]"
      ]
     },
     "execution_count": 148,
     "metadata": {},
     "output_type": "execute_result"
    }
   ],
   "source": [
    "df"
   ]
  },
  {
   "cell_type": "code",
   "execution_count": 149,
   "metadata": {},
   "outputs": [
    {
     "data": {
      "text/plain": [
       "'2020-01-01'"
      ]
     },
     "execution_count": 149,
     "metadata": {},
     "output_type": "execute_result"
    }
   ],
   "source": [
    "df.date.min()"
   ]
  },
  {
   "cell_type": "code",
   "execution_count": 150,
   "metadata": {},
   "outputs": [
    {
     "data": {
      "text/plain": [
       "'2020-03-31'"
      ]
     },
     "execution_count": 150,
     "metadata": {},
     "output_type": "execute_result"
    }
   ],
   "source": [
    "df.date.max()"
   ]
  },
  {
   "cell_type": "code",
   "execution_count": 151,
   "metadata": {},
   "outputs": [
    {
     "data": {
      "text/plain": [
       "date                  0\n",
       "event                 0\n",
       "purchase_sum    2606585\n",
       "os_name               0\n",
       "device_id             0\n",
       "gender                0\n",
       "city                  0\n",
       "utm_source            0\n",
       "dtype: int64"
      ]
     },
     "execution_count": 151,
     "metadata": {},
     "output_type": "execute_result"
    }
   ],
   "source": [
    "df.isnull().sum()"
   ]
  },
  {
   "cell_type": "code",
   "execution_count": 152,
   "metadata": {},
   "outputs": [],
   "source": [
    "df['date'] =  pd.to_datetime(df['date'])"
   ]
  },
  {
   "cell_type": "code",
   "execution_count": 153,
   "metadata": {},
   "outputs": [
    {
     "data": {
      "text/plain": [
       "75032"
      ]
     },
     "execution_count": 153,
     "metadata": {},
     "output_type": "execute_result"
    }
   ],
   "source": [
    "# MAU февраля:\n",
    "df[(df.date.dt.month == 2) & (df.event == 'app_start')]['device_id'].nunique()"
   ]
  },
  {
   "cell_type": "code",
   "execution_count": 154,
   "metadata": {},
   "outputs": [
    {
     "data": {
      "text/plain": [
       "80297"
      ]
     },
     "execution_count": 154,
     "metadata": {},
     "output_type": "execute_result"
    }
   ],
   "source": [
    "#Количество установок в январе:\n",
    "df[(df.date.dt.month == 1) & (df.event == 'app_install')]['device_id'].nunique()"
   ]
  },
  {
   "attachments": {},
   "cell_type": "markdown",
   "metadata": {},
   "source": [
    "Присвойте пользователям когорты по дню установки приложения и посчитайте для них  конверсию из установки в покупку в течение 7 дней. Для какой когорты конверсия была наибольшей? \n",
    "\n",
    "Примечание: считаем пользователя сконвертировавшимся, если с момента установки до совершения первой покупки прошло не более 7 дней."
   ]
  },
  {
   "cell_type": "code",
   "execution_count": 155,
   "metadata": {},
   "outputs": [],
   "source": [
    "# присвоим когорты по дате установки приложения\n",
    "cohort = df[df.event == 'app_install'][['date', 'device_id']]"
   ]
  },
  {
   "cell_type": "code",
   "execution_count": 156,
   "metadata": {},
   "outputs": [
    {
     "data": {
      "text/html": [
       "<div>\n",
       "<style scoped>\n",
       "    .dataframe tbody tr th:only-of-type {\n",
       "        vertical-align: middle;\n",
       "    }\n",
       "\n",
       "    .dataframe tbody tr th {\n",
       "        vertical-align: top;\n",
       "    }\n",
       "\n",
       "    .dataframe thead th {\n",
       "        text-align: right;\n",
       "    }\n",
       "</style>\n",
       "<table border=\"1\" class=\"dataframe\">\n",
       "  <thead>\n",
       "    <tr style=\"text-align: right;\">\n",
       "      <th></th>\n",
       "      <th>date</th>\n",
       "      <th>device_id</th>\n",
       "    </tr>\n",
       "  </thead>\n",
       "  <tbody>\n",
       "    <tr>\n",
       "      <th>2515061</th>\n",
       "      <td>2020-01-01</td>\n",
       "      <td>4921563</td>\n",
       "    </tr>\n",
       "    <tr>\n",
       "      <th>2515062</th>\n",
       "      <td>2020-01-01</td>\n",
       "      <td>1311583</td>\n",
       "    </tr>\n",
       "    <tr>\n",
       "      <th>2515063</th>\n",
       "      <td>2020-01-01</td>\n",
       "      <td>23006325</td>\n",
       "    </tr>\n",
       "    <tr>\n",
       "      <th>2515064</th>\n",
       "      <td>2020-01-01</td>\n",
       "      <td>5645652</td>\n",
       "    </tr>\n",
       "    <tr>\n",
       "      <th>2515065</th>\n",
       "      <td>2020-01-01</td>\n",
       "      <td>8798567</td>\n",
       "    </tr>\n",
       "    <tr>\n",
       "      <th>...</th>\n",
       "      <td>...</td>\n",
       "      <td>...</td>\n",
       "    </tr>\n",
       "    <tr>\n",
       "      <th>2669653</th>\n",
       "      <td>2020-03-31</td>\n",
       "      <td>19717968</td>\n",
       "    </tr>\n",
       "    <tr>\n",
       "      <th>2669654</th>\n",
       "      <td>2020-03-31</td>\n",
       "      <td>32966665</td>\n",
       "    </tr>\n",
       "    <tr>\n",
       "      <th>2669655</th>\n",
       "      <td>2020-03-31</td>\n",
       "      <td>6335964</td>\n",
       "    </tr>\n",
       "    <tr>\n",
       "      <th>2669656</th>\n",
       "      <td>2020-03-31</td>\n",
       "      <td>29155826</td>\n",
       "    </tr>\n",
       "    <tr>\n",
       "      <th>2669657</th>\n",
       "      <td>2020-03-31</td>\n",
       "      <td>35057676</td>\n",
       "    </tr>\n",
       "  </tbody>\n",
       "</table>\n",
       "<p>154597 rows × 2 columns</p>\n",
       "</div>"
      ],
      "text/plain": [
       "              date  device_id\n",
       "2515061 2020-01-01    4921563\n",
       "2515062 2020-01-01    1311583\n",
       "2515063 2020-01-01   23006325\n",
       "2515064 2020-01-01    5645652\n",
       "2515065 2020-01-01    8798567\n",
       "...            ...        ...\n",
       "2669653 2020-03-31   19717968\n",
       "2669654 2020-03-31   32966665\n",
       "2669655 2020-03-31    6335964\n",
       "2669656 2020-03-31   29155826\n",
       "2669657 2020-03-31   35057676\n",
       "\n",
       "[154597 rows x 2 columns]"
      ]
     },
     "execution_count": 156,
     "metadata": {},
     "output_type": "execute_result"
    }
   ],
   "source": [
    "cohort"
   ]
  },
  {
   "cell_type": "code",
   "execution_count": 157,
   "metadata": {},
   "outputs": [
    {
     "data": {
      "text/html": [
       "<div>\n",
       "<style scoped>\n",
       "    .dataframe tbody tr th:only-of-type {\n",
       "        vertical-align: middle;\n",
       "    }\n",
       "\n",
       "    .dataframe tbody tr th {\n",
       "        vertical-align: top;\n",
       "    }\n",
       "\n",
       "    .dataframe thead th {\n",
       "        text-align: right;\n",
       "    }\n",
       "</style>\n",
       "<table border=\"1\" class=\"dataframe\">\n",
       "  <thead>\n",
       "    <tr style=\"text-align: right;\">\n",
       "      <th></th>\n",
       "      <th>device_id</th>\n",
       "      <th>date</th>\n",
       "    </tr>\n",
       "  </thead>\n",
       "  <tbody>\n",
       "    <tr>\n",
       "      <th>0</th>\n",
       "      <td>4014</td>\n",
       "      <td>2020-02-01</td>\n",
       "    </tr>\n",
       "    <tr>\n",
       "      <th>1</th>\n",
       "      <td>4046</td>\n",
       "      <td>2020-01-04</td>\n",
       "    </tr>\n",
       "    <tr>\n",
       "      <th>2</th>\n",
       "      <td>4060</td>\n",
       "      <td>2020-03-07</td>\n",
       "    </tr>\n",
       "    <tr>\n",
       "      <th>3</th>\n",
       "      <td>4120</td>\n",
       "      <td>2020-01-07</td>\n",
       "    </tr>\n",
       "    <tr>\n",
       "      <th>4</th>\n",
       "      <td>4125</td>\n",
       "      <td>2020-01-07</td>\n",
       "    </tr>\n",
       "    <tr>\n",
       "      <th>...</th>\n",
       "      <td>...</td>\n",
       "      <td>...</td>\n",
       "    </tr>\n",
       "    <tr>\n",
       "      <th>70870</th>\n",
       "      <td>35321120</td>\n",
       "      <td>2020-03-25</td>\n",
       "    </tr>\n",
       "    <tr>\n",
       "      <th>70871</th>\n",
       "      <td>35326839</td>\n",
       "      <td>2020-03-28</td>\n",
       "    </tr>\n",
       "    <tr>\n",
       "      <th>70872</th>\n",
       "      <td>35342310</td>\n",
       "      <td>2020-03-27</td>\n",
       "    </tr>\n",
       "    <tr>\n",
       "      <th>70873</th>\n",
       "      <td>35367797</td>\n",
       "      <td>2020-03-29</td>\n",
       "    </tr>\n",
       "    <tr>\n",
       "      <th>70874</th>\n",
       "      <td>35370030</td>\n",
       "      <td>2020-03-31</td>\n",
       "    </tr>\n",
       "  </tbody>\n",
       "</table>\n",
       "<p>70875 rows × 2 columns</p>\n",
       "</div>"
      ],
      "text/plain": [
       "       device_id       date\n",
       "0           4014 2020-02-01\n",
       "1           4046 2020-01-04\n",
       "2           4060 2020-03-07\n",
       "3           4120 2020-01-07\n",
       "4           4125 2020-01-07\n",
       "...          ...        ...\n",
       "70870   35321120 2020-03-25\n",
       "70871   35326839 2020-03-28\n",
       "70872   35342310 2020-03-27\n",
       "70873   35367797 2020-03-29\n",
       "70874   35370030 2020-03-31\n",
       "\n",
       "[70875 rows x 2 columns]"
      ]
     },
     "execution_count": 157,
     "metadata": {},
     "output_type": "execute_result"
    }
   ],
   "source": [
    "#  считаем дату первой покупки\n",
    "purchase = df[df.event == 'purchase'][['date', 'device_id']].groupby('device_id', as_index=False)['date'].min()\n",
    "purchase"
   ]
  },
  {
   "attachments": {},
   "cell_type": "markdown",
   "metadata": {},
   "source": [
    "объеденим когорты, первую покупку и посчитаем конверсию за первые 7 дней"
   ]
  },
  {
   "cell_type": "code",
   "execution_count": 158,
   "metadata": {},
   "outputs": [
    {
     "data": {
      "text/html": [
       "<div>\n",
       "<style scoped>\n",
       "    .dataframe tbody tr th:only-of-type {\n",
       "        vertical-align: middle;\n",
       "    }\n",
       "\n",
       "    .dataframe tbody tr th {\n",
       "        vertical-align: top;\n",
       "    }\n",
       "\n",
       "    .dataframe thead th {\n",
       "        text-align: right;\n",
       "    }\n",
       "</style>\n",
       "<table border=\"1\" class=\"dataframe\">\n",
       "  <thead>\n",
       "    <tr style=\"text-align: right;\">\n",
       "      <th></th>\n",
       "      <th>cohort</th>\n",
       "      <th>device_id</th>\n",
       "      <th>first_buy</th>\n",
       "    </tr>\n",
       "  </thead>\n",
       "  <tbody>\n",
       "    <tr>\n",
       "      <th>0</th>\n",
       "      <td>2020-01-01</td>\n",
       "      <td>4921563</td>\n",
       "      <td>2020-01-10</td>\n",
       "    </tr>\n",
       "    <tr>\n",
       "      <th>1</th>\n",
       "      <td>2020-01-01</td>\n",
       "      <td>1311583</td>\n",
       "      <td>NaT</td>\n",
       "    </tr>\n",
       "    <tr>\n",
       "      <th>2</th>\n",
       "      <td>2020-01-01</td>\n",
       "      <td>23006325</td>\n",
       "      <td>2020-01-01</td>\n",
       "    </tr>\n",
       "    <tr>\n",
       "      <th>3</th>\n",
       "      <td>2020-01-01</td>\n",
       "      <td>5645652</td>\n",
       "      <td>NaT</td>\n",
       "    </tr>\n",
       "    <tr>\n",
       "      <th>4</th>\n",
       "      <td>2020-01-01</td>\n",
       "      <td>8798567</td>\n",
       "      <td>NaT</td>\n",
       "    </tr>\n",
       "    <tr>\n",
       "      <th>...</th>\n",
       "      <td>...</td>\n",
       "      <td>...</td>\n",
       "      <td>...</td>\n",
       "    </tr>\n",
       "    <tr>\n",
       "      <th>154592</th>\n",
       "      <td>2020-03-31</td>\n",
       "      <td>19717968</td>\n",
       "      <td>NaT</td>\n",
       "    </tr>\n",
       "    <tr>\n",
       "      <th>154593</th>\n",
       "      <td>2020-03-31</td>\n",
       "      <td>32966665</td>\n",
       "      <td>NaT</td>\n",
       "    </tr>\n",
       "    <tr>\n",
       "      <th>154594</th>\n",
       "      <td>2020-03-31</td>\n",
       "      <td>6335964</td>\n",
       "      <td>NaT</td>\n",
       "    </tr>\n",
       "    <tr>\n",
       "      <th>154595</th>\n",
       "      <td>2020-03-31</td>\n",
       "      <td>29155826</td>\n",
       "      <td>NaT</td>\n",
       "    </tr>\n",
       "    <tr>\n",
       "      <th>154596</th>\n",
       "      <td>2020-03-31</td>\n",
       "      <td>35057676</td>\n",
       "      <td>2020-03-31</td>\n",
       "    </tr>\n",
       "  </tbody>\n",
       "</table>\n",
       "<p>154597 rows × 3 columns</p>\n",
       "</div>"
      ],
      "text/plain": [
       "           cohort  device_id  first_buy\n",
       "0      2020-01-01    4921563 2020-01-10\n",
       "1      2020-01-01    1311583        NaT\n",
       "2      2020-01-01   23006325 2020-01-01\n",
       "3      2020-01-01    5645652        NaT\n",
       "4      2020-01-01    8798567        NaT\n",
       "...           ...        ...        ...\n",
       "154592 2020-03-31   19717968        NaT\n",
       "154593 2020-03-31   32966665        NaT\n",
       "154594 2020-03-31    6335964        NaT\n",
       "154595 2020-03-31   29155826        NaT\n",
       "154596 2020-03-31   35057676 2020-03-31\n",
       "\n",
       "[154597 rows x 3 columns]"
      ]
     },
     "execution_count": 158,
     "metadata": {},
     "output_type": "execute_result"
    }
   ],
   "source": [
    "merged_table = cohort.merge(purchase, how='left', on=\"device_id\") \\\n",
    "  .rename(columns={\"date_x\": \"cohort\", \"date_y\": \"first_buy\"})\n",
    "\n",
    "merged_table"
   ]
  },
  {
   "cell_type": "code",
   "execution_count": 159,
   "metadata": {},
   "outputs": [
    {
     "data": {
      "text/html": [
       "<div>\n",
       "<style scoped>\n",
       "    .dataframe tbody tr th:only-of-type {\n",
       "        vertical-align: middle;\n",
       "    }\n",
       "\n",
       "    .dataframe tbody tr th {\n",
       "        vertical-align: top;\n",
       "    }\n",
       "\n",
       "    .dataframe thead th {\n",
       "        text-align: right;\n",
       "    }\n",
       "</style>\n",
       "<table border=\"1\" class=\"dataframe\">\n",
       "  <thead>\n",
       "    <tr style=\"text-align: right;\">\n",
       "      <th></th>\n",
       "      <th>cohort</th>\n",
       "      <th>device_id</th>\n",
       "      <th>first_buy</th>\n",
       "      <th>days_diff</th>\n",
       "    </tr>\n",
       "  </thead>\n",
       "  <tbody>\n",
       "    <tr>\n",
       "      <th>0</th>\n",
       "      <td>2020-01-01</td>\n",
       "      <td>4921563</td>\n",
       "      <td>2020-01-10</td>\n",
       "      <td>9 days</td>\n",
       "    </tr>\n",
       "    <tr>\n",
       "      <th>1</th>\n",
       "      <td>2020-01-01</td>\n",
       "      <td>1311583</td>\n",
       "      <td>NaT</td>\n",
       "      <td>0 days</td>\n",
       "    </tr>\n",
       "    <tr>\n",
       "      <th>2</th>\n",
       "      <td>2020-01-01</td>\n",
       "      <td>23006325</td>\n",
       "      <td>2020-01-01</td>\n",
       "      <td>0 days</td>\n",
       "    </tr>\n",
       "    <tr>\n",
       "      <th>3</th>\n",
       "      <td>2020-01-01</td>\n",
       "      <td>5645652</td>\n",
       "      <td>NaT</td>\n",
       "      <td>0 days</td>\n",
       "    </tr>\n",
       "    <tr>\n",
       "      <th>4</th>\n",
       "      <td>2020-01-01</td>\n",
       "      <td>8798567</td>\n",
       "      <td>NaT</td>\n",
       "      <td>0 days</td>\n",
       "    </tr>\n",
       "    <tr>\n",
       "      <th>...</th>\n",
       "      <td>...</td>\n",
       "      <td>...</td>\n",
       "      <td>...</td>\n",
       "      <td>...</td>\n",
       "    </tr>\n",
       "    <tr>\n",
       "      <th>154592</th>\n",
       "      <td>2020-03-31</td>\n",
       "      <td>19717968</td>\n",
       "      <td>NaT</td>\n",
       "      <td>0 days</td>\n",
       "    </tr>\n",
       "    <tr>\n",
       "      <th>154593</th>\n",
       "      <td>2020-03-31</td>\n",
       "      <td>32966665</td>\n",
       "      <td>NaT</td>\n",
       "      <td>0 days</td>\n",
       "    </tr>\n",
       "    <tr>\n",
       "      <th>154594</th>\n",
       "      <td>2020-03-31</td>\n",
       "      <td>6335964</td>\n",
       "      <td>NaT</td>\n",
       "      <td>0 days</td>\n",
       "    </tr>\n",
       "    <tr>\n",
       "      <th>154595</th>\n",
       "      <td>2020-03-31</td>\n",
       "      <td>29155826</td>\n",
       "      <td>NaT</td>\n",
       "      <td>0 days</td>\n",
       "    </tr>\n",
       "    <tr>\n",
       "      <th>154596</th>\n",
       "      <td>2020-03-31</td>\n",
       "      <td>35057676</td>\n",
       "      <td>2020-03-31</td>\n",
       "      <td>0 days</td>\n",
       "    </tr>\n",
       "  </tbody>\n",
       "</table>\n",
       "<p>154597 rows × 4 columns</p>\n",
       "</div>"
      ],
      "text/plain": [
       "           cohort  device_id  first_buy days_diff\n",
       "0      2020-01-01    4921563 2020-01-10    9 days\n",
       "1      2020-01-01    1311583        NaT    0 days\n",
       "2      2020-01-01   23006325 2020-01-01    0 days\n",
       "3      2020-01-01    5645652        NaT    0 days\n",
       "4      2020-01-01    8798567        NaT    0 days\n",
       "...           ...        ...        ...       ...\n",
       "154592 2020-03-31   19717968        NaT    0 days\n",
       "154593 2020-03-31   32966665        NaT    0 days\n",
       "154594 2020-03-31    6335964        NaT    0 days\n",
       "154595 2020-03-31   29155826        NaT    0 days\n",
       "154596 2020-03-31   35057676 2020-03-31    0 days\n",
       "\n",
       "[154597 rows x 4 columns]"
      ]
     },
     "execution_count": 159,
     "metadata": {},
     "output_type": "execute_result"
    }
   ],
   "source": [
    "# считаем кол-во дней с момента покупки \n",
    "merged_table['days_diff'] = merged_table.first_buy - merged_table.cohort\n",
    "merged_table['days_diff'] = merged_table.days_diff.fillna(pd.Timedelta(seconds=0))\n",
    "merged_table"
   ]
  },
  {
   "cell_type": "code",
   "execution_count": 160,
   "metadata": {},
   "outputs": [
    {
     "data": {
      "text/html": [
       "<div>\n",
       "<style scoped>\n",
       "    .dataframe tbody tr th:only-of-type {\n",
       "        vertical-align: middle;\n",
       "    }\n",
       "\n",
       "    .dataframe tbody tr th {\n",
       "        vertical-align: top;\n",
       "    }\n",
       "\n",
       "    .dataframe thead th {\n",
       "        text-align: right;\n",
       "    }\n",
       "</style>\n",
       "<table border=\"1\" class=\"dataframe\">\n",
       "  <thead>\n",
       "    <tr style=\"text-align: right;\">\n",
       "      <th></th>\n",
       "      <th>cohort</th>\n",
       "      <th>device_id</th>\n",
       "      <th>first_buy</th>\n",
       "      <th>days_diff</th>\n",
       "      <th>t/f</th>\n",
       "    </tr>\n",
       "  </thead>\n",
       "  <tbody>\n",
       "    <tr>\n",
       "      <th>0</th>\n",
       "      <td>2020-01-01</td>\n",
       "      <td>4921563</td>\n",
       "      <td>2020-01-10</td>\n",
       "      <td>9 days</td>\n",
       "      <td>0</td>\n",
       "    </tr>\n",
       "    <tr>\n",
       "      <th>1</th>\n",
       "      <td>2020-01-01</td>\n",
       "      <td>1311583</td>\n",
       "      <td>NaT</td>\n",
       "      <td>0 days</td>\n",
       "      <td>0</td>\n",
       "    </tr>\n",
       "    <tr>\n",
       "      <th>2</th>\n",
       "      <td>2020-01-01</td>\n",
       "      <td>23006325</td>\n",
       "      <td>2020-01-01</td>\n",
       "      <td>0 days</td>\n",
       "      <td>1</td>\n",
       "    </tr>\n",
       "    <tr>\n",
       "      <th>3</th>\n",
       "      <td>2020-01-01</td>\n",
       "      <td>5645652</td>\n",
       "      <td>NaT</td>\n",
       "      <td>0 days</td>\n",
       "      <td>0</td>\n",
       "    </tr>\n",
       "    <tr>\n",
       "      <th>4</th>\n",
       "      <td>2020-01-01</td>\n",
       "      <td>8798567</td>\n",
       "      <td>NaT</td>\n",
       "      <td>0 days</td>\n",
       "      <td>0</td>\n",
       "    </tr>\n",
       "    <tr>\n",
       "      <th>...</th>\n",
       "      <td>...</td>\n",
       "      <td>...</td>\n",
       "      <td>...</td>\n",
       "      <td>...</td>\n",
       "      <td>...</td>\n",
       "    </tr>\n",
       "    <tr>\n",
       "      <th>154592</th>\n",
       "      <td>2020-03-31</td>\n",
       "      <td>19717968</td>\n",
       "      <td>NaT</td>\n",
       "      <td>0 days</td>\n",
       "      <td>0</td>\n",
       "    </tr>\n",
       "    <tr>\n",
       "      <th>154593</th>\n",
       "      <td>2020-03-31</td>\n",
       "      <td>32966665</td>\n",
       "      <td>NaT</td>\n",
       "      <td>0 days</td>\n",
       "      <td>0</td>\n",
       "    </tr>\n",
       "    <tr>\n",
       "      <th>154594</th>\n",
       "      <td>2020-03-31</td>\n",
       "      <td>6335964</td>\n",
       "      <td>NaT</td>\n",
       "      <td>0 days</td>\n",
       "      <td>0</td>\n",
       "    </tr>\n",
       "    <tr>\n",
       "      <th>154595</th>\n",
       "      <td>2020-03-31</td>\n",
       "      <td>29155826</td>\n",
       "      <td>NaT</td>\n",
       "      <td>0 days</td>\n",
       "      <td>0</td>\n",
       "    </tr>\n",
       "    <tr>\n",
       "      <th>154596</th>\n",
       "      <td>2020-03-31</td>\n",
       "      <td>35057676</td>\n",
       "      <td>2020-03-31</td>\n",
       "      <td>0 days</td>\n",
       "      <td>1</td>\n",
       "    </tr>\n",
       "  </tbody>\n",
       "</table>\n",
       "<p>154597 rows × 5 columns</p>\n",
       "</div>"
      ],
      "text/plain": [
       "           cohort  device_id  first_buy days_diff  t/f\n",
       "0      2020-01-01    4921563 2020-01-10    9 days    0\n",
       "1      2020-01-01    1311583        NaT    0 days    0\n",
       "2      2020-01-01   23006325 2020-01-01    0 days    1\n",
       "3      2020-01-01    5645652        NaT    0 days    0\n",
       "4      2020-01-01    8798567        NaT    0 days    0\n",
       "...           ...        ...        ...       ...  ...\n",
       "154592 2020-03-31   19717968        NaT    0 days    0\n",
       "154593 2020-03-31   32966665        NaT    0 days    0\n",
       "154594 2020-03-31    6335964        NaT    0 days    0\n",
       "154595 2020-03-31   29155826        NaT    0 days    0\n",
       "154596 2020-03-31   35057676 2020-03-31    0 days    1\n",
       "\n",
       "[154597 rows x 5 columns]"
      ]
     },
     "execution_count": 160,
     "metadata": {},
     "output_type": "execute_result"
    }
   ],
   "source": [
    "# создаем столбец True/False, который показывает соотвествие условию - покупка в течении 7дней\n",
    "merged_table['t/f'] = (merged_table.first_buy.notna()) & (merged_table.days_diff <= '7days')\n",
    "merged_table[\"t/f\"] = merged_table[\"t/f\"].astype(int)\n",
    "merged_table"
   ]
  },
  {
   "cell_type": "code",
   "execution_count": 161,
   "metadata": {},
   "outputs": [
    {
     "data": {
      "text/html": [
       "<div>\n",
       "<style scoped>\n",
       "    .dataframe tbody tr th:only-of-type {\n",
       "        vertical-align: middle;\n",
       "    }\n",
       "\n",
       "    .dataframe tbody tr th {\n",
       "        vertical-align: top;\n",
       "    }\n",
       "\n",
       "    .dataframe thead th {\n",
       "        text-align: right;\n",
       "    }\n",
       "</style>\n",
       "<table border=\"1\" class=\"dataframe\">\n",
       "  <thead>\n",
       "    <tr style=\"text-align: right;\">\n",
       "      <th></th>\n",
       "      <th>cohort</th>\n",
       "      <th>device_id</th>\n",
       "      <th>t/f</th>\n",
       "      <th>cr_%</th>\n",
       "    </tr>\n",
       "  </thead>\n",
       "  <tbody>\n",
       "    <tr>\n",
       "      <th>0</th>\n",
       "      <td>2020-01-01</td>\n",
       "      <td>3579</td>\n",
       "      <td>1408</td>\n",
       "      <td>39.3</td>\n",
       "    </tr>\n",
       "    <tr>\n",
       "      <th>1</th>\n",
       "      <td>2020-01-02</td>\n",
       "      <td>3144</td>\n",
       "      <td>1186</td>\n",
       "      <td>37.7</td>\n",
       "    </tr>\n",
       "    <tr>\n",
       "      <th>2</th>\n",
       "      <td>2020-01-03</td>\n",
       "      <td>2402</td>\n",
       "      <td>834</td>\n",
       "      <td>34.7</td>\n",
       "    </tr>\n",
       "    <tr>\n",
       "      <th>3</th>\n",
       "      <td>2020-01-04</td>\n",
       "      <td>1831</td>\n",
       "      <td>639</td>\n",
       "      <td>34.9</td>\n",
       "    </tr>\n",
       "    <tr>\n",
       "      <th>4</th>\n",
       "      <td>2020-01-05</td>\n",
       "      <td>1671</td>\n",
       "      <td>587</td>\n",
       "      <td>35.1</td>\n",
       "    </tr>\n",
       "    <tr>\n",
       "      <th>...</th>\n",
       "      <td>...</td>\n",
       "      <td>...</td>\n",
       "      <td>...</td>\n",
       "      <td>...</td>\n",
       "    </tr>\n",
       "    <tr>\n",
       "      <th>86</th>\n",
       "      <td>2020-03-27</td>\n",
       "      <td>1199</td>\n",
       "      <td>277</td>\n",
       "      <td>23.1</td>\n",
       "    </tr>\n",
       "    <tr>\n",
       "      <th>87</th>\n",
       "      <td>2020-03-28</td>\n",
       "      <td>1091</td>\n",
       "      <td>209</td>\n",
       "      <td>19.2</td>\n",
       "    </tr>\n",
       "    <tr>\n",
       "      <th>88</th>\n",
       "      <td>2020-03-29</td>\n",
       "      <td>1117</td>\n",
       "      <td>223</td>\n",
       "      <td>20.0</td>\n",
       "    </tr>\n",
       "    <tr>\n",
       "      <th>89</th>\n",
       "      <td>2020-03-30</td>\n",
       "      <td>994</td>\n",
       "      <td>204</td>\n",
       "      <td>20.5</td>\n",
       "    </tr>\n",
       "    <tr>\n",
       "      <th>90</th>\n",
       "      <td>2020-03-31</td>\n",
       "      <td>968</td>\n",
       "      <td>241</td>\n",
       "      <td>24.9</td>\n",
       "    </tr>\n",
       "  </tbody>\n",
       "</table>\n",
       "<p>91 rows × 4 columns</p>\n",
       "</div>"
      ],
      "text/plain": [
       "       cohort  device_id   t/f  cr_%\n",
       "0  2020-01-01       3579  1408  39.3\n",
       "1  2020-01-02       3144  1186  37.7\n",
       "2  2020-01-03       2402   834  34.7\n",
       "3  2020-01-04       1831   639  34.9\n",
       "4  2020-01-05       1671   587  35.1\n",
       "..        ...        ...   ...   ...\n",
       "86 2020-03-27       1199   277  23.1\n",
       "87 2020-03-28       1091   209  19.2\n",
       "88 2020-03-29       1117   223  20.0\n",
       "89 2020-03-30        994   204  20.5\n",
       "90 2020-03-31        968   241  24.9\n",
       "\n",
       "[91 rows x 4 columns]"
      ]
     },
     "execution_count": 161,
     "metadata": {},
     "output_type": "execute_result"
    }
   ],
   "source": [
    "# считаем конверсию\n",
    "merged_table = merged_table.groupby('cohort', as_index=False).agg({'device_id' : 'count', 't/f' : 'sum'})\n",
    "merged_table['cr_%'] = round(merged_table['t/f'] / merged_table.device_id * 100, 1)\n",
    "merged_table.sort_values(by='cr_%')\n",
    "merged_table"
   ]
  },
  {
   "attachments": {},
   "cell_type": "markdown",
   "metadata": {},
   "source": [
    "С какого платного маркетингового канала пришло больше всего новых пользователей? "
   ]
  },
  {
   "cell_type": "code",
   "execution_count": 162,
   "metadata": {},
   "outputs": [
    {
     "data": {
      "text/plain": [
       "'yandex-direct'"
      ]
     },
     "execution_count": 162,
     "metadata": {},
     "output_type": "execute_result"
    }
   ],
   "source": [
    "df.query(\"utm_source != '-'\").groupby('utm_source')['device_id'].nunique().idxmax()"
   ]
  },
  {
   "attachments": {},
   "cell_type": "markdown",
   "metadata": {},
   "source": [
    "Пользователи, пришедшие с каких каналов, показали самую низкую конверсию в первую покупку?"
   ]
  },
  {
   "cell_type": "code",
   "execution_count": 163,
   "metadata": {},
   "outputs": [],
   "source": [
    "# первая покупка в разбивке по UTM\n",
    "purchase = df.query('event == \"purchase\"').groupby(['device_id', 'utm_source'], as_index=False)['date'].min() \\\n",
    "    .groupby('utm_source', as_index=False)['device_id'].count()"
   ]
  },
  {
   "cell_type": "code",
   "execution_count": 164,
   "metadata": {},
   "outputs": [],
   "source": [
    "# первый запуск приложения в разбивке по UTM\n",
    "app_start = df.query('event == \"app_start\"').groupby(['device_id', 'utm_source'], as_index=False)['date'].min() \\\n",
    "    .groupby('utm_source', as_index=False)['device_id'].count()"
   ]
  },
  {
   "cell_type": "code",
   "execution_count": 165,
   "metadata": {},
   "outputs": [
    {
     "data": {
      "text/plain": [
       "'yandex-direct'"
      ]
     },
     "execution_count": 165,
     "metadata": {},
     "output_type": "execute_result"
    }
   ],
   "source": [
    "# объединим данные в одну таблицу и посчитаем конверсию\n",
    "table = purchase.merge(app_start, on='utm_source') \\\n",
    "  .rename(columns={\"device_id_x\": \"c_purchase\", \"device_id_y\": \"c_app_start\"})\n",
    "\n",
    "table['CR'] = table.c_purchase / table.c_app_start\n",
    "# найдем канал с самой низкой конверсией\n",
    "table.query(\"utm_source != '-'\").set_index(\"utm_source\").CR.idxmin()\n"
   ]
  },
  {
   "attachments": {},
   "cell_type": "markdown",
   "metadata": {},
   "source": [
    "Пользователи, пришедшие с какого канала, имеют медианный первый чек выше? (учитываются только первые покупки пользователей)"
   ]
  },
  {
   "cell_type": "code",
   "execution_count": 176,
   "metadata": {},
   "outputs": [
    {
     "data": {
      "text/html": [
       "<div>\n",
       "<style scoped>\n",
       "    .dataframe tbody tr th:only-of-type {\n",
       "        vertical-align: middle;\n",
       "    }\n",
       "\n",
       "    .dataframe tbody tr th {\n",
       "        vertical-align: top;\n",
       "    }\n",
       "\n",
       "    .dataframe thead th {\n",
       "        text-align: right;\n",
       "    }\n",
       "</style>\n",
       "<table border=\"1\" class=\"dataframe\">\n",
       "  <thead>\n",
       "    <tr style=\"text-align: right;\">\n",
       "      <th></th>\n",
       "      <th>utm_source</th>\n",
       "      <th>purchase_sum</th>\n",
       "    </tr>\n",
       "  </thead>\n",
       "  <tbody>\n",
       "    <tr>\n",
       "      <th>2</th>\n",
       "      <td>google_ads</td>\n",
       "      <td>390.0</td>\n",
       "    </tr>\n",
       "    <tr>\n",
       "      <th>1</th>\n",
       "      <td>facebook_ads</td>\n",
       "      <td>390.5</td>\n",
       "    </tr>\n",
       "    <tr>\n",
       "      <th>6</th>\n",
       "      <td>yandex-direct</td>\n",
       "      <td>392.5</td>\n",
       "    </tr>\n",
       "    <tr>\n",
       "      <th>5</th>\n",
       "      <td>vk_ads</td>\n",
       "      <td>393.0</td>\n",
       "    </tr>\n",
       "    <tr>\n",
       "      <th>3</th>\n",
       "      <td>instagram_ads</td>\n",
       "      <td>393.5</td>\n",
       "    </tr>\n",
       "    <tr>\n",
       "      <th>4</th>\n",
       "      <td>referal</td>\n",
       "      <td>395.0</td>\n",
       "    </tr>\n",
       "    <tr>\n",
       "      <th>0</th>\n",
       "      <td>-</td>\n",
       "      <td>398.5</td>\n",
       "    </tr>\n",
       "  </tbody>\n",
       "</table>\n",
       "</div>"
      ],
      "text/plain": [
       "      utm_source  purchase_sum\n",
       "2     google_ads         390.0\n",
       "1   facebook_ads         390.5\n",
       "6  yandex-direct         392.5\n",
       "5         vk_ads         393.0\n",
       "3  instagram_ads         393.5\n",
       "4        referal         395.0\n",
       "0              -         398.5"
      ]
     },
     "execution_count": 176,
     "metadata": {},
     "output_type": "execute_result"
    }
   ],
   "source": [
    "# с помощью head вытащим данные по первым первым покупкам. затем посчитаем медиану\n",
    "first_median_cheque = df.query('event == \"purchase\"').sort_values(by='date').groupby(['device_id', 'utm_source'], as_index=False).head(1) \\\n",
    "    .groupby('utm_source', as_index=False)['purchase_sum'].median() \\\n",
    "     .sort_values(by='purchase_sum')\n",
    "\n",
    "first_median_cheque"
   ]
  },
  {
   "cell_type": "code",
   "execution_count": 179,
   "metadata": {},
   "outputs": [
    {
     "data": {
      "text/plain": [
       "'referal'"
      ]
     },
     "execution_count": 179,
     "metadata": {},
     "output_type": "execute_result"
    }
   ],
   "source": [
    "first_median_cheque.query(\"utm_source != '-'\").set_index(\"utm_source\").purchase_sum.idxmax()"
   ]
  },
  {
   "attachments": {},
   "cell_type": "markdown",
   "metadata": {},
   "source": [
    "Данные по затратам на рекламу:\n",
    "\n",
    "Яндекс – 10 491 707 руб.\n",
    "\n",
    "Гугл – 10 534 878 руб.\n",
    "\n",
    "Фейсбук – 8 590 498 руб.\n",
    "\n",
    "Инстаграм – 8 561626 руб.\n",
    "\n",
    "ВК – 9 553 531руб.\n",
    "\n",
    "Расходы на реферальную программу: если пользователь приведет друга и последний совершит первую покупку, то оба получат по 100 рублей.\n",
    "\n",
    "**Какой платный канал привлечения (среди рекламных) имеет самый высокий ROMI?**"
   ]
  },
  {
   "attachments": {
    "image.png": {
     "image/png": "[encoded data removed]"
    }
   },
   "cell_type": "markdown",
   "metadata": {},
   "source": [
    "![image.png](attachment:image.png)"
   ]
  },
  {
   "cell_type": "code",
   "execution_count": 169,
   "metadata": {},
   "outputs": [],
   "source": [
    "utm_revenue = df.groupby('utm_source')['purchase_sum'].sum()"
   ]
  },
  {
   "cell_type": "code",
   "execution_count": 170,
   "metadata": {},
   "outputs": [
    {
     "data": {
      "text/plain": [
       "utm_source\n",
       "-                21449749.5\n",
       "facebook_ads     12249901.0\n",
       "google_ads       12868276.0\n",
       "instagram_ads    14546969.0\n",
       "referal           8837044.5\n",
       "vk_ads           16389652.5\n",
       "yandex-direct    13915368.0\n",
       "Name: purchase_sum, dtype: float64"
      ]
     },
     "execution_count": 170,
     "metadata": {},
     "output_type": "execute_result"
    }
   ],
   "source": [
    "utm_revenue"
   ]
  },
  {
   "cell_type": "code",
   "execution_count": 171,
   "metadata": {},
   "outputs": [
    {
     "data": {
      "text/plain": [
       "yandex-direct    10491707\n",
       "google_ads       10534878\n",
       "facebook_ads      8590498\n",
       "instagram_ads     8561626\n",
       "vk_ads            9553531\n",
       "Name: marketing_cost, dtype: int64"
      ]
     },
     "execution_count": 171,
     "metadata": {},
     "output_type": "execute_result"
    }
   ],
   "source": [
    "dictionary = {\n",
    "    'yandex-direct' : 10491707,\n",
    "    'google_ads' : 10534878,\n",
    "    'facebook_ads' : 8590498,\n",
    "    'instagram_ads' : 8561626,\n",
    "    'vk_ads' : 9553531\n",
    "    }\n",
    "\n",
    "marketing_cost = pd.Series(dictionary, name='marketing_cost')\n",
    "marketing_cost"
   ]
  },
  {
   "cell_type": "code",
   "execution_count": 172,
   "metadata": {},
   "outputs": [
    {
     "data": {
      "text/html": [
       "<div>\n",
       "<style scoped>\n",
       "    .dataframe tbody tr th:only-of-type {\n",
       "        vertical-align: middle;\n",
       "    }\n",
       "\n",
       "    .dataframe tbody tr th {\n",
       "        vertical-align: top;\n",
       "    }\n",
       "\n",
       "    .dataframe thead th {\n",
       "        text-align: right;\n",
       "    }\n",
       "</style>\n",
       "<table border=\"1\" class=\"dataframe\">\n",
       "  <thead>\n",
       "    <tr style=\"text-align: right;\">\n",
       "      <th></th>\n",
       "      <th>marketing_cost</th>\n",
       "      <th>purchase_sum</th>\n",
       "    </tr>\n",
       "  </thead>\n",
       "  <tbody>\n",
       "    <tr>\n",
       "      <th>yandex-direct</th>\n",
       "      <td>10491707.0</td>\n",
       "      <td>13915368.0</td>\n",
       "    </tr>\n",
       "    <tr>\n",
       "      <th>google_ads</th>\n",
       "      <td>10534878.0</td>\n",
       "      <td>12868276.0</td>\n",
       "    </tr>\n",
       "    <tr>\n",
       "      <th>facebook_ads</th>\n",
       "      <td>8590498.0</td>\n",
       "      <td>12249901.0</td>\n",
       "    </tr>\n",
       "    <tr>\n",
       "      <th>instagram_ads</th>\n",
       "      <td>8561626.0</td>\n",
       "      <td>14546969.0</td>\n",
       "    </tr>\n",
       "    <tr>\n",
       "      <th>vk_ads</th>\n",
       "      <td>9553531.0</td>\n",
       "      <td>16389652.5</td>\n",
       "    </tr>\n",
       "    <tr>\n",
       "      <th>-</th>\n",
       "      <td>NaN</td>\n",
       "      <td>21449749.5</td>\n",
       "    </tr>\n",
       "    <tr>\n",
       "      <th>referal</th>\n",
       "      <td>NaN</td>\n",
       "      <td>8837044.5</td>\n",
       "    </tr>\n",
       "  </tbody>\n",
       "</table>\n",
       "</div>"
      ],
      "text/plain": [
       "               marketing_cost  purchase_sum\n",
       "yandex-direct      10491707.0    13915368.0\n",
       "google_ads         10534878.0    12868276.0\n",
       "facebook_ads        8590498.0    12249901.0\n",
       "instagram_ads       8561626.0    14546969.0\n",
       "vk_ads              9553531.0    16389652.5\n",
       "-                         NaN    21449749.5\n",
       "referal                   NaN     8837044.5"
      ]
     },
     "execution_count": 172,
     "metadata": {},
     "output_type": "execute_result"
    }
   ],
   "source": [
    "finance = pd.concat([marketing_cost, utm_revenue], axis=1, names=['marketing_cost','utm_revenue'])\n",
    "finance"
   ]
  },
  {
   "cell_type": "code",
   "execution_count": 173,
   "metadata": {},
   "outputs": [],
   "source": [
    "finance['ROMI'] = round((finance.purchase_sum - finance.marketing_cost) / marketing_cost, 4)"
   ]
  },
  {
   "cell_type": "code",
   "execution_count": 174,
   "metadata": {},
   "outputs": [
    {
     "data": {
      "text/plain": [
       "'vk_ads'"
      ]
     },
     "execution_count": 174,
     "metadata": {},
     "output_type": "execute_result"
    }
   ],
   "source": [
    "finance.idxmax()['ROMI']"
   ]
  }
 ],
 "metadata": {
  "kernelspec": {
   "display_name": "base",
   "language": "python",
   "name": "python3"
  },
  "language_info": {
   "codemirror_mode": {
    "name": "ipython",
    "version": 3
   },
   "file_extension": ".py",
   "mimetype": "text/x-python",
   "name": "python",
   "nbconvert_exporter": "python",
   "pygments_lexer": "ipython3",
   "version": "3.9.12"
  },
  "vscode": {
   "interpreter": {
    "hash": "6f5583cf1d9466b5c27e75c89cc6b383bed5736d6b16c51c8074d8690011a952"
   }
  }
 },
 "nbformat": 4,
 "nbformat_minor": 4
}
